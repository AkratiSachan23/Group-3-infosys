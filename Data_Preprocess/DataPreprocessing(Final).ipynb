{
 "cells": [
  {
   "cell_type": "markdown",
   "id": "b557e9a5",
   "metadata": {},
   "source": [
    "# Data Preprocessing"
   ]
  },
  {
   "cell_type": "markdown",
<<<<<<< HEAD
   "id": "7005d7a9",
   "metadata": {},
   "source": [
    "## Installing Necessary Libraries"
   ]
  },
  {
   "cell_type": "code",
   "execution_count": 1,
   "id": "32b07a24",
   "metadata": {},
   "outputs": [
    {
     "name": "stdout",
     "output_type": "stream",
     "text": [
      "Requirement already satisfied: stop_words in ./anaconda3/lib/python3.11/site-packages (2018.7.23)\n",
      "Note: you may need to restart the kernel to use updated packages.\n"
     ]
    }
   ],
   "source": [
    "pip install stop_words"
   ]
  },
  {
   "cell_type": "code",
   "execution_count": 2,
   "id": "5ec0ea9f",
   "metadata": {},
   "outputs": [
    {
     "name": "stdout",
     "output_type": "stream",
     "text": [
      "Requirement already satisfied: autocorrect in ./anaconda3/lib/python3.11/site-packages (2.6.1)\n",
      "Note: you may need to restart the kernel to use updated packages.\n"
     ]
    }
   ],
   "source": [
    "pip install autocorrect"
   ]
  },
  {
   "cell_type": "code",
   "execution_count": 3,
   "id": "f5aef525",
   "metadata": {
    "scrolled": true
   },
   "outputs": [
    {
     "name": "stdout",
     "output_type": "stream",
     "text": [
      "Requirement already satisfied: pyspellchecker in ./anaconda3/lib/python3.11/site-packages (0.8.1)\n",
      "Note: you may need to restart the kernel to use updated packages.\n"
     ]
    }
   ],
   "source": [
    "pip install pyspellchecker"
   ]
  },
  {
   "cell_type": "code",
   "execution_count": 4,
   "id": "375306ef",
   "metadata": {
    "scrolled": true
   },
   "outputs": [
    {
     "name": "stdout",
     "output_type": "stream",
     "text": [
      "Requirement already satisfied: demoji in ./anaconda3/lib/python3.11/site-packages (1.1.0)\n",
      "Note: you may need to restart the kernel to use updated packages.\n"
     ]
    }
   ],
   "source": [
    "pip install demoji"
   ]
  },
  {
   "cell_type": "code",
   "execution_count": 5,
   "id": "3133924b",
   "metadata": {},
   "outputs": [
    {
     "name": "stdout",
     "output_type": "stream",
     "text": [
      "Requirement already satisfied: emoji in ./anaconda3/lib/python3.11/site-packages (2.12.1)\n",
      "Requirement already satisfied: typing-extensions>=4.7.0 in ./anaconda3/lib/python3.11/site-packages (from emoji) (4.7.1)\n",
      "Note: you may need to restart the kernel to use updated packages.\n"
     ]
    }
   ],
   "source": [
    "pip install emoji"
   ]
  },
  {
   "cell_type": "markdown",
=======
>>>>>>> main
   "id": "51a7206b",
   "metadata": {},
   "source": [
    "## Importing Libraries"
   ]
  },
  {
   "cell_type": "code",
   "execution_count": 1,
   "id": "9fd1f3bd",
   "metadata": {},
   "outputs": [
    {
     "name": "stderr",
     "output_type": "stream",
     "text": [
<<<<<<< HEAD
      "[nltk_data] Downloading package punkt to /Users/CRYPTO/nltk_data...\n",
      "[nltk_data]   Package punkt is already up-to-date!\n",
      "[nltk_data] Downloading package wordnet to /Users/CRYPTO/nltk_data...\n",
=======
      "[nltk_data] Downloading package punkt to C:\\Users\\Aman Shekhar\n",
      "[nltk_data]     Sachan\\AppData\\Roaming\\nltk_data...\n",
      "[nltk_data]   Package punkt is already up-to-date!\n",
      "[nltk_data] Downloading package wordnet to C:\\Users\\Aman Shekhar\n",
      "[nltk_data]     Sachan\\AppData\\Roaming\\nltk_data...\n",
>>>>>>> main
      "[nltk_data]   Package wordnet is already up-to-date!\n"
     ]
    }
   ],
   "source": [
    "from concurrent.futures import ThreadPoolExecutor\n",
    "from tqdm.notebook import tqdm\n",
    "tqdm.pandas()\n",
    "import numpy as np\n",
    "import pandas as pd\n",
    "import re\n",
    "import matplotlib.pyplot as plt\n",
    "import seaborn as sns\n",
    "import string\n",
    "from stop_words import get_stop_words\n",
<<<<<<< HEAD
    "import demoji\n",
    "import emoji\n",
=======
>>>>>>> main
    "from nltk.tokenize import word_tokenize\n",
    "import nltk\n",
    "nltk.download('punkt')\n",
    "from nltk.stem import SnowballStemmer\n",
    "stemmer = SnowballStemmer(language='english')\n",
    "nltk.download('wordnet')\n",
    "from nltk.stem import WordNetLemmatizer\n",
    "from autocorrect import Speller"
   ]
  },
  {
   "cell_type": "markdown",
   "id": "dcb4b83d",
   "metadata": {},
   "source": [
    "## Analyze the Dataset"
   ]
  },
  {
   "cell_type": "code",
   "execution_count": 2,
   "id": "cf5d52ea",
   "metadata": {
    "scrolled": true
   },
   "outputs": [],
   "source": [
    "df = pd.read_csv('Original_Reddit.csv')"
   ]
  },
  {
   "cell_type": "code",
   "execution_count": 3,
   "id": "9f185787",
   "metadata": {},
   "outputs": [
    {
     "data": {
      "text/html": [
       "<div>\n",
       "<style scoped>\n",
       "    .dataframe tbody tr th:only-of-type {\n",
       "        vertical-align: middle;\n",
       "    }\n",
       "\n",
       "    .dataframe tbody tr th {\n",
       "        vertical-align: top;\n",
       "    }\n",
       "\n",
       "    .dataframe thead th {\n",
       "        text-align: right;\n",
       "    }\n",
       "</style>\n",
       "<table border=\"1\" class=\"dataframe\">\n",
       "  <thead>\n",
       "    <tr style=\"text-align: right;\">\n",
       "      <th></th>\n",
       "      <th>id</th>\n",
       "      <th>text</th>\n",
       "      <th>hate_speech_idx</th>\n",
       "      <th>response</th>\n",
       "    </tr>\n",
       "  </thead>\n",
       "  <tbody>\n",
       "    <tr>\n",
       "      <th>0</th>\n",
       "      <td>1. e8q18lf\\n2. \\te8q9w5s\\n3. \\t\\te8qbobk\\n4. \\...</td>\n",
       "      <td>1. A subsection of retarded Hungarians? Ohh bo...</td>\n",
       "      <td>[1]</td>\n",
       "      <td>[\"I don't see a reason why it's okay to insult...</td>\n",
       "    </tr>\n",
       "    <tr>\n",
       "      <th>1</th>\n",
       "      <td>1. e9c6naz\\n2. \\te9d03a5\\n3. \\t\\te9d8e4d\\n</td>\n",
       "      <td>1. &gt; \"y'all hear sumn?\"  by all means I live i...</td>\n",
       "      <td>[3]</td>\n",
       "      <td>['Persons with disabilities is the accepted te...</td>\n",
       "    </tr>\n",
       "    <tr>\n",
       "      <th>2</th>\n",
       "      <td>1. e84rl2i\\n2. \\te84w60l\\n3. \\t\\te8544rn\\n4. \\...</td>\n",
       "      <td>1. wouldn't the defenders or whatever they are...</td>\n",
       "      <td>NaN</td>\n",
       "      <td>NaN</td>\n",
       "    </tr>\n",
       "    <tr>\n",
       "      <th>3</th>\n",
       "      <td>1. e7kq72n\\n2. \\te7m24ar\\n</td>\n",
       "      <td>1. Because the Japanese aren't retarded and kn...</td>\n",
       "      <td>[1]</td>\n",
       "      <td>[\"It's not right for anyone of any gender to b...</td>\n",
       "    </tr>\n",
       "    <tr>\n",
       "      <th>4</th>\n",
       "      <td>1. e7hdgoh\\n2. \\te7iyj6a\\n3. \\t\\te7j6iho\\n4. \\...</td>\n",
       "      <td>1. That might be true if we didn't have an exa...</td>\n",
       "      <td>[2, 3]</td>\n",
       "      <td>[\"You shouldn't be bringing up sensitive topic...</td>\n",
       "    </tr>\n",
       "  </tbody>\n",
       "</table>\n",
       "</div>"
      ],
      "text/plain": [
       "                                                  id  \\\n",
       "0  1. e8q18lf\\n2. \\te8q9w5s\\n3. \\t\\te8qbobk\\n4. \\...   \n",
       "1         1. e9c6naz\\n2. \\te9d03a5\\n3. \\t\\te9d8e4d\\n   \n",
       "2  1. e84rl2i\\n2. \\te84w60l\\n3. \\t\\te8544rn\\n4. \\...   \n",
       "3                         1. e7kq72n\\n2. \\te7m24ar\\n   \n",
       "4  1. e7hdgoh\\n2. \\te7iyj6a\\n3. \\t\\te7j6iho\\n4. \\...   \n",
       "\n",
       "                                                text hate_speech_idx  \\\n",
       "0  1. A subsection of retarded Hungarians? Ohh bo...             [1]   \n",
       "1  1. > \"y'all hear sumn?\"  by all means I live i...             [3]   \n",
       "2  1. wouldn't the defenders or whatever they are...             NaN   \n",
       "3  1. Because the Japanese aren't retarded and kn...             [1]   \n",
       "4  1. That might be true if we didn't have an exa...          [2, 3]   \n",
       "\n",
       "                                            response  \n",
       "0  [\"I don't see a reason why it's okay to insult...  \n",
       "1  ['Persons with disabilities is the accepted te...  \n",
       "2                                                NaN  \n",
       "3  [\"It's not right for anyone of any gender to b...  \n",
       "4  [\"You shouldn't be bringing up sensitive topic...  "
      ]
     },
     "execution_count": 3,
     "metadata": {},
     "output_type": "execute_result"
    }
   ],
   "source": [
    "df.head()"
   ]
  },
  {
   "cell_type": "code",
   "execution_count": 4,
   "id": "83fb19ea",
   "metadata": {},
   "outputs": [
    {
     "name": "stdout",
     "output_type": "stream",
     "text": [
      "<class 'pandas.core.frame.DataFrame'>\n",
      "RangeIndex: 5020 entries, 0 to 5019\n",
      "Data columns (total 4 columns):\n",
      " #   Column           Non-Null Count  Dtype \n",
      "---  ------           --------------  ----- \n",
      " 0   id               5020 non-null   object\n",
      " 1   text             5020 non-null   object\n",
      " 2   hate_speech_idx  3847 non-null   object\n",
      " 3   response         3847 non-null   object\n",
      "dtypes: object(4)\n",
      "memory usage: 157.0+ KB\n"
     ]
    }
   ],
   "source": [
    "df.info()"
   ]
  },
  {
   "cell_type": "markdown",
   "id": "46dc79f7",
   "metadata": {},
   "source": [
    "### Each row of text contains more than 1 comment."
   ]
  },
  {
   "cell_type": "code",
   "execution_count": 5,
   "id": "d9d822a3",
   "metadata": {},
   "outputs": [
    {
     "data": {
      "text/plain": [
       "'1. Grammatical errors, overt racism, child prostitution.. It would appear we have a despicable moron on our hands. \\n'"
      ]
     },
     "execution_count": 5,
     "metadata": {},
     "output_type": "execute_result"
    }
   ],
   "source": [
    "df['text'][17]"
   ]
  },
  {
   "cell_type": "code",
   "execution_count": 6,
   "id": "3c460049",
   "metadata": {},
   "outputs": [
    {
     "data": {
      "text/plain": [
       "'1. > \"y\\'all hear sumn?\"  by all means I live in a small town rn (for work). 5k people here, originally a mining community. No one is protesting here. Nobody mentioned the protest today. Nobody here cares, they\\'re busy loving their family and working hard.  Thank god for the electoral college. Liberals think we don\\'t matter. \\n2. \\t[removed]\\n3. \\t\\tah a liberal has slipped in. you can tell because the first question asked was loaded and retarded.  >  What does \"working hard\" mean? Your political views get more validated by how much manual labour you put in?   where did I say that? and yes, of course you have no clue what \"working hard\" means. Few soyboys do.  > Based on your comment regarding the EC I guess you don\\'t really think that 2 mil majority of people who voted for Hillary don\\'t really matter.  I shouldn\\'t have to explain to you the point of the EC. If you want to talk to someone who is more patient with you than I am, you can check out AskThe_Donald. \\n'"
      ]
     },
     "execution_count": 6,
     "metadata": {},
     "output_type": "execute_result"
    }
   ],
   "source": [
    "df['text'][1]"
   ]
  },
  {
   "cell_type": "markdown",
   "id": "09d2e43c",
   "metadata": {},
   "source": [
    "### The corresponding hate speech index determines which comments are categorized as hate speech."
   ]
  },
  {
   "cell_type": "code",
   "execution_count": 7,
   "id": "ec9dee9f",
   "metadata": {},
   "outputs": [
    {
     "data": {
      "text/plain": [
       "nan"
      ]
     },
     "execution_count": 7,
     "metadata": {},
     "output_type": "execute_result"
    }
   ],
   "source": [
    "df['hate_speech_idx'][17]"
   ]
  },
  {
   "cell_type": "code",
   "execution_count": 8,
   "id": "2b2c2f93",
   "metadata": {
    "scrolled": true
   },
   "outputs": [
    {
     "data": {
      "text/plain": [
       "'[3]'"
      ]
     },
     "execution_count": 8,
     "metadata": {},
     "output_type": "execute_result"
    }
   ],
   "source": [
    "df['hate_speech_idx'][1]"
   ]
  },
  {
   "cell_type": "markdown",
   "id": "157fdd9d",
   "metadata": {},
   "source": [
    "### Statistics"
   ]
  },
  {
   "cell_type": "code",
   "execution_count": 9,
   "id": "472abd97",
   "metadata": {
    "scrolled": true
   },
   "outputs": [
    {
     "data": {
      "text/plain": [
       "count                   5020\n",
       "unique                  5002\n",
       "top       1. What a cunt. \\n\n",
       "freq                       4\n",
       "Name: text, dtype: object"
      ]
     },
     "execution_count": 9,
     "metadata": {},
     "output_type": "execute_result"
    }
   ],
   "source": [
    "df['text'].describe()"
   ]
  },
  {
   "cell_type": "code",
   "execution_count": 10,
   "id": "7a991594",
   "metadata": {},
   "outputs": [
    {
     "data": {
      "text/plain": [
       "count     3847\n",
       "unique     316\n",
       "top        [1]\n",
       "freq      1740\n",
       "Name: hate_speech_idx, dtype: object"
      ]
     },
     "execution_count": 10,
     "metadata": {},
     "output_type": "execute_result"
    }
   ],
   "source": [
    "df['hate_speech_idx'].describe()"
   ]
  },
  {
<<<<<<< HEAD
   "cell_type": "code",
   "execution_count": 11,
   "id": "0c092bb5",
   "metadata": {},
   "outputs": [
    {
     "data": {
      "text/html": [
       "<div>\n",
       "<style scoped>\n",
       "    .dataframe tbody tr th:only-of-type {\n",
       "        vertical-align: middle;\n",
       "    }\n",
       "\n",
       "    .dataframe tbody tr th {\n",
       "        vertical-align: top;\n",
       "    }\n",
       "\n",
       "    .dataframe thead th {\n",
       "        text-align: right;\n",
       "    }\n",
       "</style>\n",
       "<table border=\"1\" class=\"dataframe\">\n",
       "  <thead>\n",
       "    <tr style=\"text-align: right;\">\n",
       "      <th></th>\n",
       "      <th>id</th>\n",
       "      <th>text</th>\n",
       "      <th>hate_speech_idx</th>\n",
       "      <th>response</th>\n",
       "    </tr>\n",
       "  </thead>\n",
       "  <tbody>\n",
       "    <tr>\n",
       "      <th>count</th>\n",
       "      <td>5020</td>\n",
       "      <td>5020</td>\n",
       "      <td>3847</td>\n",
       "      <td>3847</td>\n",
       "    </tr>\n",
       "    <tr>\n",
       "      <th>unique</th>\n",
       "      <td>5015</td>\n",
       "      <td>5002</td>\n",
       "      <td>316</td>\n",
       "      <td>3838</td>\n",
       "    </tr>\n",
       "    <tr>\n",
       "      <th>top</th>\n",
       "      <td>1. e9ai3dh\\n</td>\n",
       "      <td>1. What a cunt. \\n</td>\n",
       "      <td>[1]</td>\n",
       "      <td>[\"You're disturbingly obsessed with women.\", '...</td>\n",
       "    </tr>\n",
       "    <tr>\n",
       "      <th>freq</th>\n",
       "      <td>2</td>\n",
       "      <td>4</td>\n",
       "      <td>1740</td>\n",
       "      <td>3</td>\n",
       "    </tr>\n",
       "  </tbody>\n",
       "</table>\n",
       "</div>"
      ],
      "text/plain": [
       "                  id                text hate_speech_idx  \\\n",
       "count           5020                5020            3847   \n",
       "unique          5015                5002             316   \n",
       "top     1. e9ai3dh\\n  1. What a cunt. \\n             [1]   \n",
       "freq               2                   4            1740   \n",
       "\n",
       "                                                 response  \n",
       "count                                                3847  \n",
       "unique                                               3838  \n",
       "top     [\"You're disturbingly obsessed with women.\", '...  \n",
       "freq                                                    3  "
      ]
     },
     "execution_count": 11,
     "metadata": {},
     "output_type": "execute_result"
    }
   ],
   "source": [
    "df.describe()"
   ]
  },
  {
=======
>>>>>>> main
   "cell_type": "markdown",
   "id": "5e866bcd",
   "metadata": {},
   "source": [
    "## Restructuring the Dataset"
   ]
  },
  {
   "cell_type": "markdown",
   "id": "5999637e",
   "metadata": {},
   "source": [
    "### Restructuring the dataset to have individual rows for each comment from a post, tagging them with a 1 if they contain hate speech and 0 if not."
   ]
  },
  {
   "cell_type": "code",
<<<<<<< HEAD
   "execution_count": 12,
=======
   "execution_count": 11,
>>>>>>> main
   "id": "53d344a0",
   "metadata": {},
   "outputs": [
    {
     "name": "stdout",
     "output_type": "stream",
     "text": [
      "Processing complete. New CSV file saved.\n"
     ]
    }
   ],
   "source": [
    "# Function to split comments and mark hate speech\n",
    "def process_comments(row):\n",
    "    # Using regex to find the pattern \"index. comment\"\n",
    "    pattern = re.compile(r'(\\d+)\\.\\s(.*?)(?=\\d+\\.\\s|$)', re.DOTALL)\n",
    "    matches = pattern.findall(row['text'])\n",
    "    \n",
    "    # Clean and split the hate_speech_idx column\n",
    "    hate_indices = list(map(int, re.sub(r'[^0-9,]', '', row['hate_speech_idx']).split(','))) if pd.notna(row['hate_speech_idx']) else []\n",
    "    \n",
    "    processed_data = []\n",
    "    \n",
    "    for index, comment in matches:\n",
    "        index = int(index)\n",
    "        comment = comment.strip()\n",
    "        is_hate_speech = 1 if index in hate_indices else 0\n",
    "        processed_data.append([index, comment, is_hate_speech])\n",
    "    \n",
    "    return processed_data\n",
    "\n",
    "processed_comments = df.apply(process_comments, axis=1)\n",
    "processed_comments = [item for sublist in processed_comments for item in sublist]\n",
    "new_df = pd.DataFrame(processed_comments, columns=['index','comment', 'hate_speech'])\n",
    "\n",
    "new_df.to_csv('Restructure_Reddit.csv', index=False)\n",
    "print(\"Processing complete. New CSV file saved.\")"
   ]
  },
  {
   "cell_type": "markdown",
   "id": "6ffae5dd",
   "metadata": {},
   "source": [
    "## Import Processed Dataset"
   ]
  },
  {
   "cell_type": "code",
<<<<<<< HEAD
   "execution_count": 13,
=======
   "execution_count": 12,
>>>>>>> main
   "id": "2c93f0e9",
   "metadata": {
    "scrolled": true
   },
   "outputs": [
    {
     "name": "stdout",
     "output_type": "stream",
     "text": [
      "Column names: Index(['index', 'comment', 'hate_speech'], dtype='object')\n"
     ]
    }
   ],
   "source": [
    "df = pd.read_csv('Restructure_Reddit.csv')\n",
    "print(\"Column names:\", df.columns)"
   ]
  },
  {
   "cell_type": "code",
<<<<<<< HEAD
   "execution_count": 14,
=======
   "execution_count": 13,
>>>>>>> main
   "id": "32e1ff22",
   "metadata": {},
   "outputs": [
    {
     "data": {
      "text/html": [
       "<div>\n",
       "<style scoped>\n",
       "    .dataframe tbody tr th:only-of-type {\n",
       "        vertical-align: middle;\n",
       "    }\n",
       "\n",
       "    .dataframe tbody tr th {\n",
       "        vertical-align: top;\n",
       "    }\n",
       "\n",
       "    .dataframe thead th {\n",
       "        text-align: right;\n",
       "    }\n",
       "</style>\n",
       "<table border=\"1\" class=\"dataframe\">\n",
       "  <thead>\n",
       "    <tr style=\"text-align: right;\">\n",
       "      <th></th>\n",
       "      <th>index</th>\n",
       "      <th>comment</th>\n",
       "      <th>hate_speech</th>\n",
       "    </tr>\n",
       "  </thead>\n",
       "  <tbody>\n",
       "    <tr>\n",
       "      <th>0</th>\n",
       "      <td>1</td>\n",
       "      <td>A subsection of retarded Hungarians? Ohh boy. ...</td>\n",
       "      <td>1</td>\n",
       "    </tr>\n",
       "    <tr>\n",
       "      <th>1</th>\n",
       "      <td>2</td>\n",
       "      <td>Hiii. Just got off work. 444 is mainly the typ...</td>\n",
       "      <td>0</td>\n",
       "    </tr>\n",
       "    <tr>\n",
       "      <th>2</th>\n",
       "      <td>3</td>\n",
       "      <td>wow i guess soyboys are the same in every country</td>\n",
       "      <td>0</td>\n",
       "    </tr>\n",
       "    <tr>\n",
       "      <th>3</th>\n",
       "      <td>4</td>\n",
       "      <td>Owen Benjamin's soyboy song goes for every cou...</td>\n",
       "      <td>0</td>\n",
       "    </tr>\n",
       "    <tr>\n",
       "      <th>4</th>\n",
       "      <td>1</td>\n",
       "      <td>&gt; \"y'all hear sumn?\"  by all means I live in a...</td>\n",
       "      <td>0</td>\n",
       "    </tr>\n",
       "  </tbody>\n",
       "</table>\n",
       "</div>"
      ],
      "text/plain": [
       "   index                                            comment  hate_speech\n",
       "0      1  A subsection of retarded Hungarians? Ohh boy. ...            1\n",
       "1      2  Hiii. Just got off work. 444 is mainly the typ...            0\n",
       "2      3  wow i guess soyboys are the same in every country            0\n",
       "3      4  Owen Benjamin's soyboy song goes for every cou...            0\n",
       "4      1  > \"y'all hear sumn?\"  by all means I live in a...            0"
      ]
     },
<<<<<<< HEAD
     "execution_count": 14,
=======
     "execution_count": 13,
>>>>>>> main
     "metadata": {},
     "output_type": "execute_result"
    }
   ],
   "source": [
    "df.head()"
   ]
  },
  {
   "cell_type": "code",
<<<<<<< HEAD
   "execution_count": 15,
=======
   "execution_count": 14,
>>>>>>> main
   "id": "205144d1",
   "metadata": {},
   "outputs": [],
   "source": [
    "df = df.drop(columns=['index'])"
   ]
  },
  {
   "cell_type": "code",
<<<<<<< HEAD
   "execution_count": 16,
=======
   "execution_count": 15,
>>>>>>> main
   "id": "54df9a90",
   "metadata": {},
   "outputs": [
    {
     "data": {
      "text/html": [
       "<div>\n",
       "<style scoped>\n",
       "    .dataframe tbody tr th:only-of-type {\n",
       "        vertical-align: middle;\n",
       "    }\n",
       "\n",
       "    .dataframe tbody tr th {\n",
       "        vertical-align: top;\n",
       "    }\n",
       "\n",
       "    .dataframe thead th {\n",
       "        text-align: right;\n",
       "    }\n",
       "</style>\n",
       "<table border=\"1\" class=\"dataframe\">\n",
       "  <thead>\n",
       "    <tr style=\"text-align: right;\">\n",
       "      <th></th>\n",
       "      <th>comment</th>\n",
       "      <th>hate_speech</th>\n",
       "    </tr>\n",
       "  </thead>\n",
       "  <tbody>\n",
       "    <tr>\n",
       "      <th>0</th>\n",
       "      <td>A subsection of retarded Hungarians? Ohh boy. ...</td>\n",
       "      <td>1</td>\n",
       "    </tr>\n",
       "    <tr>\n",
       "      <th>1</th>\n",
       "      <td>Hiii. Just got off work. 444 is mainly the typ...</td>\n",
       "      <td>0</td>\n",
       "    </tr>\n",
       "    <tr>\n",
       "      <th>2</th>\n",
       "      <td>wow i guess soyboys are the same in every country</td>\n",
       "      <td>0</td>\n",
       "    </tr>\n",
       "    <tr>\n",
       "      <th>3</th>\n",
       "      <td>Owen Benjamin's soyboy song goes for every cou...</td>\n",
       "      <td>0</td>\n",
       "    </tr>\n",
       "    <tr>\n",
       "      <th>4</th>\n",
       "      <td>&gt; \"y'all hear sumn?\"  by all means I live in a...</td>\n",
       "      <td>0</td>\n",
       "    </tr>\n",
       "  </tbody>\n",
       "</table>\n",
       "</div>"
      ],
      "text/plain": [
       "                                             comment  hate_speech\n",
       "0  A subsection of retarded Hungarians? Ohh boy. ...            1\n",
       "1  Hiii. Just got off work. 444 is mainly the typ...            0\n",
       "2  wow i guess soyboys are the same in every country            0\n",
       "3  Owen Benjamin's soyboy song goes for every cou...            0\n",
       "4  > \"y'all hear sumn?\"  by all means I live in a...            0"
      ]
     },
<<<<<<< HEAD
     "execution_count": 16,
=======
     "execution_count": 15,
>>>>>>> main
     "metadata": {},
     "output_type": "execute_result"
    }
   ],
   "source": [
    "df.head()"
   ]
  },
  {
   "cell_type": "code",
<<<<<<< HEAD
   "execution_count": 17,
=======
   "execution_count": 16,
>>>>>>> main
   "id": "5b11f2f9",
   "metadata": {},
   "outputs": [
    {
     "name": "stdout",
     "output_type": "stream",
     "text": [
      "<class 'pandas.core.frame.DataFrame'>\n",
      "RangeIndex: 22841 entries, 0 to 22840\n",
      "Data columns (total 2 columns):\n",
      " #   Column       Non-Null Count  Dtype \n",
      "---  ------       --------------  ----- \n",
      " 0   comment      22757 non-null  object\n",
      " 1   hate_speech  22841 non-null  int64 \n",
      "dtypes: int64(1), object(1)\n",
      "memory usage: 357.0+ KB\n"
     ]
    }
   ],
   "source": [
    "df.info()"
   ]
  },
  {
   "cell_type": "code",
<<<<<<< HEAD
   "execution_count": 18,
=======
   "execution_count": 17,
>>>>>>> main
   "id": "78ecfcbd",
   "metadata": {},
   "outputs": [
    {
     "data": {
      "text/html": [
       "<div>\n",
       "<style scoped>\n",
       "    .dataframe tbody tr th:only-of-type {\n",
       "        vertical-align: middle;\n",
       "    }\n",
       "\n",
       "    .dataframe tbody tr th {\n",
       "        vertical-align: top;\n",
       "    }\n",
       "\n",
       "    .dataframe thead th {\n",
       "        text-align: right;\n",
       "    }\n",
       "</style>\n",
       "<table border=\"1\" class=\"dataframe\">\n",
       "  <thead>\n",
       "    <tr style=\"text-align: right;\">\n",
       "      <th></th>\n",
       "      <th>hate_speech</th>\n",
       "    </tr>\n",
       "  </thead>\n",
       "  <tbody>\n",
       "    <tr>\n",
       "      <th>count</th>\n",
       "      <td>22841.000000</td>\n",
       "    </tr>\n",
       "    <tr>\n",
       "      <th>mean</th>\n",
       "      <td>0.231864</td>\n",
       "    </tr>\n",
       "    <tr>\n",
       "      <th>std</th>\n",
       "      <td>0.422032</td>\n",
       "    </tr>\n",
       "    <tr>\n",
       "      <th>min</th>\n",
       "      <td>0.000000</td>\n",
       "    </tr>\n",
       "    <tr>\n",
       "      <th>25%</th>\n",
       "      <td>0.000000</td>\n",
       "    </tr>\n",
       "    <tr>\n",
       "      <th>50%</th>\n",
       "      <td>0.000000</td>\n",
       "    </tr>\n",
       "    <tr>\n",
       "      <th>75%</th>\n",
       "      <td>0.000000</td>\n",
       "    </tr>\n",
       "    <tr>\n",
       "      <th>max</th>\n",
       "      <td>1.000000</td>\n",
       "    </tr>\n",
       "  </tbody>\n",
       "</table>\n",
       "</div>"
      ],
      "text/plain": [
       "        hate_speech\n",
       "count  22841.000000\n",
       "mean       0.231864\n",
       "std        0.422032\n",
       "min        0.000000\n",
       "25%        0.000000\n",
       "50%        0.000000\n",
       "75%        0.000000\n",
       "max        1.000000"
      ]
     },
<<<<<<< HEAD
     "execution_count": 18,
=======
     "execution_count": 17,
>>>>>>> main
     "metadata": {},
     "output_type": "execute_result"
    }
   ],
   "source": [
    "df.describe()"
   ]
  },
  {
   "cell_type": "code",
<<<<<<< HEAD
   "execution_count": 19,
=======
   "execution_count": 18,
>>>>>>> main
   "id": "550c485a",
   "metadata": {
    "scrolled": true
   },
   "outputs": [
    {
     "data": {
<<<<<<< HEAD
      "image/png": "iVBORw0KGgoAAAANSUhEUgAAAeEAAAHACAYAAACVutCdAAAAOXRFWHRTb2Z0d2FyZQBNYXRwbG90bGliIHZlcnNpb24zLjcuMSwgaHR0cHM6Ly9tYXRwbG90bGliLm9yZy/bCgiHAAAACXBIWXMAAA9hAAAPYQGoP6dpAAA0gUlEQVR4nO3de1RVdf7/8dcR5YgoRxG5TWhOo4wFecEG0Smvg1LK13KyhtZJy3AcS3LUdJimsmaKKTNbo6tyXKWlzFdnvmWX0Ri8F97DKEkzbXDUAjGFg5ABwv790bh/HkFFQj8Iz8daey32Z7/3Pp/PWdlrffblbIdlWZYAAMAV18J0BwAAaK4IYQAADCGEAQAwhBAGAMAQQhgAAEMIYQAADCGEAQAwhBAGAMCQlqY70JRUV1fr66+/Vrt27eRwOEx3BwBggGVZOnnypMLDw9WixYXnuoRwA/r6668VERFhuhsAgEbg8OHDuuaaay5YQwg3oHbt2kn6/osPCAgw3BsAgAklJSWKiIiwM+FCCOEGdOYUdEBAACEMAM1cXS5LcmMWAACGEMIAABhCCAMAYAghDACAIYQwAACGEMK47D744AONGjVK4eHhcjgcevvtt722OxyOWpc5c+bYNYMGDaqx/e67767188rLy9WrVy85HA7l5ORc9LNeeeWVhh4yANQJjyjhsisrK1PPnj113333acyYMTW25+fne62///77mjBhQo3a5ORkPfXUU/a6n59frZ83c+ZMhYeH65NPPql1++LFizVixAh73eVy1XksANCQCGFcdgkJCUpISDjv9tDQUK/1d955R4MHD9aPf/xjr/Y2bdrUqD3X+++/r8zMTL355pt6//33a61p3779RY8DAFcCp6PRqBw9elSrVq3ShAkTamxLT09XUFCQbrjhBs2YMUMnT56ssW9ycrKWLl2qNm3anPczHnroIQUFBemmm27SK6+8ourq6gYfBwDUBTNhNCqvv/662rVrpzvuuMOr/Z577lHXrl0VGhqq3Nxcpaam6pNPPtGaNWskff+D6ePHj9ekSZPUt29fHTx4sNbj//GPf9TQoUPl5+endevWafr06frmm2/0hz/84XIPDQBqIITRqLz22mu655571Lp1a6/25ORk+++oqCh169ZNffv21a5du9SnTx/Nnz9fJSUlSk1NveDxzw7bXr16SZKeeuopQhiAEZyORqPx4Ycfat++fXrggQcuWtunTx+1atVK+/fvlyStX79e27Ztk9PpVMuWLfWTn/xEktS3b1+NGzfuvMfp16+fSkpKdPTo0YYZBABcAqMhfKUeXSkqKpLb7ZbL5ZLL5ZLb7VZxcbFXzaFDhzRq1Cj5+/srKChIKSkpqqiouFxDRy1effVVxcTEqGfPnhet/eyzz1RZWamwsDBJ0l/+8hd98sknysnJUU5OjlavXi1JWrFihZ5++unzHufjjz9W69at1b59+wYZAwBcCqOno6/UoytJSUk6cuSIMjIyJEkTJ06U2+3We++9J0mqqqrSbbfdpk6dOikrK0vHjx/XuHHjZFmW5s+f3yBjbc5KS0t14MABez0vL085OTkKDAxU586dJX3/6q9//OMfmjt3bo39v/zyS6Wnp+vWW29VUFCQ9uzZo+nTp6t3794aMGCAJNnHOaNt27aSpOuuu85+n+d7772ngoICxcXFyc/PTxs2bNCjjz6qiRMnyul0XpaxA8AFWY2EJGvlypUXrPmf//kfa8iQIV5tAwcOtB5++OHz7rNnzx5LkrVt2za7bevWrZYk6/PPP7csy7JWr15ttWjRwvrqq6/smv/93/+1nE6n5fF46jwGj8djSbqkfZqDDRs2WJJqLOPGjbNrFi5caPn5+VnFxcU19j906JB1yy23WIGBgZavr6913XXXWSkpKdbx48fP+5l5eXmWJOvjjz+2295//32rV69eVtu2ba02bdpYUVFR1osvvmhVVlY25HABNHOXkgUOy7IsQ/nvxeFwaOXKlRo9enSt248ePaprrrlGr7/+upKSkuz2QYMG6bPPPpNlWQoJCVFCQoKeeOIJ+2XKr732mqZNm1bj9HP79u01b9483XfffXr88cf1zjvveP24Q1FRkQIDA7V+/XoNHjy41j6Vl5ervLzcXj/zImePx9Mg7xOOeeSNH3wMoC6y59xrugtAk1FSUiKXy1WnLLhq7o6u76MrBQUFCg4OrnG84OBgFRQU2DUhISFe2zt06CBfX1+7pjZpaWl68sknf+jQAADN1FUTwvV9dEX6fpZ9LsuyvNrrUnOu1NRUTZs2zV4/MxMGAKAuropHlH7IoyuhoaG1Pn5y7Ngxe/YbGhpaY8ZbVFSkysrKGjPkszmdTgUEBHgtAADU1VURwj/k0ZW4uDh5PB7t2LHDrtm+fbs8Ho/69+9v1+Tm5nrdjZ2ZmSmn06mYmJgGHg0AAN8zejr6Sjy60qNHD40YMULJyclauHChpO8fURo5cqQiIyMlSfHx8br++uvldrs1Z84cnThxQjNmzFBycjKzWwDAZWN0JvzRRx+pd+/e6t27tyRp2rRp6t27tx5//HG7Zvny5bIsS7/61a9q7O/r66t169Zp+PDhioyMVEpKiuLj47V27Vr5+PjYdenp6YqOjlZ8fLzi4+N14403aunSpfZ2Hx8frVq1Sq1bt9aAAQM0duxYjR49Ws8///xlHD0AoLlrNI8oNQWXclt6XfCIEq4UHlECGs6lZMFVcU0YAICmiBAGAMAQQhgAAEMIYQAADCGEAQAwhBAGAMAQQhgAAEMIYQAADCGEAQAwhBAGAMAQQhgAAEMIYQAADCGEAQAwhBAGAMAQQhgAAEMIYQAADCGEAQAwhBAGAMAQQhgAAEMIYQAADCGEAQAwhBAGAMAQQhgAAEMIYQAADCGEAQAwhBAGAMAQQhgAAEMIYQAADCGEAQAwhBAGAMAQQhgAAEMIYQAADCGEAQAwhBAGAMAQQhgAAEMIYQAADCGEAQAwhBAGAMAQQhgAAEMIYQAADCGEAQAwxGgIf/DBBxo1apTCw8PlcDj09ttve20fP368HA6H19KvXz+vmvLyck2ZMkVBQUHy9/dXYmKijhw54lVTVFQkt9stl8sll8slt9ut4uJir5pDhw5p1KhR8vf3V1BQkFJSUlRRUXE5hg0AgCTDIVxWVqaePXtqwYIF560ZMWKE8vPz7WX16tVe26dOnaqVK1dq+fLlysrKUmlpqUaOHKmqqiq7JikpSTk5OcrIyFBGRoZycnLkdrvt7VVVVbrttttUVlamrKwsLV++XG+++aamT5/e8IMGAOC/Wpr88ISEBCUkJFywxul0KjQ0tNZtHo9Hr776qpYuXaphw4ZJkpYtW6aIiAitXbtWw4cP1969e5WRkaFt27YpNjZWkrRo0SLFxcVp3759ioyMVGZmpvbs2aPDhw8rPDxckjR37lyNHz9eTz/9tAICAhpw1AAAfK/RXxPeuHGjgoOD1b17dyUnJ6uwsNDelp2drcrKSsXHx9tt4eHhioqK0pYtWyRJW7dulcvlsgNYkvr16yeXy+VVExUVZQewJA0fPlzl5eXKzs4+b9/Ky8tVUlLitQAAUFeNOoQTEhKUnp6u9evXa+7cudq5c6eGDBmi8vJySVJBQYF8fX3VoUMHr/1CQkJUUFBg1wQHB9c4dnBwsFdNSEiI1/YOHTrI19fXrqlNWlqafZ3Z5XIpIiLiB40XANC8GD0dfTF33XWX/XdUVJT69u2rLl26aNWqVbrjjjvOu59lWXI4HPb62X//kJpzpaamatq0afZ6SUkJQQwAqLNGPRM+V1hYmLp06aL9+/dLkkJDQ1VRUaGioiKvusLCQntmGxoaqqNHj9Y41rFjx7xqzp3xFhUVqbKyssYM+WxOp1MBAQFeCwAAdXVVhfDx48d1+PBhhYWFSZJiYmLUqlUrrVmzxq7Jz89Xbm6u+vfvL0mKi4uTx+PRjh077Jrt27fL4/F41eTm5io/P9+uyczMlNPpVExMzJUYGgCgGTJ6Orq0tFQHDhyw1/Py8pSTk6PAwEAFBgZq9uzZGjNmjMLCwnTw4EH9/ve/V1BQkG6//XZJksvl0oQJEzR9+nR17NhRgYGBmjFjhqKjo+27pXv06KERI0YoOTlZCxculCRNnDhRI0eOVGRkpCQpPj5e119/vdxut+bMmaMTJ05oxowZSk5OZnYLALhsjIbwRx99pMGDB9vrZ66vjhs3Ti+//LJ2796tN954Q8XFxQoLC9PgwYO1YsUKtWvXzt5n3rx5atmypcaOHatTp05p6NChWrJkiXx8fOya9PR0paSk2HdRJyYmej2b7OPjo1WrVmny5MkaMGCA/Pz8lJSUpOeff/5yfwUAgGbMYVmWZboTTUVJSYlcLpc8Hk+DzKBjHnmjAXoFXFz2nHtNdwFoMi4lC66qa8IAADQlhDAAAIYQwgAAGEIIAwBgCCEMAIAhhDAAAIYQwgAAGEIIAwBgCCEMAIAhhDAAAIYQwgAAGEIIAwBgCCEMAIAhhDAAAIYQwgAAGEIIAwBgCCEMAIAhhDAAAIYQwgAAGEIIAwBgCCEMAIAhhDAAAIYQwgAAGEIIAwBgCCEMAIAhhDAAAIYQwgAAGEIIAwBgCCEMAIAhhDAAAIYQwgAAGEIIAwBgCCEMAIAhhDAAAIYQwgAAGEIIAwBgCCEMAIAhhDAAAIYQwgAAGEIIAwBgCCEMAIAhRkP4gw8+0KhRoxQeHi6Hw6G3337b3lZZWalZs2YpOjpa/v7+Cg8P17333quvv/7a6xiDBg2Sw+HwWu6++26vmqKiIrndbrlcLrlcLrndbhUXF3vVHDp0SKNGjZK/v7+CgoKUkpKiioqKyzV0AADMhnBZWZl69uypBQsW1Nj27bffateuXXrssce0a9cuvfXWW/riiy+UmJhYozY5OVn5+fn2snDhQq/tSUlJysnJUUZGhjIyMpSTkyO3221vr6qq0m233aaysjJlZWVp+fLlevPNNzV9+vSGHzQAAP/V0uSHJyQkKCEhodZtLpdLa9as8WqbP3++fvazn+nQoUPq3Lmz3d6mTRuFhobWepy9e/cqIyND27ZtU2xsrCRp0aJFiouL0759+xQZGanMzEzt2bNHhw8fVnh4uCRp7ty5Gj9+vJ5++mkFBAQ0xHABAPByVV0T9ng8cjgcat++vVd7enq6goKCdMMNN2jGjBk6efKkvW3r1q1yuVx2AEtSv3795HK5tGXLFrsmKirKDmBJGj58uMrLy5WdnX3e/pSXl6ukpMRrAQCgrozOhC/Fd999p9/97ndKSkrympnec8896tq1q0JDQ5Wbm6vU1FR98skn9iy6oKBAwcHBNY4XHBysgoICuyYkJMRre4cOHeTr62vX1CYtLU1PPvlkQwwPANAMXRUhXFlZqbvvvlvV1dV66aWXvLYlJyfbf0dFRalbt27q27evdu3apT59+kiSHA5HjWNaluXVXpeac6WmpmratGn2eklJiSIiIuo+MABAs9boT0dXVlZq7NixysvL05o1ay56fbZPnz5q1aqV9u/fL0kKDQ3V0aNHa9QdO3bMnv2GhobWmPEWFRWpsrKyxgz5bE6nUwEBAV4LAAB11ahD+EwA79+/X2vXrlXHjh0vus9nn32myspKhYWFSZLi4uLk8Xi0Y8cOu2b79u3yeDzq37+/XZObm6v8/Hy7JjMzU06nUzExMQ08KgAAvmf0dHRpaakOHDhgr+fl5SknJ0eBgYEKDw/XL3/5S+3atUv//Oc/VVVVZc9WAwMD5evrqy+//FLp6em69dZbFRQUpD179mj69Onq3bu3BgwYIEnq0aOHRowYoeTkZPvRpYkTJ2rkyJGKjIyUJMXHx+v666+X2+3WnDlzdOLECc2YMUPJycnMbgEAl43RmfBHH32k3r17q3fv3pKkadOmqXfv3nr88cd15MgRvfvuuzpy5Ih69eqlsLAwezlzV7Ovr6/WrVun4cOHKzIyUikpKYqPj9fatWvl4+Njf056erqio6MVHx+v+Ph43XjjjVq6dKm93cfHR6tWrVLr1q01YMAAjR07VqNHj9bzzz9/Zb8QAECz4rAsyzLdiaaipKRELpdLHo+nQWbQMY+80QC9Ai4ue869prsANBmXkgWN+powAABNGSEMAIAhhDAAAIYQwgAAGEIIAwBgCCEMAIAhhDAAAIYQwgAAGEIIAwBgCCEMAIAhhDAAAIYQwgAAGEIIAwBgCCEMAIAhhDAAAIYQwgAAGEIIAwBgCCEMAIAhhDAAAIYQwgAAGEIIAwBgCCEMAIAhhDAAAIYQwgAAGEIIAwBgCCEMAIAhhDAAAIYQwgAAGEIIAwBgCCEMAIAhhDAAAIYQwgAAGEIIAwBgCCEMAIAhhDAAAIYQwgAAGEIIAwBgCCEMAIAhhDAAAIYQwgAAGEIIAwBgCCEMAIAhRkP4gw8+0KhRoxQeHi6Hw6G3337ba7tlWZo9e7bCw8Pl5+enQYMG6bPPPvOqKS8v15QpUxQUFCR/f38lJibqyJEjXjVFRUVyu91yuVxyuVxyu90qLi72qjl06JBGjRolf39/BQUFKSUlRRUVFZdj2AAASDIcwmVlZerZs6cWLFhQ6/bnnntOL7zwghYsWKCdO3cqNDRUv/jFL3Ty5Em7ZurUqVq5cqWWL1+urKwslZaWauTIkaqqqrJrkpKSlJOTo4yMDGVkZCgnJ0dut9veXlVVpdtuu01lZWXKysrS8uXL9eabb2r69OmXb/AAgGbPYVmWZboTkuRwOLRy5UqNHj1a0vez4PDwcE2dOlWzZs2S9P2sNyQkRM8++6x+/etfy+PxqFOnTlq6dKnuuusuSdLXX3+tiIgIrV69WsOHD9fevXt1/fXXa9u2bYqNjZUkbdu2TXFxcfr8888VGRmp999/XyNHjtThw4cVHh4uSVq+fLnGjx+vwsJCBQQE1GkMJSUlcrlc8ng8dd7nQmIeeeMHHwOoi+w595ruAtBkXEoW1GsmPGTIkBqnc8988JAhQ+pzyBry8vJUUFCg+Ph4u83pdGrgwIHasmWLJCk7O1uVlZVeNeHh4YqKirJrtm7dKpfLZQewJPXr108ul8urJioqyg5gSRo+fLjKy8uVnZ193j6Wl5erpKTEawEAoK7qFcIbN26s9Xrpd999pw8//PAHd0qSCgoKJEkhISFe7SEhIfa2goIC+fr6qkOHDhesCQ4OrnH84OBgr5pzP6dDhw7y9fW1a2qTlpZmX2d2uVyKiIi4xFECAJqzlpdS/Omnn9p/79mzxyugqqqqlJGRoR/96EcN1zt9f5r6bJZl1Wg717k1tdXXp+ZcqampmjZtmr1eUlJCEAMA6uySQrhXr15yOBxyOBy1nnb28/PT/PnzG6RjoaGhkr6fpYaFhdnthYWF9qw1NDRUFRUVKioq8poNFxYWqn///nbN0aNHaxz/2LFjXsfZvn271/aioiJVVlbWmCGfzel0yul01nOEAIDm7pJOR+fl5enLL7+UZVnasWOH8vLy7OWrr75SSUmJ7r///gbpWNeuXRUaGqo1a9bYbRUVFdq0aZMdsDExMWrVqpVXTX5+vnJzc+2auLg4eTwe7dixw67Zvn27PB6PV01ubq7y8/PtmszMTDmdTsXExDTIeAAAONclzYS7dOkiSaqurm6QDy8tLdWBAwfs9by8POXk5CgwMFCdO3fW1KlT9cwzz6hbt27q1q2bnnnmGbVp00ZJSUmSJJfLpQkTJmj69Onq2LGjAgMDNWPGDEVHR2vYsGGSpB49emjEiBFKTk7WwoULJUkTJ07UyJEjFRkZKUmKj4/X9ddfL7fbrTlz5ujEiROaMWOGkpOTG+QuZwAAanNJIXy2L774Qhs3blRhYWGNUH788cfrdIyPPvpIgwcPttfPXF8dN26clixZopkzZ+rUqVOaPHmyioqKFBsbq8zMTLVr187eZ968eWrZsqXGjh2rU6dOaejQoVqyZIl8fHzsmvT0dKWkpNh3UScmJno9m+zj46NVq1Zp8uTJGjBggPz8/JSUlKTnn3/+0r8YAADqqF7PCS9atEi/+c1vFBQUpNDQ0Bo3OO3atatBO3m14DlhXK14ThhoOJeSBfWaCf/pT3/S008/bf+IBgAAuHT1ek64qKhId955Z0P3BQCAZqVeIXznnXcqMzOzofsCAECzUq/T0T/5yU/02GOPadu2bYqOjlarVq28tqekpDRI5wAAaMrqFcJ//etf1bZtW23atEmbNm3y2uZwOAhhAADqoF4hnJeX19D9AACg2TH6PmEAAJqzes2EL/bTlK+99lq9OgMAQHNSrxAuKiryWq+srFRubq6Ki4sb7H3CAAA0dfUK4ZUrV9Zoq66u1uTJk/XjH//4B3cKAIDmoMGuCbdo0UK//e1vNW/evIY6JAAATVqD3pj15Zdf6vTp0w15SAAAmqx6nY4+87ajMyzLUn5+vlatWqVx48Y1SMcAAGjq6hXCH3/8sdd6ixYt1KlTJ82dO/eid04DAIDv1SuEN2zY0ND9AACg2alXCJ9x7Ngx7du3Tw6HQ927d1enTp0aql8AADR59boxq6ysTPfff7/CwsJ0yy236Oabb1Z4eLgmTJigb7/9tqH7CABAk1SvEJ42bZo2bdqk9957T8XFxSouLtY777yjTZs2afr06Q3dRwAAmqR6nY5+88039X//938aNGiQ3XbrrbfKz89PY8eO1csvv9xQ/QMAoMmq10z422+/VUhISI324OBgTkcDAFBH9QrhuLg4PfHEE/ruu+/stlOnTunJJ59UXFxcg3UOAICmrF6no1988UUlJCTommuuUc+ePeVwOJSTkyOn06nMzMyG7iMAAE1SvUI4Ojpa+/fv17Jly/T555/Lsizdfffduueee+Tn59fQfQQAoEmqVwinpaUpJCREycnJXu2vvfaajh07plmzZjVI5wAAaMrqdU144cKF+ulPf1qj/YYbbtArr7zygzsFAEBzUK8QLigoUFhYWI32Tp06KT8//wd3CgCA5qBeIRwREaHNmzfXaN+8ebPCw8N/cKcAAGgO6nVN+IEHHtDUqVNVWVmpIUOGSJLWrVunmTNn8otZAADUUb1CeObMmTpx4oQmT56siooKSVLr1q01a9YspaamNmgHAQBoquoVwg6HQ88++6wee+wx7d27V35+furWrZucTmdD9w8AgCbrB73KsG3btrrpppsaqi8AADQr9boxCwAA/HCEMAAAhhDCAAAYQggDAGAIIQwAgCGEMAAAhhDCAAAYQggDAGAIIQwAgCGEMAAAhjT6EL722mvlcDhqLA8++KAkafz48TW29evXz+sY5eXlmjJlioKCguTv76/ExEQdOXLEq6aoqEhut1sul0sul0tut1vFxcVXapgAgGao0Yfwzp07lZ+fby9r1qyRJN155512zYgRI7xqVq9e7XWMqVOnauXKlVq+fLmysrJUWlqqkSNHqqqqyq5JSkpSTk6OMjIylJGRoZycHLnd7iszSABAs/SDXuBwJXTq1Mlr/c9//rOuu+46DRw40G5zOp0KDQ2tdX+Px6NXX31VS5cu1bBhwyRJy5YtU0REhNauXavhw4dr7969ysjI0LZt2xQbGytJWrRokeLi4rRv3z5FRkZeptEBAJqzRj8TPltFRYWWLVum+++/Xw6Hw27fuHGjgoOD1b17dyUnJ6uwsNDelp2drcrKSsXHx9tt4eHhioqK0pYtWyRJW7dulcvlsgNYkvr16yeXy2XX1Ka8vFwlJSVeCwAAdXVVhfDbb7+t4uJijR8/3m5LSEhQenq61q9fr7lz52rnzp0aMmSIysvLJUkFBQXy9fVVhw4dvI4VEhKigoICuyY4OLjG5wUHB9s1tUlLS7OvIbtcLkVERDTAKAEAzUWjPx19tldffVUJCQkKDw+32+666y7776ioKPXt21ddunTRqlWrdMcdd5z3WJZlec2mz/77fDXnSk1N1bRp0+z1kpISghgAUGdXTQj/5z//0dq1a/XWW29dsC4sLExdunTR/v37JUmhoaGqqKhQUVGR12y4sLBQ/fv3t2uOHj1a41jHjh1TSEjIeT/L6XTK6XTWZzgAAFw9p6MXL16s4OBg3XbbbResO378uA4fPqywsDBJUkxMjFq1amXfVS1J+fn5ys3NtUM4Li5OHo9HO3bssGu2b98uj8dj1wAA0NCuiplwdXW1Fi9erHHjxqlly//f5dLSUs2ePVtjxoxRWFiYDh48qN///vcKCgrS7bffLklyuVyaMGGCpk+fro4dOyowMFAzZsxQdHS0fbd0jx49NGLECCUnJ2vhwoWSpIkTJ2rkyJHcGQ0AuGyuihBeu3atDh06pPvvv9+r3cfHR7t379Ybb7yh4uJihYWFafDgwVqxYoXatWtn182bN08tW7bU2LFjderUKQ0dOlRLliyRj4+PXZOenq6UlBT7LurExEQtWLDgygwQANAsOSzLskx3oqkoKSmRy+WSx+NRQEDADz5ezCNvNECvgIvLnnOv6S4ATcalZMFVc00YAICmhhAGAMAQQhgAAEMIYQAADCGEAQAwhBAGAMAQQhgAAEMIYQAADCGEAQAwhBAGAMAQQhgAAEMIYQAADCGEAQAwhBAGAMAQQhgAAEMIYQAADCGEAQAwhBAGAMAQQhgAAEMIYQAADCGEAQAwhBAGAMAQQhgAAEMIYQAADCGEAQAwhBAGAMAQQhgAAEMIYQAADCGEAQAwhBAGgMts9uzZcjgcXktoaKgkqbKyUrNmzVJ0dLT8/f0VHh6ue++9V19//bXXMb788kvdfvvt6tSpkwICAjR27FgdPXq0xmetWrVKsbGx8vPzU1BQkO64444rMkbUDyEMAFfADTfcoPz8fHvZvXu3JOnbb7/Vrl279Nhjj2nXrl1666239MUXXygxMdHet6ysTPHx8XI4HFq/fr02b96siooKjRo1StXV1Xbdm2++Kbfbrfvuu0+ffPKJNm/erKSkpCs+VtRdS9MdAIDmoGXLlvbs92wul0tr1qzxaps/f75+9rOf6dChQ+rcubM2b96sgwcP6uOPP1ZAQIAkafHixQoMDNT69es1bNgwnT59Wg8//LDmzJmjCRMm2MeKjIy8vAPDD8JMGACugP379ys8PFxdu3bV3XffrX//+9/nrfV4PHI4HGrfvr0kqby8XA6HQ06n065p3bq1WrRooaysLEnSrl279NVXX6lFixbq3bu3wsLClJCQoM8+++yyjgs/DCEMAJdZbGys3njjDf3rX//SokWLVFBQoP79++v48eM1ar/77jv97ne/U1JSkj3r7devn/z9/TVr1ix9++23Kisr0yOPPKLq6mrl5+dLkh3qs2fP1h/+8Af985//VIcOHTRw4ECdOHHiyg0Wl4QQBoDLLCEhQWPGjFF0dLSGDRumVatWSZJef/11r7rKykrdfffdqq6u1ksvvWS3d+rUSf/4xz/03nvvqW3btnK5XPJ4POrTp498fHwkyb42/Oijj2rMmDGKiYnR4sWL5XA49I9//OMKjRSXimvCAHCF+fv7Kzo6Wvv377fbKisrNXbsWOXl5Wn9+vX2LPiM+Ph4ffnll/rmm2/UsmVLtW/fXqGhoerataskKSwsTJJ0/fXX2/s4nU79+Mc/1qFDh67AqFAfzIQB4AorLy/X3r177eA8E8D79+/X2rVr1bFjx/PuGxQUpPbt22v9+vUqLCy076KOiYmR0+nUvn377NrKykodPHhQXbp0ubwDQr0xEwaAy2zGjBkaNWqUOnfurMLCQv3pT39SSUmJxo0bp9OnT+uXv/yldu3apX/+85+qqqpSQUGBJCkwMFC+vr6Svr8bukePHurUqZO2bt2qhx9+WL/97W/tu58DAgI0adIkPfHEE4qIiFCXLl00Z84cSdKdd95pZuC4KEIYAC6zI0eO6Fe/+pW++eYbderUSf369dO2bdvUpUsXHTx4UO+++64kqVevXl77bdiwQYMGDZIk7du3T6mpqTpx4oSuvfZaPfroo/rtb3/rVT9nzhy1bNlSbrdbp06dUmxsrNavX68OHTpciWGiHhyWZVmmO9FUlJSU2DdMnHs9pz5iHnmjAXoFXFz2nHtNd+G8Dj0VbboLaCY6P767QY5zKVnANWEAAAxp1CF8od9blSTLsjR79myFh4fLz89PgwYNqvFgenl5uaZMmaKgoCD5+/srMTFRR44c8aopKiqS2+2Wy+WSy+WS2+1WcXHxlRgiAKAZa9QhLJ3/91Yl6bnnntMLL7ygBQsWaOfOnQoNDdUvfvELnTx50q6ZOnWqVq5cqeXLlysrK0ulpaUaOXKkqqqq7JqkpCTl5OQoIyNDGRkZysnJkdvtvqLjBAA0P43+xqzz/d6qZVl68cUX9eijj9pvCXn99dcVEhKiv/3tb/r1r38tj8ejV199VUuXLtWwYcMkScuWLVNERITWrl2r4cOHa+/evcrIyNC2bdsUGxsrSVq0aJHi4uK0b98+fncVAHDZNPqZ8Pl+bzUvL08FBQWKj4+3a51OpwYOHKgtW7ZIkrKzs1VZWelVEx4erqioKLtm69atcrlcdgBL3/9EnMvlsmvOp7y8XCUlJV4LAAB11ahD+EK/t3rmObqQkBCvfUJCQuxtBQUF8vX1rXF7/rk1wcHBNT47ODjYrjmftLQ0+zqyy+VSREREvccKAGh+GnUI1+X3Vh0Oh9c+lmXVaDvXuTW11dflOKmpqfJ4PPZy+PDhi44JAIAzGnUIn+vs31s9c5343NlqYWGhPTsODQ1VRUWFioqKLlhz9OjRGp917NixGrPsczmdTgUEBHgtAADU1VUVwmf/3mrXrl0VGhrq9TLsiooKbdq0Sf3795f0/W+ptmrVyqsmPz9fubm5dk1cXJw8Ho927Nhh12zfvl0ej8euAQDgcmjUd0df6PdWHQ6Hpk6dqmeeeUbdunVTt27d9Mwzz6hNmzZKSkqSJLlcLk2YMEHTp09Xx44dFRgYqBkzZtintyWpR48eGjFihJKTk7Vw4UJJ0sSJEzVy5EjujAYAXFaNOoQv9HurkjRz5kydOnVKkydPVlFRkWJjY5WZmal27drZx5g3b55atmypsWPH6tSpUxo6dKiWLFliv4NTktLT05WSkmLfRZ2YmKgFCxZc2cECAJodfju6AfHb0bha8dvRAL8dDQBAs0IIAwBgCCEMAIAhhDAAAIYQwgAAGEIIAwBgCCEMAIAhhDAAAIYQwgAAGEIIAwBgCCEMAIAhhDAAAIYQwgAAGEIIAwBgCCEMAIAhhDAAAIYQwgAAGEIIAwBgCCEMAIAhhDAAAIYQwgAAGEIIAwBgCCEMAIAhhDAAAIYQwgAAGEIIAwBgCCEMAIAhhDAAAIYQwgAAGEIIAwBgCCEMAIAhhDAAAIYQwgAAGEIIAwBgCCEMAIAhhDAAAIYQwgAAGEIIAwBgCCEMAIAhhDAAAIYQwgAAGNKoQzgtLU033XST2rVrp+DgYI0ePVr79u3zqhk/frwcDofX0q9fP6+a8vJyTZkyRUFBQfL391diYqKOHDniVVNUVCS32y2XyyWXyyW3263i4uLLPUQAQDPWqEN406ZNevDBB7Vt2zatWbNGp0+fVnx8vMrKyrzqRowYofz8fHtZvXq11/apU6dq5cqVWr58ubKyslRaWqqRI0eqqqrKrklKSlJOTo4yMjKUkZGhnJwcud3uKzJOAEDz1NJ0By4kIyPDa33x4sUKDg5Wdna2brnlFrvd6XQqNDS01mN4PB69+uqrWrp0qYYNGyZJWrZsmSIiIrR27VoNHz5ce/fuVUZGhrZt26bY2FhJ0qJFixQXF6d9+/YpMjLyMo0QANCcNeqZ8Lk8Ho8kKTAw0Kt948aNCg4OVvfu3ZWcnKzCwkJ7W3Z2tiorKxUfH2+3hYeHKyoqSlu2bJEkbd26VS6Xyw5gSerXr59cLpddU5vy8nKVlJR4LQAA1NVVE8KWZWnatGn6+c9/rqioKLs9ISFB6enpWr9+vebOnaudO3dqyJAhKi8vlyQVFBTI19dXHTp08DpeSEiICgoK7Jrg4OAanxkcHGzX1CYtLc2+huxyuRQREdEQQwUANBON+nT02R566CF9+umnysrK8mq/66677L+joqLUt29fdenSRatWrdIdd9xx3uNZliWHw2Gvn/33+WrOlZqaqmnTptnrJSUlBDEAoM6uipnwlClT9O6772rDhg265pprLlgbFhamLl26aP/+/ZKk0NBQVVRUqKioyKuusLBQISEhds3Ro0drHOvYsWN2TW2cTqcCAgK8FgAA6qpRh7BlWXrooYf01ltvaf369eratetF9zl+/LgOHz6ssLAwSVJMTIxatWqlNWvW2DX5+fnKzc1V//79JUlxcXHyeDzasWOHXbN9+3Z5PB67BgCAhtaoT0c/+OCD+tvf/qZ33nlH7dq1s6/Pulwu+fn5qbS0VLNnz9aYMWMUFhamgwcP6ve//72CgoJ0++2327UTJkzQ9OnT1bFjRwUGBmrGjBmKjo6275bu0aOHRowYoeTkZC1cuFCSNHHiRI0cOZI7owEAl02jDuGXX35ZkjRo0CCv9sWLF2v8+PHy8fHR7t279cYbb6i4uFhhYWEaPHiwVqxYoXbt2tn18+bNU8uWLTV27FidOnVKQ4cO1ZIlS+Tj42PXpKenKyUlxb6LOjExUQsWLLj8gwQANFuNOoQty7rgdj8/P/3rX/+66HFat26t+fPna/78+eetCQwM1LJlyy65jwAA1FejviYMAEBTRggDAGAIIQwAgCGEMAAAhhDCAAAYQggDAGAIIQwAgCGEMAAAhhDCAAAYQggDAGAIIQwAgCGEMAAAhhDCAAAYQggDAGAIIQwAgCGEMAAAhhDCAAAYQggDAGAIIQwAgCGEMAAAhhDCAAAYQggDAGAIIQwAgCGEMAAAhhDCAAAYQggDAGAIIQwAgCGEMAAAhhDCAAAYQggDAGAIIQwAgCGEMAAAhhDCAAAYQggDAGAIIQwAgCGEMAAAhhDCAAAYQggDAGAIIQwAgCGEMAAAhhDCAAAYQggDAGAIIXyOl156SV27dlXr1q0VExOjDz/80HSXAABNFCF8lhUrVmjq1Kl69NFH9fHHH+vmm29WQkKCDh06ZLprAIAmiBA+ywsvvKAJEybogQceUI8ePfTiiy8qIiJCL7/8sumuAQCaoJamO9BYVFRUKDs7W7/73e+82uPj47Vly5Za9ykvL1d5ebm97vF4JEklJSUN0qeq8lMNchzgYhrqv9nL4eR3Vaa7gGaiof4dnDmOZVkXrSWE/+ubb75RVVWVQkJCvNpDQkJUUFBQ6z5paWl68skna7RHRERclj4Cl4tr/iTTXQDMS3M16OFOnjwpl+vCxySEz+FwOLzWLcuq0XZGamqqpk2bZq9XV1frxIkT6tix43n3weVVUlKiiIgIHT58WAEBAaa7A1xx/Bswz7IsnTx5UuHh4RetJYT/KygoSD4+PjVmvYWFhTVmx2c4nU45nU6vtvbt21+uLuISBAQE8D8gNGv8GzDrYjPgM7gx6798fX0VExOjNWvWeLWvWbNG/fv3N9QrAEBTxkz4LNOmTZPb7Vbfvn0VFxenv/71rzp06JAmTeJ6GQCg4RHCZ7nrrrt0/PhxPfXUU8rPz1dUVJRWr16tLl26mO4a6sjpdOqJJ56ocZkAaC74N3B1cVh1uYcaAAA0OK4JAwBgCCEMAIAhhDAAAIYQwgAAGEIIo8ngNZRozj744AONGjVK4eHhcjgcevvtt013CXVACKNJ4DWUaO7KysrUs2dPLViwwHRXcAl4RAlNQmxsrPr06eP12skePXpo9OjRSktLM9gz4MpzOBxauXKlRo8ebboruAhmwrjqnXkNZXx8vFf7hV5DCQCNASGMq159XkMJAI0BIYwm41JeQwkAjQEhjKtefV5DCQCNASGMqx6voQRwteItSmgSeA0lmrvS0lIdOHDAXs/Ly1NOTo4CAwPVuXNngz3DhfCIEpqMl156Sc8995z9Gsp58+bplltuMd0t4IrYuHGjBg8eXKN93LhxWrJkyZXvEOqEEAYAwBCuCQMAYAghDACAIYQwAACGEMIAABhCCAMAYAghDACAIYQwAACGEMLAVWLQoEGaOnWq6W5cdfje0JgRwkAzsWTJErVv3950NwCchRAGAMAQQhi4ilRXV2vmzJkKDAxUaGioZs+ebW974YUXFB0dLX9/f0VERGjy5MkqLS2V9P3vCt93333yeDxyOBxyOBz2vhUVFZo5c6Z+9KMfyd/fX7Gxsdq4cWOd+vOf//xHo0aNUocOHeTv768bbrhBq1evtj/T4XBo1apV6tmzp1q3bq3Y2Fjt3r3b6xhbtmzRLbfcIj8/P0VERCglJUVlZWX29rr0b/PmzRo4cKDatGmjDh06aPjw4SoqKqrT9waYRAgDV5HXX39d/v7+2r59u5577jk99dRT9iscW7Roob/85S/Kzc3V66+/rvXr12vmzJmSpP79++vFF19UQECA8vPzlZ+frxkzZkiS7rvvPm3evFnLly/Xp59+qjvvvFMjRozQ/v37L9qfBx98UOXl5frggw+0e/duPfvss2rbtq1XzSOPPKLnn39eO3fuVHBwsBITE1VZWSlJ2r17t4YPH6477rhDn376qVasWKGsrCw99NBD9v4X619OTo6GDh2qG264QVu3blVWVpZGjRqlqqqqOn1vgFEWgKvCwIEDrZ///OdebTfddJM1a9asWuv//ve/Wx07drTXFy9ebLlcLq+aAwcOWA6Hw/rqq6+82ocOHWqlpqZetE/R0dHW7Nmza922YcMGS5K1fPlyu+348eOWn5+ftWLFCsuyLMvtdlsTJ0702u/DDz+0WrRoYZ06dapO/fvVr35lDRgw4Lx9vNTvDbiSeJ8wcBW58cYbvdbDwsJUWFgoSdqwYYOeeeYZ7dmzRyUlJTp9+rS+++47lZWVyd/fv9bj7dq1S5ZlqXv37l7t5eXl6tix40X7k5KSot/85jfKzMzUsGHDNGbMmBp9jIuLs/8ODAxUZGSk9u7dK0nKzs7WgQMHlJ6ebtdYlqXq6mrl5eUpNzf3ov3LycnRnXfeecF+Xuh7A0wihIGrSKtWrbzWHQ6Hqqur9Z///Ee33nqrJk2apD/+8Y8KDAxUVlaWJkyYYJ/6rU11dbV8fHyUnZ0tHx8fr23nnlauzQMPPKDhw4dr1apVyszMVFpamubOnaspU6ZccD+Hw2F//q9//WulpKTUqOncubM+/fTTi/bPz8/vov083/cGmEYIA03ARx99pNOnT2vu3Llq0eL7Wz3+/ve/e9X4+vp6XSeVpN69e6uqqkqFhYW6+eab6/XZERERmjRpkiZNmqTU1FQtWrTIK4S3bdumzp07S5KKior0xRdf6Kc//akkqU+fPvrss8/0k5/8pNZj16V/N954o9atW6cnn3yyXv0HTOLGLKAJuO6663T69GnNnz9f//73v7V06VK98sorXjXXXnutSktLtW7dOn3zzTf69ttv1b17d91zzz2699579dZbbykvL087d+7Us88+a9/lfCFTp07Vv/71L+Xl5WnXrl1av369evTo4VXz1FNPad26dcrNzdX48eMVFBSk0aNHS5JmzZqlrVu36sEHH1ROTo7279+vd9991w7xuvQvNTVVO3fu1OTJk/Xpp5/q888/18svv6xvvvmmAb5Z4PIihIEmoFevXnrhhRf07LPPKioqSunp6UpLS/Oq6d+/vyZNmqS77rpLnTp10nPPPSdJWrx4se69915Nnz5dkZGRSkxM1Pbt2xUREXHRz62qqtKDDz6oHj16aMSIEYqMjNRLL73kVfPnP/9ZDz/8sGJiYpSfn693331Xvr6+kr6fxW7atEn79+/XzTffrN69e+uxxx5TWFiYvf/F+te9e3dlZmbqk08+0c9+9jPFxcXpnXfeUcuWnOhD4+ewLMsy3QkATc/GjRs1ePBgFRUV8UtdwHkwEwYAwBBCGMB5JSQkqG3btrUuzzzzjOnuAVc9TkcDOK+vvvpKp06dqnVbYGCgAgMDr3CPgKaFEAYAwBBORwMAYAghDACAIYQwAACGEMIAABhCCAMAYAghDACAIYQwAACGEMIAABjy/wCvcCEsMzkU/QAAAABJRU5ErkJggg==",
=======
      "image/png": "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",
>>>>>>> main
      "text/plain": [
       "<Figure size 500x500 with 1 Axes>"
      ]
     },
     "metadata": {},
     "output_type": "display_data"
    }
   ],
   "source": [
    "plt.figure(figsize=(5,5))\n",
    "ax=sns.countplot(x=df['hate_speech'],data=df,order=df['hate_speech'].value_counts().index)\n",
    "for p,label in zip(ax.patches,df['hate_speech'].value_counts()):\n",
    "    ax.annotate(label,(p.get_x()+0.25,p.get_height()+0.5))"
   ]
  },
  {
   "cell_type": "markdown",
   "id": "704129cf",
   "metadata": {},
   "source": [
    "## Data Cleaning"
   ]
  },
  {
   "cell_type": "markdown",
   "id": "a9201f1d",
   "metadata": {},
   "source": [
    "#### Remove NaN values and drop comments which are deleted or removed"
   ]
  },
  {
   "cell_type": "code",
<<<<<<< HEAD
   "execution_count": 20,
=======
   "execution_count": 19,
>>>>>>> main
   "id": "c83555f0",
   "metadata": {},
   "outputs": [
    {
     "name": "stdout",
     "output_type": "stream",
     "text": [
      "Comment Length:  22841\n",
      "Comment Count:  22757\n",
      "Hate Speech Length:  22841\n",
      "Hate Speech Count:  22841\n"
     ]
    }
   ],
   "source": [
    "size_col0 = len(df['comment'])\n",
    "size_col1 = df['comment'].count()\n",
    "size_col2 = len(df['hate_speech'])\n",
    "size_col3 = df['hate_speech'].count()\n",
    "print(\"Comment Length: \", size_col0)\n",
    "print(\"Comment Count: \", size_col1)\n",
    "print(\"Hate Speech Length: \", size_col2)\n",
    "print(\"Hate Speech Count: \",size_col3)"
   ]
  },
  {
   "cell_type": "code",
<<<<<<< HEAD
   "execution_count": 21,
=======
   "execution_count": 20,
>>>>>>> main
   "id": "2b85b670",
   "metadata": {},
   "outputs": [],
   "source": [
    "df = df.dropna().loc[(df['comment'] != '[deleted]') & (df['comment'] != '[removed]')]"
   ]
  },
  {
   "cell_type": "code",
<<<<<<< HEAD
   "execution_count": 22,
=======
   "execution_count": 21,
>>>>>>> main
   "id": "c3293986",
   "metadata": {},
   "outputs": [
    {
     "name": "stdout",
     "output_type": "stream",
     "text": [
      "Comment Length:  22246\n",
      "Comment Count:  22246\n",
      "Hate Speech Length:  22246\n",
      "Hate Speech Count:  22246\n"
     ]
    }
   ],
   "source": [
    "size_col0 = len(df['comment'])\n",
    "size_col1 = df['comment'].count()\n",
    "size_col2 = len(df['hate_speech'])\n",
    "size_col3 = df['hate_speech'].count()\n",
    "print(\"Comment Length: \", size_col0)\n",
    "print(\"Comment Count: \", size_col1)\n",
    "print(\"Hate Speech Length: \", size_col2)\n",
    "print(\"Hate Speech Count: \",size_col3)"
   ]
  },
  {
   "cell_type": "markdown",
   "id": "e6202991",
   "metadata": {},
   "source": [
    "#### Save the cleaned dataset"
   ]
  },
  {
   "cell_type": "code",
<<<<<<< HEAD
   "execution_count": 23,
=======
   "execution_count": 22,
>>>>>>> main
   "id": "e4064d33",
   "metadata": {},
   "outputs": [
    {
     "name": "stdout",
     "output_type": "stream",
     "text": [
      "File saved.\n"
     ]
    }
   ],
   "source": [
    "df.to_csv('Reddit_Cleaned.csv', index=False)\n",
    "print(\"File saved.\")"
   ]
  },
  {
   "cell_type": "markdown",
   "id": "47ed0471",
   "metadata": {},
   "source": [
    "## Convert to lowercase \n",
    "\n",
    "\n",
    "#### In tokenization a sentence word by word, same word represented in upper and lower case notations are identified as different words. For example, ‘Basic’ and ‘basic’ are considered different but they both are same,because python is case-sensitive,it adds complexity to model, to simplify it we do lowercasing."
   ]
  },
  {
   "cell_type": "code",
<<<<<<< HEAD
   "execution_count": 24,
=======
   "execution_count": 23,
>>>>>>> main
   "id": "aede55c0",
   "metadata": {},
   "outputs": [
    {
     "data": {
      "text/plain": [
       "'Hiii. Just got off work. 444 is mainly the typa guys you imagine writing for US stupid sites, but basically they just try to fit in with the Western European and US big city hipsters.   Rich kids from Budapest who feel they are brave journalistic heroes.'"
      ]
     },
<<<<<<< HEAD
     "execution_count": 24,
=======
     "execution_count": 23,
>>>>>>> main
     "metadata": {},
     "output_type": "execute_result"
    }
   ],
   "source": [
    "df['comment'][1]"
   ]
  },
  {
   "cell_type": "code",
<<<<<<< HEAD
   "execution_count": 25,
=======
   "execution_count": 24,
>>>>>>> main
   "id": "c48614a5",
   "metadata": {
    "scrolled": true
   },
   "outputs": [
    {
     "data": {
      "text/html": [
       "<div>\n",
       "<style scoped>\n",
       "    .dataframe tbody tr th:only-of-type {\n",
       "        vertical-align: middle;\n",
       "    }\n",
       "\n",
       "    .dataframe tbody tr th {\n",
       "        vertical-align: top;\n",
       "    }\n",
       "\n",
       "    .dataframe thead th {\n",
       "        text-align: right;\n",
       "    }\n",
       "</style>\n",
       "<table border=\"1\" class=\"dataframe\">\n",
       "  <thead>\n",
       "    <tr style=\"text-align: right;\">\n",
       "      <th></th>\n",
       "      <th>comment</th>\n",
       "      <th>hate_speech</th>\n",
       "    </tr>\n",
       "  </thead>\n",
       "  <tbody>\n",
       "    <tr>\n",
       "      <th>0</th>\n",
       "      <td>a subsection of retarded hungarians? ohh boy. ...</td>\n",
       "      <td>1</td>\n",
       "    </tr>\n",
       "    <tr>\n",
       "      <th>1</th>\n",
       "      <td>hiii. just got off work. 444 is mainly the typ...</td>\n",
       "      <td>0</td>\n",
       "    </tr>\n",
       "    <tr>\n",
       "      <th>2</th>\n",
       "      <td>wow i guess soyboys are the same in every country</td>\n",
       "      <td>0</td>\n",
       "    </tr>\n",
       "    <tr>\n",
       "      <th>3</th>\n",
       "      <td>owen benjamin's soyboy song goes for every cou...</td>\n",
       "      <td>0</td>\n",
       "    </tr>\n",
       "    <tr>\n",
       "      <th>4</th>\n",
       "      <td>&gt; \"y'all hear sumn?\"  by all means i live in a...</td>\n",
       "      <td>0</td>\n",
       "    </tr>\n",
       "  </tbody>\n",
       "</table>\n",
       "</div>"
      ],
      "text/plain": [
       "                                             comment  hate_speech\n",
       "0  a subsection of retarded hungarians? ohh boy. ...            1\n",
       "1  hiii. just got off work. 444 is mainly the typ...            0\n",
       "2  wow i guess soyboys are the same in every country            0\n",
       "3  owen benjamin's soyboy song goes for every cou...            0\n",
       "4  > \"y'all hear sumn?\"  by all means i live in a...            0"
      ]
     },
<<<<<<< HEAD
     "execution_count": 25,
=======
     "execution_count": 24,
>>>>>>> main
     "metadata": {},
     "output_type": "execute_result"
    }
   ],
   "source": [
    "df['comment']=df['comment'].str.lower()\n",
    "df.head()"
   ]
  },
  {
   "cell_type": "code",
<<<<<<< HEAD
   "execution_count": 26,
   "id": "59dbde25",
   "metadata": {
    "scrolled": true
   },
   "outputs": [
    {
     "data": {
      "text/plain": [
       "'hiii. just got off work. 444 is mainly the typa guys you imagine writing for us stupid sites, but basically they just try to fit in with the western european and us big city hipsters.   rich kids from budapest who feel they are brave journalistic heroes.'"
      ]
     },
     "execution_count": 26,
     "metadata": {},
     "output_type": "execute_result"
    }
   ],
   "source": [
    "df['comment'][1]"
   ]
  },
  {
   "cell_type": "markdown",
   "id": "465816b2",
   "metadata": {},
   "source": [
    "## Remove Extra Spaces\n",
    "\n",
    "#### While analyzing text data for classification or other types of analysis, it's essential to ensure the text is clean and well-formatted. Extra spaces, whether between words or at the beginning and end of the text, can lead to inconsistencies and affect the performance of text processing algorithms. Removing these extra spaces helps standardize the text, making it more suitable for analysis."
   ]
  },
  {
   "cell_type": "code",
   "execution_count": 27,
   "id": "47d42651",
=======
   "execution_count": 25,
   "id": "59dbde25",
>>>>>>> main
   "metadata": {},
   "outputs": [
    {
     "data": {
      "text/plain": [
       "'hiii. just got off work. 444 is mainly the typa guys you imagine writing for us stupid sites, but basically they just try to fit in with the western european and us big city hipsters.   rich kids from budapest who feel they are brave journalistic heroes.'"
      ]
     },
<<<<<<< HEAD
     "execution_count": 27,
     "metadata": {},
     "output_type": "execute_result"
    }
   ],
   "source": [
    "df['comment'][1]"
   ]
  },
  {
   "cell_type": "code",
   "execution_count": 28,
   "id": "87674228",
   "metadata": {},
   "outputs": [
    {
     "data": {
      "text/html": [
       "<div>\n",
       "<style scoped>\n",
       "    .dataframe tbody tr th:only-of-type {\n",
       "        vertical-align: middle;\n",
       "    }\n",
       "\n",
       "    .dataframe tbody tr th {\n",
       "        vertical-align: top;\n",
       "    }\n",
       "\n",
       "    .dataframe thead th {\n",
       "        text-align: right;\n",
       "    }\n",
       "</style>\n",
       "<table border=\"1\" class=\"dataframe\">\n",
       "  <thead>\n",
       "    <tr style=\"text-align: right;\">\n",
       "      <th></th>\n",
       "      <th>comment</th>\n",
       "      <th>hate_speech</th>\n",
       "    </tr>\n",
       "  </thead>\n",
       "  <tbody>\n",
       "    <tr>\n",
       "      <th>0</th>\n",
       "      <td>a subsection of retarded hungarians? ohh boy. ...</td>\n",
       "      <td>1</td>\n",
       "    </tr>\n",
       "    <tr>\n",
       "      <th>1</th>\n",
       "      <td>hiii. just got off work. 444 is mainly the typ...</td>\n",
       "      <td>0</td>\n",
       "    </tr>\n",
       "    <tr>\n",
       "      <th>2</th>\n",
       "      <td>wow i guess soyboys are the same in every country</td>\n",
       "      <td>0</td>\n",
       "    </tr>\n",
       "    <tr>\n",
       "      <th>3</th>\n",
       "      <td>owen benjamin's soyboy song goes for every cou...</td>\n",
       "      <td>0</td>\n",
       "    </tr>\n",
       "    <tr>\n",
       "      <th>4</th>\n",
       "      <td>&gt; \"y'all hear sumn?\" by all means i live in a ...</td>\n",
       "      <td>0</td>\n",
       "    </tr>\n",
       "  </tbody>\n",
       "</table>\n",
       "</div>"
      ],
      "text/plain": [
       "                                             comment  hate_speech\n",
       "0  a subsection of retarded hungarians? ohh boy. ...            1\n",
       "1  hiii. just got off work. 444 is mainly the typ...            0\n",
       "2  wow i guess soyboys are the same in every country            0\n",
       "3  owen benjamin's soyboy song goes for every cou...            0\n",
       "4  > \"y'all hear sumn?\" by all means i live in a ...            0"
      ]
     },
     "execution_count": 28,
     "metadata": {},
     "output_type": "execute_result"
    }
   ],
   "source": [
    "def clean_spaces(text):\n",
    "    if isinstance(text, str):\n",
    "        # Remove multiple consecutive spaces and trim leading/trailing spaces\n",
    "        text = ' '.join(text.split())\n",
    "    return text\n",
    "\n",
    "df['comment'] = df['comment'].apply(clean_spaces)\n",
    "df.head()"
   ]
  },
  {
   "cell_type": "code",
   "execution_count": 29,
   "id": "e67369c2",
   "metadata": {},
   "outputs": [
    {
     "data": {
      "text/plain": [
       "'hiii. just got off work. 444 is mainly the typa guys you imagine writing for us stupid sites, but basically they just try to fit in with the western european and us big city hipsters. rich kids from budapest who feel they are brave journalistic heroes.'"
      ]
     },
     "execution_count": 29,
=======
     "execution_count": 25,
>>>>>>> main
     "metadata": {},
     "output_type": "execute_result"
    }
   ],
   "source": [
    "df['comment'][1]"
   ]
  },
  {
   "cell_type": "markdown",
   "id": "05a22cb1",
   "metadata": {},
   "source": [
    "## Removing HTML Tags \n",
    "\n",
    "#### Removing unwanted data from the text, let’s take the case of scraping data from web, where we get html tags which are unnecessary for the data,those should be removed."
   ]
  },
  {
   "cell_type": "code",
<<<<<<< HEAD
   "execution_count": 30,
=======
   "execution_count": 26,
>>>>>>> main
   "id": "65cee46d",
   "metadata": {},
   "outputs": [
    {
     "data": {
      "text/html": [
       "<div>\n",
       "<style scoped>\n",
       "    .dataframe tbody tr th:only-of-type {\n",
       "        vertical-align: middle;\n",
       "    }\n",
       "\n",
       "    .dataframe tbody tr th {\n",
       "        vertical-align: top;\n",
       "    }\n",
       "\n",
       "    .dataframe thead th {\n",
       "        text-align: right;\n",
       "    }\n",
       "</style>\n",
       "<table border=\"1\" class=\"dataframe\">\n",
       "  <thead>\n",
       "    <tr style=\"text-align: right;\">\n",
       "      <th></th>\n",
       "      <th>comment</th>\n",
       "      <th>hate_speech</th>\n",
       "    </tr>\n",
       "  </thead>\n",
       "  <tbody>\n",
       "    <tr>\n",
       "      <th>0</th>\n",
       "      <td>a subsection of retarded hungarians? ohh boy. ...</td>\n",
       "      <td>1</td>\n",
       "    </tr>\n",
       "    <tr>\n",
       "      <th>1</th>\n",
       "      <td>hiii. just got off work. 444 is mainly the typ...</td>\n",
       "      <td>0</td>\n",
       "    </tr>\n",
       "    <tr>\n",
       "      <th>2</th>\n",
       "      <td>wow i guess soyboys are the same in every country</td>\n",
       "      <td>0</td>\n",
       "    </tr>\n",
       "    <tr>\n",
       "      <th>3</th>\n",
       "      <td>owen benjamin's soyboy song goes for every cou...</td>\n",
       "      <td>0</td>\n",
       "    </tr>\n",
       "    <tr>\n",
       "      <th>4</th>\n",
<<<<<<< HEAD
       "      <td>&gt; \"y'all hear sumn?\" by all means i live in a ...</td>\n",
=======
       "      <td>&gt; \"y'all hear sumn?\"  by all means i live in a...</td>\n",
>>>>>>> main
       "      <td>0</td>\n",
       "    </tr>\n",
       "  </tbody>\n",
       "</table>\n",
       "</div>"
      ],
      "text/plain": [
       "                                             comment  hate_speech\n",
       "0  a subsection of retarded hungarians? ohh boy. ...            1\n",
       "1  hiii. just got off work. 444 is mainly the typ...            0\n",
       "2  wow i guess soyboys are the same in every country            0\n",
       "3  owen benjamin's soyboy song goes for every cou...            0\n",
<<<<<<< HEAD
       "4  > \"y'all hear sumn?\" by all means i live in a ...            0"
      ]
     },
     "execution_count": 30,
=======
       "4  > \"y'all hear sumn?\"  by all means i live in a...            0"
      ]
     },
     "execution_count": 26,
>>>>>>> main
     "metadata": {},
     "output_type": "execute_result"
    }
   ],
   "source": [
    "def remove_html_tags(text):\n",
    "    if isinstance(text, float) or text is None:  # Check for float or None and convert to empty string\n",
    "        text = ''\n",
<<<<<<< HEAD
    "    pattern = re.compile(r'<.*?>')\n",
=======
    "    pattern = re.compile(r'<[^>]+>')\n",
>>>>>>> main
    "    return pattern.sub('', text)\n",
    "\n",
    "df['comment'] = df['comment'].astype(str)\n",
    "df['comment'] = df['comment'].apply(remove_html_tags)\n",
    "df.head()"
   ]
  },
  {
   "cell_type": "markdown",
   "id": "938e6737",
   "metadata": {},
   "source": [
    "## Removing URL"
   ]
  },
  {
   "cell_type": "code",
<<<<<<< HEAD
   "execution_count": 31,
=======
   "execution_count": 27,
>>>>>>> main
   "id": "801ce1c4",
   "metadata": {},
   "outputs": [
    {
     "data": {
      "text/html": [
       "<div>\n",
       "<style scoped>\n",
       "    .dataframe tbody tr th:only-of-type {\n",
       "        vertical-align: middle;\n",
       "    }\n",
       "\n",
       "    .dataframe tbody tr th {\n",
       "        vertical-align: top;\n",
       "    }\n",
       "\n",
       "    .dataframe thead th {\n",
       "        text-align: right;\n",
       "    }\n",
       "</style>\n",
       "<table border=\"1\" class=\"dataframe\">\n",
       "  <thead>\n",
       "    <tr style=\"text-align: right;\">\n",
       "      <th></th>\n",
       "      <th>comment</th>\n",
       "      <th>hate_speech</th>\n",
       "    </tr>\n",
       "  </thead>\n",
       "  <tbody>\n",
       "    <tr>\n",
       "      <th>0</th>\n",
       "      <td>a subsection of retarded hungarians? ohh boy. ...</td>\n",
       "      <td>1</td>\n",
       "    </tr>\n",
       "    <tr>\n",
       "      <th>1</th>\n",
       "      <td>hiii. just got off work. 444 is mainly the typ...</td>\n",
       "      <td>0</td>\n",
       "    </tr>\n",
       "    <tr>\n",
       "      <th>2</th>\n",
       "      <td>wow i guess soyboys are the same in every country</td>\n",
       "      <td>0</td>\n",
       "    </tr>\n",
       "    <tr>\n",
       "      <th>3</th>\n",
       "      <td>owen benjamin's soyboy song goes for every cou...</td>\n",
       "      <td>0</td>\n",
       "    </tr>\n",
       "    <tr>\n",
       "      <th>4</th>\n",
<<<<<<< HEAD
       "      <td>&gt; \"y'all hear sumn?\" by all means i live in a ...</td>\n",
=======
       "      <td>&gt; \"y'all hear sumn?\"  by all means i live in a...</td>\n",
>>>>>>> main
       "      <td>0</td>\n",
       "    </tr>\n",
       "  </tbody>\n",
       "</table>\n",
       "</div>"
      ],
      "text/plain": [
       "                                             comment  hate_speech\n",
       "0  a subsection of retarded hungarians? ohh boy. ...            1\n",
       "1  hiii. just got off work. 444 is mainly the typ...            0\n",
       "2  wow i guess soyboys are the same in every country            0\n",
       "3  owen benjamin's soyboy song goes for every cou...            0\n",
<<<<<<< HEAD
       "4  > \"y'all hear sumn?\" by all means i live in a ...            0"
      ]
     },
     "execution_count": 31,
=======
       "4  > \"y'all hear sumn?\"  by all means i live in a...            0"
      ]
     },
     "execution_count": 27,
>>>>>>> main
     "metadata": {},
     "output_type": "execute_result"
    }
   ],
   "source": [
    "def remove_url(text):\n",
    "    pattern=re.compile(r'https?://\\s+|www.\\.\\S+')\n",
    "    return pattern.sub(r'',text)\n",
    "\n",
    "df['comment']=df['comment'].apply(remove_url)\n",
    "df.head()"
   ]
  },
  {
   "cell_type": "markdown",
   "id": "a1f1d0fa",
   "metadata": {},
   "source": [
    "## Stop words Removal \n",
    "\n",
    "#### Words which help in sentence formation, but does not aid any meaning to the sentence like ‘a’, ‘an’, ‘the’, ‘is’ and so on."
   ]
  },
  {
   "cell_type": "code",
<<<<<<< HEAD
   "execution_count": 32,
=======
   "execution_count": 28,
>>>>>>> main
   "id": "a0581abd",
   "metadata": {},
   "outputs": [
    {
     "data": {
      "text/plain": [
<<<<<<< HEAD
       "'hiii. just got off work. 444 is mainly the typa guys you imagine writing for us stupid sites, but basically they just try to fit in with the western european and us big city hipsters. rich kids from budapest who feel they are brave journalistic heroes.'"
      ]
     },
     "execution_count": 32,
=======
       "'hiii. just got off work. 444 is mainly the typa guys you imagine writing for us stupid sites, but basically they just try to fit in with the western european and us big city hipsters.   rich kids from budapest who feel they are brave journalistic heroes.'"
      ]
     },
     "execution_count": 28,
>>>>>>> main
     "metadata": {},
     "output_type": "execute_result"
    }
   ],
   "source": [
    "df['comment'][1]"
   ]
  },
  {
   "cell_type": "code",
<<<<<<< HEAD
   "execution_count": 33,
=======
   "execution_count": 29,
>>>>>>> main
   "id": "2e7e163e",
   "metadata": {},
   "outputs": [
    {
     "data": {
      "text/html": [
       "<div>\n",
       "<style scoped>\n",
       "    .dataframe tbody tr th:only-of-type {\n",
       "        vertical-align: middle;\n",
       "    }\n",
       "\n",
       "    .dataframe tbody tr th {\n",
       "        vertical-align: top;\n",
       "    }\n",
       "\n",
       "    .dataframe thead th {\n",
       "        text-align: right;\n",
       "    }\n",
       "</style>\n",
       "<table border=\"1\" class=\"dataframe\">\n",
       "  <thead>\n",
       "    <tr style=\"text-align: right;\">\n",
       "      <th></th>\n",
       "      <th>comment</th>\n",
       "      <th>hate_speech</th>\n",
       "    </tr>\n",
       "  </thead>\n",
       "  <tbody>\n",
       "    <tr>\n",
       "      <th>0</th>\n",
       "      <td>subsection  retarded hungarians? ohh boy. bra...</td>\n",
       "      <td>1</td>\n",
       "    </tr>\n",
       "    <tr>\n",
       "      <th>1</th>\n",
       "      <td>hiii. just got  work. 444  mainly  typa guys  ...</td>\n",
       "      <td>0</td>\n",
       "    </tr>\n",
       "    <tr>\n",
       "      <th>2</th>\n",
       "      <td>wow  guess soyboys     every country</td>\n",
       "      <td>0</td>\n",
       "    </tr>\n",
       "    <tr>\n",
       "      <th>3</th>\n",
       "      <td>owen benjamin's soyboy song goes  every countr...</td>\n",
       "      <td>0</td>\n",
       "    </tr>\n",
       "    <tr>\n",
       "      <th>4</th>\n",
       "      <td>&gt; \"y'all hear sumn?\"   means  live   small tow...</td>\n",
       "      <td>0</td>\n",
       "    </tr>\n",
       "  </tbody>\n",
       "</table>\n",
       "</div>"
      ],
      "text/plain": [
       "                                             comment  hate_speech\n",
       "0   subsection  retarded hungarians? ohh boy. bra...            1\n",
       "1  hiii. just got  work. 444  mainly  typa guys  ...            0\n",
       "2               wow  guess soyboys     every country            0\n",
       "3  owen benjamin's soyboy song goes  every countr...            0\n",
       "4  > \"y'all hear sumn?\"   means  live   small tow...            0"
      ]
     },
<<<<<<< HEAD
     "execution_count": 33,
=======
     "execution_count": 29,
>>>>>>> main
     "metadata": {},
     "output_type": "execute_result"
    }
   ],
   "source": [
    "stop_words = get_stop_words('en')\n",
    "def stop_words_removal(text):\n",
    "    new_text=[]\n",
    "    for word in text.split():\n",
    "        if word in get_stop_words('en'):\n",
    "            new_text.append('')\n",
    "        else:\n",
    "            new_text.append(word)\n",
    "    return ' '.join(new_text)\n",
    "\n",
    "df['comment']=df['comment'].apply(stop_words_removal)\n",
    "df.head()"
   ]
  },
  {
   "cell_type": "code",
<<<<<<< HEAD
   "execution_count": 34,
=======
   "execution_count": 30,
>>>>>>> main
   "id": "408eff26",
   "metadata": {},
   "outputs": [
    {
     "data": {
      "text/plain": [
       "'hiii. just got  work. 444  mainly  typa guys  imagine writing  us stupid sites,  basically  just try  fit    western european  us big city hipsters. rich kids  budapest  feel   brave journalistic heroes.'"
      ]
     },
<<<<<<< HEAD
     "execution_count": 34,
=======
     "execution_count": 30,
>>>>>>> main
     "metadata": {},
     "output_type": "execute_result"
    }
   ],
   "source": [
    "df['comment'][1]"
   ]
  },
  {
   "cell_type": "markdown",
   "id": "95a26915",
   "metadata": {},
   "source": [
    "## Chat Word Treatment \n",
    "\n",
    "#### Words like ROFL,LMAO,FYI,GD,ASAP, are found in chat messages of many social media platforms like WhatsApp, Instagram, Twitter. While summarizing the text, to understand the meaning of the word, these short words should be replaced with long forms. "
   ]
  },
  {
   "cell_type": "code",
<<<<<<< HEAD
   "execution_count": 35,
=======
   "execution_count": 31,
>>>>>>> main
   "id": "50a4f48f",
   "metadata": {},
   "outputs": [],
   "source": [
    "chat_words={'AFAIK': 'As Far As I Know',\n",
    "'AFK':'Away From Keyboard',\n",
    "'ASAP':'As Soon As Possible',\n",
    "'ATK':'At The Keyboard',\n",
    "'ATM':'At The Moment',\n",
    "'A3':'Anytime, Anywhere, Anyplace',\n",
    "'BAK':'Back At Keyboard',\n",
    "'BBL': 'Be Back Later',\n",
    "'BBS': 'Be Back Soon',\n",
    "'BFN': 'Bye For Now',\n",
    "'B4N': 'Bye For Now',\n",
    "'BRB': 'Be Right Back',\n",
    "'BRT': 'Be Right There',\n",
    "'BTW': 'By The Way',\n",
    "'B4': 'Before',\n",
    "'B4N': 'Bye For Now',\n",
    "'CU':'See You',\n",
    "'CUL8R':'See You Later',\n",
    "'CYA': 'See You',\n",
    "'FAQ': 'Frequently Asked Questions',\n",
    "'FC': 'Fingers Crossed',\n",
    "'FWIW': 'For What Its Worth',\n",
    "'FYI': 'For Your Information',\n",
    "'GAL': 'Get A Life',\n",
    "'GG': 'Good Game',\n",
    "'GN' : 'Good Night',\n",
    "'GMTA': 'Great Minds Think Alike',\n",
    "'GR8': 'Great!',\n",
    "'G9': 'Genius',\n",
    "'IC': 'I See',\n",
    "'ICQ': 'I Seek you (also a chat program)',\n",
    "'ILU': 'I Love You',\n",
    "'IMHO': 'In My Honest/Humble Opinion',\n",
    "'IMO':'In My Opinion',\n",
    "'IOW':'In Other Words',\n",
    "'IRL': 'In Real Life',\n",
    "'KISS':'Keep It Simple, Stupid',\n",
    "'LDR':'Long Distance Relationship',\n",
    "'LMAO':'Laugh My A.. Off',\n",
    "'LOL':'Laughing Out Loud',\n",
    "'LTNS': 'Long Time No See',\n",
    "'L8R': 'Later',\n",
    "'MTE': 'My Thoughts Exactly',\n",
    "'M8': 'Mate',\n",
    "'NRN': 'No Reply Necessary',\n",
    "'OIC':'Oh I See',\n",
    "'PITA':'Pain In The A..',\n",
    "'PRT': 'Party',\n",
    "'PRW':'Parents Are Watching',\n",
    "'QPSA':\t'Que Pasa?',\n",
    "'ROFL':'Rolling On The Floor Laughing',\n",
    "'ROFLOL': 'Rolling On The Floor Laughing Out Loud',\n",
    "'ROTFLMAO':'Rolling On The Floor Laughing My A.. Off',\n",
    "'SK8':'Skate',\n",
    "'STATS':'Your sex and age',\n",
    "'ASL':'Age, Sex, Location',\n",
    "'THX':'Thank You',\n",
    "'TTFN':'Ta-Ta For Now!',\n",
    "'TTYL':'Talk To You Later',\n",
    "'U':'You',\n",
    "'U2':'You Too',\n",
    "'U4E':'Yours For Ever',\n",
    "'WB':'Welcome Back',\n",
    "'WTF':'What The F...',\n",
    "'WTG':'Way To Go!',\n",
    "'WUF':'Where Are You From?',\n",
    "'W8':'Wait...',\n",
    "'7K':'Sick'}"
   ]
  },
  {
   "cell_type": "code",
<<<<<<< HEAD
   "execution_count": 36,
=======
   "execution_count": 32,
>>>>>>> main
   "id": "a1bc79e7",
   "metadata": {},
   "outputs": [
    {
     "data": {
      "text/plain": [
       "' apparently  don’t *study*    either.    had, you’d know   much-anticipated modern reformation  islam will never actually happen.  i’m wasting  time.   think marxism   positive influence   christian west,   retarded. last  checked, atheists still need food lol'"
      ]
     },
<<<<<<< HEAD
     "execution_count": 36,
=======
     "execution_count": 32,
>>>>>>> main
     "metadata": {},
     "output_type": "execute_result"
    }
   ],
   "source": [
    "df['comment'][16]"
   ]
  },
  {
   "cell_type": "code",
<<<<<<< HEAD
   "execution_count": 37,
   "id": "dbe898a6",
   "metadata": {},
   "outputs": [
    {
     "data": {
      "text/html": [
       "<div>\n",
       "<style scoped>\n",
       "    .dataframe tbody tr th:only-of-type {\n",
       "        vertical-align: middle;\n",
       "    }\n",
       "\n",
       "    .dataframe tbody tr th {\n",
       "        vertical-align: top;\n",
       "    }\n",
       "\n",
       "    .dataframe thead th {\n",
       "        text-align: right;\n",
       "    }\n",
       "</style>\n",
       "<table border=\"1\" class=\"dataframe\">\n",
       "  <thead>\n",
       "    <tr style=\"text-align: right;\">\n",
       "      <th></th>\n",
       "      <th>comment</th>\n",
       "      <th>hate_speech</th>\n",
       "    </tr>\n",
       "  </thead>\n",
       "  <tbody>\n",
       "    <tr>\n",
       "      <th>0</th>\n",
       "      <td>subsection retarded hungarians? ohh boy. brace...</td>\n",
       "      <td>1</td>\n",
       "    </tr>\n",
       "    <tr>\n",
       "      <th>1</th>\n",
       "      <td>hiii. just got work. 444 mainly typa guys imag...</td>\n",
       "      <td>0</td>\n",
       "    </tr>\n",
       "    <tr>\n",
       "      <th>2</th>\n",
       "      <td>wow guess soyboys every country</td>\n",
       "      <td>0</td>\n",
       "    </tr>\n",
       "    <tr>\n",
       "      <th>3</th>\n",
       "      <td>owen benjamin's soyboy song goes every country...</td>\n",
       "      <td>0</td>\n",
       "    </tr>\n",
       "    <tr>\n",
       "      <th>4</th>\n",
       "      <td>&gt; \"y'all hear sumn?\" means live small town rn ...</td>\n",
       "      <td>0</td>\n",
       "    </tr>\n",
       "  </tbody>\n",
       "</table>\n",
       "</div>"
      ],
      "text/plain": [
       "                                             comment  hate_speech\n",
       "0  subsection retarded hungarians? ohh boy. brace...            1\n",
       "1  hiii. just got work. 444 mainly typa guys imag...            0\n",
       "2                    wow guess soyboys every country            0\n",
       "3  owen benjamin's soyboy song goes every country...            0\n",
       "4  > \"y'all hear sumn?\" means live small town rn ...            0"
      ]
     },
     "execution_count": 37,
     "metadata": {},
     "output_type": "execute_result"
    }
   ],
=======
   "execution_count": 33,
   "id": "dbe898a6",
   "metadata": {},
   "outputs": [],
>>>>>>> main
   "source": [
    "def chat_word(text):\n",
    "    new_text=[]\n",
    "    for word in text.split():\n",
    "        if word.upper() in chat_words:\n",
    "            new_text.append(chat_words[word.upper()])\n",
    "        else:\n",
    "            new_text.append(word)\n",
    "            \n",
    "    return \" \".join(new_text)\n",
    "\n",
<<<<<<< HEAD
    "df['comment']=df['comment'].apply(chat_word)\n",
    "df.head()"
=======
    "df['comment']=df['comment'].apply(chat_word)\n"
>>>>>>> main
   ]
  },
  {
   "cell_type": "code",
<<<<<<< HEAD
   "execution_count": 38,
=======
   "execution_count": 34,
>>>>>>> main
   "id": "5dd103c1",
   "metadata": {},
   "outputs": [
    {
     "data": {
      "text/plain": [
       "'apparently don’t *study* either. had, you’d know much-anticipated modern reformation islam will never actually happen. i’m wasting time. think marxism positive influence christian west, retarded. last checked, atheists still need food Laughing Out Loud'"
      ]
     },
<<<<<<< HEAD
     "execution_count": 38,
=======
     "execution_count": 34,
>>>>>>> main
     "metadata": {},
     "output_type": "execute_result"
    }
   ],
   "source": [
    "df['comment'][16]"
   ]
  },
  {
   "cell_type": "markdown",
   "id": "fea68239",
   "metadata": {},
   "source": [
    "## Handling Emoji’s \n",
    "\n",
<<<<<<< HEAD
    "#### While analyzing chatting messages, for text classification or sentiment analysis, emoji’s particularly have a meaning, we can replace emoji expression with their corresponding meaning. "
=======
    "#### While analyzing chatting messages, for text classification or sentiment analysis, emoji’s particularly have a meaning, we can replace emoji expression with their corresponding meaning. If our problem statement does not have anything to do with sentiments or feelings,we can remove them. "
   ]
  },
  {
   "cell_type": "code",
   "execution_count": 35,
   "id": "26843657-effc-48f8-abc9-498204f8a598",
   "metadata": {},
   "outputs": [],
   "source": [
    "df['comment'] = df['comment'].astype('str')"
   ]
  },
  {
   "cell_type": "code",
   "execution_count": 36,
   "id": "b7c66d7a-e2b6-4cb8-a850-17d3e3d0b389",
   "metadata": {},
   "outputs": [],
   "source": [
    "import demoji\n",
    "import emoji"
   ]
  },
  {
   "cell_type": "code",
   "execution_count": 37,
   "id": "e9559e4b-bd6b-4b64-8b4d-c09253cc1178",
   "metadata": {},
   "outputs": [],
   "source": [
    "def convert_emojis(text): \n",
    "    text=emoji.demojize(text,delimiters=(\"\",\"\"))\n",
    "    return text"
   ]
  },
  {
   "cell_type": "code",
   "execution_count": 38,
   "id": "c1a64006-ba48-44ff-bc1b-91ccbd592b4d",
   "metadata": {},
   "outputs": [
    {
     "data": {
      "text/plain": [
       "'game is on fire'"
      ]
     },
     "execution_count": 38,
     "metadata": {},
     "output_type": "execute_result"
    }
   ],
   "source": [
    "text = \"game is on 🔥\"\n",
    "convert_emojis(text)"
>>>>>>> main
   ]
  },
  {
   "cell_type": "code",
   "execution_count": 39,
<<<<<<< HEAD
   "id": "03adc9bb",
   "metadata": {
    "scrolled": true
   },
=======
   "id": "5f646518-0b3d-4b29-8316-171825c75d82",
   "metadata": {},
>>>>>>> main
   "outputs": [
    {
     "data": {
      "text/plain": [
<<<<<<< HEAD
       "'“harvard working inclusive.” “oh, they’re accepting students next year?” “no, meant they’re literally racist asians.” 👌'"
=======
       "'smiling_face_with_smiling_eyes,crying_face,smiling_face_with_sunglasses,smiling_face_with_heart-eyes,thinking_face,face_with_tears_of_joy,winking_face,partying_face,winking_face_with_tongue,smiling_face_with_open_hands'"
>>>>>>> main
      ]
     },
     "execution_count": 39,
     "metadata": {},
     "output_type": "execute_result"
    }
   ],
   "source": [
<<<<<<< HEAD
    "df['comment'][9]"
=======
    "text=\"😊,😢,😎,😍,🤔,😂,😉,🥳,😜,🤗\"\n",
    "convert_emojis(text)"
>>>>>>> main
   ]
  },
  {
   "cell_type": "code",
   "execution_count": 40,
   "id": "872ed52d-73e5-47c8-9662-040f33afeaa5",
   "metadata": {},
   "outputs": [
    {
     "data": {
<<<<<<< HEAD
      "text/html": [
       "<div>\n",
       "<style scoped>\n",
       "    .dataframe tbody tr th:only-of-type {\n",
       "        vertical-align: middle;\n",
       "    }\n",
       "\n",
       "    .dataframe tbody tr th {\n",
       "        vertical-align: top;\n",
       "    }\n",
       "\n",
       "    .dataframe thead th {\n",
       "        text-align: right;\n",
       "    }\n",
       "</style>\n",
       "<table border=\"1\" class=\"dataframe\">\n",
       "  <thead>\n",
       "    <tr style=\"text-align: right;\">\n",
       "      <th></th>\n",
       "      <th>comment</th>\n",
       "      <th>hate_speech</th>\n",
       "    </tr>\n",
       "  </thead>\n",
       "  <tbody>\n",
       "    <tr>\n",
       "      <th>0</th>\n",
       "      <td>subsection retarded hungarians? ohh boy. brace...</td>\n",
       "      <td>1</td>\n",
       "    </tr>\n",
       "    <tr>\n",
       "      <th>1</th>\n",
       "      <td>hiii. just got work. 444 mainly typa guys imag...</td>\n",
       "      <td>0</td>\n",
       "    </tr>\n",
       "    <tr>\n",
       "      <th>2</th>\n",
       "      <td>wow guess soyboys every country</td>\n",
       "      <td>0</td>\n",
       "    </tr>\n",
       "    <tr>\n",
       "      <th>3</th>\n",
       "      <td>owen benjamin's soyboy song goes every country...</td>\n",
       "      <td>0</td>\n",
       "    </tr>\n",
       "    <tr>\n",
       "      <th>4</th>\n",
       "      <td>&gt; \"y'all hear sumn?\" means live small town rn ...</td>\n",
       "      <td>0</td>\n",
       "    </tr>\n",
       "  </tbody>\n",
       "</table>\n",
       "</div>"
      ],
      "text/plain": [
       "                                             comment  hate_speech\n",
       "0  subsection retarded hungarians? ohh boy. brace...            1\n",
       "1  hiii. just got work. 444 mainly typa guys imag...            0\n",
       "2                    wow guess soyboys every country            0\n",
       "3  owen benjamin's soyboy song goes every country...            0\n",
       "4  > \"y'all hear sumn?\" means live small town rn ...            0"
=======
      "text/plain": [
       "0        subsection retarded hungarians? ohh boy. brace...\n",
       "1        hiii. just got work. 444 mainly typa guys imag...\n",
       "2                          wow guess soyboys every country\n",
       "3        owen benjamin's soyboy song goes every country...\n",
       "4        > \"y'all hear sumn?\" means live small town rn ...\n",
       "                               ...                        \n",
       "22836         op, stop faggot post videos next time. hard.\n",
       "22837    20 minute long video, top hate champagne goes ...\n",
       "22838    clue whos e-celebs are, point time, > need get...\n",
       "22839                        didn’t insult you, insult me?\n",
       "22840                                          living lie.\n",
       "Name: comment, Length: 22246, dtype: object"
>>>>>>> main
      ]
     },
     "execution_count": 40,
     "metadata": {},
     "output_type": "execute_result"
    }
   ],
   "source": [
<<<<<<< HEAD
    "def convert_emojis(text): \n",
    "    text=emoji.demojize(text,delimiters=(\"\",\"\"))\n",
    "    return text\n",
    "\n",
    "df['comment']=df['comment'].apply(convert_emojis)\n",
    "df.head()"
=======
    "df['comment']=df['comment'].apply(convert_emojis)\n",
    "df['comment']"
>>>>>>> main
   ]
  },
  {
   "cell_type": "code",
   "execution_count": 41,
   "id": "145ef05e-742f-453b-93d9-749328f05e28",
   "metadata": {},
   "outputs": [
    {
     "data": {
      "text/plain": [
       "'“harvard working inclusive.” “oh, they’re accepting students next year?” “no, meant they’re literally racist asians.” OK_hand'"
      ]
     },
     "execution_count": 41,
     "metadata": {},
     "output_type": "execute_result"
    }
   ],
   "source": [
    "df['comment'][9]"
   ]
  },
  {
   "cell_type": "markdown",
<<<<<<< HEAD
   "id": "19cb556d",
   "metadata": {},
   "source": [
    "## Handling Special Numbers\n",
    "\n",
    "#### While analyzing text data for classification or other types of analysis, special numbers within the text can hold significant meaning. These numbers can be replaced with their corresponding meanings to provide context."
   ]
  },
  {
   "cell_type": "code",
   "execution_count": 42,
   "id": "37640f1e-cc65-45ad-82be-99defe414c6f",
   "metadata": {},
   "outputs": [],
   "source": [
    "number_meanings = {\n",
    "    '111': 'Alignment and manifestation',\n",
    "    '1111': 'New beginnings and unity',\n",
    "    '222': 'Balance and harmony',\n",
    "    '333': 'Protection and encouragement',\n",
    "    '444': 'Foundation and grounding',\n",
    "    '555': 'Change and transformation',\n",
    "    '666': 'Reflection and personal development',\n",
    "    '777': 'Spiritual growth and good fortune',\n",
    "    '888': 'Abundance and success',\n",
    "    '999': 'Completion and closure',\n",
    "    '1010': 'Personal development and growth',\n",
    "    '1212': 'Spiritual awakening and higher consciousness',\n",
    "    '1234': 'Progress and moving forward',\n",
    "    '2222': 'Peace and balance in life',\n",
    "    '3333': 'Divine protection and guidance',\n",
    "    '4444': 'Strong foundation and support',\n",
    "    '5555': 'Major life changes',\n",
    "    '6666': 'Reflecting on past choices',\n",
    "    '7777': 'Luck and spiritual awareness',\n",
    "    '8888': 'Financial abundance and prosperity',\n",
    "    '9999': 'Endings leading to new beginnings',\n",
    "    '1001': 'Self-improvement and new perspectives',\n",
    "    '1101': 'Opening new doors and opportunities',\n",
    "    '1211': 'Embracing new phases in life',\n",
    "    '1233': 'Balanced progress and harmony',\n",
    "    '1441': 'Foundation and new opportunities',\n",
    "    '1515': 'Personal growth and freedom',\n",
    "    '1616': 'Stability and inner strength',\n",
    "    '1717': 'Awakening and self-awareness',\n",
    "    '1818': 'Financial success and independence',\n",
    "    '1919': 'Completion of cycles and new beginnings',\n",
    "    '2020': 'Vision and clarity',\n",
    "    '2121': 'Positive change and new opportunities',\n",
    "    '2323': 'Creativity and self-expression',\n",
    "    '2424': 'Building strong foundations',\n",
    "    '2525': 'Adaptability and positive change',\n",
    "    '2626': 'Nurturing and care for loved ones',\n",
    "    '2727': 'Spiritual awareness and inner wisdom',\n",
    "    '2828': 'Abundance and prosperity',\n",
    "    '2929': 'Transformation and new phases',\n",
    "    '3030': 'Creativity and communication',\n",
    "    '3131': 'Optimism and positive energy',\n",
    "    '3232': 'Faith and trust in the universe',\n",
    "    '3434': 'Stability and determination',\n",
    "    '3535': 'Personal freedom and individuality',\n",
    "    '3636': 'Nurturing and compassion',\n",
    "    '3737': 'Spiritual growth and awareness',\n",
    "    '3838': 'Ab'}\n"
   ]
  },
  {
   "cell_type": "code",
   "execution_count": 43,
   "id": "bcfa08cc",
   "metadata": {},
   "outputs": [
    {
     "data": {
      "text/plain": [
       "'hiii. just got work. 444 mainly typa guys imagine writing us stupid sites, basically just try fit western european us big city hipsters. rich kids budapest feel brave journalistic heroes.'"
      ]
     },
     "execution_count": 43,
     "metadata": {},
     "output_type": "execute_result"
    }
   ],
   "source": [
    "df['comment'][1]"
   ]
  },
  {
   "cell_type": "code",
   "execution_count": 44,
   "id": "fc96d676",
   "metadata": {
    "scrolled": true
   },
   "outputs": [
    {
     "data": {
      "text/html": [
       "<div>\n",
       "<style scoped>\n",
       "    .dataframe tbody tr th:only-of-type {\n",
       "        vertical-align: middle;\n",
       "    }\n",
       "\n",
       "    .dataframe tbody tr th {\n",
       "        vertical-align: top;\n",
       "    }\n",
       "\n",
       "    .dataframe thead th {\n",
       "        text-align: right;\n",
       "    }\n",
       "</style>\n",
       "<table border=\"1\" class=\"dataframe\">\n",
       "  <thead>\n",
       "    <tr style=\"text-align: right;\">\n",
       "      <th></th>\n",
       "      <th>comment</th>\n",
       "      <th>hate_speech</th>\n",
       "    </tr>\n",
       "  </thead>\n",
       "  <tbody>\n",
       "    <tr>\n",
       "      <th>0</th>\n",
       "      <td>subsection retarded hungarians? ohh boy. brace...</td>\n",
       "      <td>1</td>\n",
       "    </tr>\n",
       "    <tr>\n",
       "      <th>1</th>\n",
       "      <td>hiii. just got work. Foundation and grounding ...</td>\n",
       "      <td>0</td>\n",
       "    </tr>\n",
       "    <tr>\n",
       "      <th>2</th>\n",
       "      <td>wow guess soyboys every country</td>\n",
       "      <td>0</td>\n",
       "    </tr>\n",
       "    <tr>\n",
       "      <th>3</th>\n",
       "      <td>owen benjamin's soyboy song goes every country...</td>\n",
       "      <td>0</td>\n",
       "    </tr>\n",
       "    <tr>\n",
       "      <th>4</th>\n",
       "      <td>&gt; \"y'all hear sumn?\" means live small town rn ...</td>\n",
       "      <td>0</td>\n",
       "    </tr>\n",
       "  </tbody>\n",
       "</table>\n",
       "</div>"
      ],
      "text/plain": [
       "                                             comment  hate_speech\n",
       "0  subsection retarded hungarians? ohh boy. brace...            1\n",
       "1  hiii. just got work. Foundation and grounding ...            0\n",
       "2                    wow guess soyboys every country            0\n",
       "3  owen benjamin's soyboy song goes every country...            0\n",
       "4  > \"y'all hear sumn?\" means live small town rn ...            0"
      ]
     },
     "execution_count": 44,
     "metadata": {},
     "output_type": "execute_result"
    }
   ],
   "source": [
    "def replace_numbers(text):\n",
    "    new_text = []\n",
    "    if isinstance(text, str):\n",
    "        for word in text.split():\n",
    "            if word.isdigit() and word in number_meanings:\n",
    "                new_text.append(number_meanings[word])\n",
    "            elif word.isdigit():\n",
    "                continue  # Skip the word if it is a number and not in number_meanings\n",
    "            else:\n",
    "                new_text.append(word)\n",
    "        text = \" \".join(new_text).strip()\n",
    "    return text\n",
    "\n",
    "df['comment'] = df['comment'].apply(replace_numbers)\n",
    "df.head()"
   ]
  },
  {
   "cell_type": "code",
   "execution_count": 45,
   "id": "5eb83768-ccb8-4676-8099-949cdc40d28e",
   "metadata": {},
   "outputs": [
    {
     "data": {
      "text/plain": [
       "'hiii. just got work. Foundation and grounding mainly typa guys imagine writing us stupid sites, basically just try fit western european us big city hipsters. rich kids budapest feel brave journalistic heroes.'"
      ]
     },
     "execution_count": 45,
     "metadata": {},
     "output_type": "execute_result"
    }
   ],
   "source": [
    "df['comment'][1]"
   ]
  },
  {
   "cell_type": "markdown",
=======
>>>>>>> main
   "id": "3c19783e-35c6-47e5-9e28-637b19aa4cdc",
   "metadata": {},
   "source": [
    "## Removing Punctuations \n",
    "\n",
    "#### When we are tokenizing the sentences, punctuations become different words. For example, \"Hello! how are you?\" is tokenized as [Hello , !, how ,are, you,?]. Here punctuation marks are taken as different words. It adds complexity to the model by performing more operations to the code and punctuations does not attribute any meaning to the sentence."
   ]
  },
  {
   "cell_type": "code",
<<<<<<< HEAD
   "execution_count": 46,
   "id": "25aa0b35",
=======
   "execution_count": 42,
   "id": "ae25f021-e85a-4b75-a4f6-a19c964e3212",
>>>>>>> main
   "metadata": {},
   "outputs": [
    {
     "data": {
      "text/plain": [
<<<<<<< HEAD
       "'hiii. just got work. Foundation and grounding mainly typa guys imagine writing us stupid sites, basically just try fit western european us big city hipsters. rich kids budapest feel brave journalistic heroes.'"
      ]
     },
     "execution_count": 46,
=======
       "'“harvard working inclusive.” “oh, they’re accepting students next year?” “no, meant they’re literally racist asians.” OK_hand'"
      ]
     },
     "execution_count": 42,
>>>>>>> main
     "metadata": {},
     "output_type": "execute_result"
    }
   ],
   "source": [
<<<<<<< HEAD
    "df['comment'][1]"
=======
    "df['comment'][9]"
   ]
  },
  {
   "cell_type": "code",
   "execution_count": 43,
   "id": "43612962-aadb-4477-ab62-84352bd7f663",
   "metadata": {},
   "outputs": [],
   "source": [
    "df['comment'] = df['comment'].astype('str')"
   ]
  },
  {
   "cell_type": "code",
   "execution_count": 44,
   "id": "2fd214b6-4544-4ca6-b37e-4f8a42fbafb4",
   "metadata": {},
   "outputs": [],
   "source": [
    "df['comment'] = df['comment'].str.replace('\\W', ' ', regex=True) #removing punctuations\n",
    "\n"
   ]
  },
  {
   "cell_type": "code",
   "execution_count": 45,
   "id": "9f133734-0aa4-4d5b-8c62-000a85a2712e",
   "metadata": {},
   "outputs": [],
   "source": [
    "df['comment'] = df['comment'].str.replace(\"\\s+\", \" \", regex=True).str.strip() #removing extra spaces"
   ]
  },
  {
   "cell_type": "code",
   "execution_count": 46,
   "id": "771b1cd1-d857-48e5-a157-c744b5b81549",
   "metadata": {},
   "outputs": [],
   "source": [
    "df['comment'] = df['comment'].str.replace('_', ' ', regex=True) "
>>>>>>> main
   ]
  },
  {
   "cell_type": "code",
   "execution_count": 47,
<<<<<<< HEAD
   "id": "61f07b7d",
   "metadata": {},
   "outputs": [
    {
     "name": "stdout",
     "output_type": "stream",
     "text": [
      "!\"#$%&'()*+,-./:;<=>?@[\\]^_`{|}~\n"
     ]
    },
    {
     "data": {
      "text/html": [
       "<div>\n",
       "<style scoped>\n",
       "    .dataframe tbody tr th:only-of-type {\n",
       "        vertical-align: middle;\n",
       "    }\n",
       "\n",
       "    .dataframe tbody tr th {\n",
       "        vertical-align: top;\n",
       "    }\n",
       "\n",
       "    .dataframe thead th {\n",
       "        text-align: right;\n",
       "    }\n",
       "</style>\n",
       "<table border=\"1\" class=\"dataframe\">\n",
       "  <thead>\n",
       "    <tr style=\"text-align: right;\">\n",
       "      <th></th>\n",
       "      <th>comment</th>\n",
       "      <th>hate_speech</th>\n",
       "    </tr>\n",
       "  </thead>\n",
       "  <tbody>\n",
       "    <tr>\n",
       "      <th>0</th>\n",
       "      <td>subsection retarded hungarians ohh boy brace l...</td>\n",
       "      <td>1</td>\n",
       "    </tr>\n",
       "    <tr>\n",
       "      <th>1</th>\n",
       "      <td>hiii just got work Foundation and grounding ma...</td>\n",
       "      <td>0</td>\n",
       "    </tr>\n",
       "    <tr>\n",
       "      <th>2</th>\n",
       "      <td>wow guess soyboys every country</td>\n",
       "      <td>0</td>\n",
       "    </tr>\n",
       "    <tr>\n",
       "      <th>3</th>\n",
       "      <td>owen benjamins soyboy song goes every country ...</td>\n",
       "      <td>0</td>\n",
       "    </tr>\n",
       "    <tr>\n",
       "      <th>4</th>\n",
       "      <td>yall hear sumn means live small town rn for w...</td>\n",
       "      <td>0</td>\n",
       "    </tr>\n",
       "  </tbody>\n",
       "</table>\n",
       "</div>"
      ],
      "text/plain": [
       "                                             comment  hate_speech\n",
       "0  subsection retarded hungarians ohh boy brace l...            1\n",
       "1  hiii just got work Foundation and grounding ma...            0\n",
       "2                    wow guess soyboys every country            0\n",
       "3  owen benjamins soyboy song goes every country ...            0\n",
       "4   yall hear sumn means live small town rn for w...            0"
      ]
     },
     "execution_count": 47,
     "metadata": {},
     "output_type": "execute_result"
    }
   ],
   "source": [
    "print(string.punctuation)\n",
    "exclude=string.punctuation\n",
    "\n",
    "def remove_punctuation(text):\n",
    "    for char in exclude:\n",
    "        text=text.replace(char,'')\n",
    "    return text\n",
    "\n",
    "df['comment']=df['comment'].apply(remove_punctuation)\n",
    "df.head()"
=======
   "id": "60f9e297-0fd1-466e-87c9-eb0507f21010",
   "metadata": {},
   "outputs": [],
   "source": [
    "df['comment']=df['comment'].str.lower()\n"
>>>>>>> main
   ]
  },
  {
   "cell_type": "code",
   "execution_count": 48,
<<<<<<< HEAD
   "id": "0ce15b63",
=======
   "id": "f8b33710-92d0-4a70-80bd-487de7bb1ae2",
>>>>>>> main
   "metadata": {},
   "outputs": [
    {
     "data": {
      "text/plain": [
<<<<<<< HEAD
       "'hiii just got work Foundation and grounding mainly typa guys imagine writing us stupid sites basically just try fit western european us big city hipsters rich kids budapest feel brave journalistic heroes'"
=======
       "'harvard working inclusive oh they re accepting students next year no meant they re literally racist asians ok hand'"
>>>>>>> main
      ]
     },
     "execution_count": 48,
     "metadata": {},
     "output_type": "execute_result"
    }
   ],
   "source": [
<<<<<<< HEAD
    "df['comment'][1]"
=======
    "df['comment'][9]"
>>>>>>> main
   ]
  },
  {
   "cell_type": "markdown",
   "id": "711681bd",
   "metadata": {},
   "source": [
    "## Tokenization \n",
    "\n",
    "#### Breaking the text into sentences and words, we understand context of the text and we can also the find the topic of the text and many more."
   ]
  },
  {
   "cell_type": "code",
   "execution_count": 49,
   "id": "2fc78483",
   "metadata": {},
   "outputs": [
    {
     "data": {
      "text/plain": [
       "'good answer print pin wall top unconstructive fallacies internet'"
      ]
     },
     "execution_count": 49,
     "metadata": {},
     "output_type": "execute_result"
    }
   ],
   "source": [
    "df['comment'][17]"
   ]
  },
  {
   "cell_type": "code",
   "execution_count": 50,
   "id": "8cae6cc6",
<<<<<<< HEAD
   "metadata": {
    "scrolled": true
   },
=======
   "metadata": {},
>>>>>>> main
   "outputs": [
    {
     "data": {
      "text/html": [
       "<div>\n",
       "<style scoped>\n",
       "    .dataframe tbody tr th:only-of-type {\n",
       "        vertical-align: middle;\n",
       "    }\n",
       "\n",
       "    .dataframe tbody tr th {\n",
       "        vertical-align: top;\n",
       "    }\n",
       "\n",
       "    .dataframe thead th {\n",
       "        text-align: right;\n",
       "    }\n",
       "</style>\n",
       "<table border=\"1\" class=\"dataframe\">\n",
       "  <thead>\n",
       "    <tr style=\"text-align: right;\">\n",
       "      <th></th>\n",
       "      <th>comment</th>\n",
       "      <th>hate_speech</th>\n",
       "    </tr>\n",
       "  </thead>\n",
       "  <tbody>\n",
       "    <tr>\n",
       "      <th>0</th>\n",
       "      <td>[subsection, retarded, hungarians, ohh, boy, b...</td>\n",
       "      <td>1</td>\n",
       "    </tr>\n",
       "    <tr>\n",
       "      <th>1</th>\n",
<<<<<<< HEAD
       "      <td>[hiii, just, got, work, Foundation, and, groun...</td>\n",
=======
       "      <td>[hiii, just, got, work, 444, mainly, typa, guy...</td>\n",
>>>>>>> main
       "      <td>0</td>\n",
       "    </tr>\n",
       "    <tr>\n",
       "      <th>2</th>\n",
       "      <td>[wow, guess, soyboys, every, country]</td>\n",
       "      <td>0</td>\n",
       "    </tr>\n",
       "    <tr>\n",
       "      <th>3</th>\n",
<<<<<<< HEAD
       "      <td>[owen, benjamins, soyboy, song, goes, every, c...</td>\n",
=======
       "      <td>[owen, benjamin, s, soyboy, song, goes, every,...</td>\n",
>>>>>>> main
       "      <td>0</td>\n",
       "    </tr>\n",
       "    <tr>\n",
       "      <th>4</th>\n",
<<<<<<< HEAD
       "      <td>[yall, hear, sumn, means, live, small, town, r...</td>\n",
=======
       "      <td>[y, all, hear, sumn, means, live, small, town,...</td>\n",
>>>>>>> main
       "      <td>0</td>\n",
       "    </tr>\n",
       "  </tbody>\n",
       "</table>\n",
       "</div>"
      ],
      "text/plain": [
       "                                             comment  hate_speech\n",
       "0  [subsection, retarded, hungarians, ohh, boy, b...            1\n",
<<<<<<< HEAD
       "1  [hiii, just, got, work, Foundation, and, groun...            0\n",
       "2              [wow, guess, soyboys, every, country]            0\n",
       "3  [owen, benjamins, soyboy, song, goes, every, c...            0\n",
       "4  [yall, hear, sumn, means, live, small, town, r...            0"
=======
       "1  [hiii, just, got, work, 444, mainly, typa, guy...            0\n",
       "2              [wow, guess, soyboys, every, country]            0\n",
       "3  [owen, benjamin, s, soyboy, song, goes, every,...            0\n",
       "4  [y, all, hear, sumn, means, live, small, town,...            0"
>>>>>>> main
      ]
     },
     "execution_count": 50,
     "metadata": {},
     "output_type": "execute_result"
    }
   ],
   "source": [
    "df['comment']=df['comment'].apply(word_tokenize)\n",
    "df.head()"
   ]
  },
  {
   "cell_type": "code",
   "execution_count": 51,
   "id": "5a3daa38",
   "metadata": {},
   "outputs": [
    {
     "data": {
      "text/plain": [
       "['good',\n",
       " 'answer',\n",
       " 'print',\n",
       " 'pin',\n",
       " 'wall',\n",
       " 'top',\n",
       " 'unconstructive',\n",
       " 'fallacies',\n",
       " 'internet']"
      ]
     },
     "execution_count": 51,
     "metadata": {},
     "output_type": "execute_result"
    }
   ],
   "source": [
    "df['comment'][17]"
   ]
  },
  {
   "cell_type": "markdown",
   "id": "c2297f19",
   "metadata": {},
   "source": [
    "## Stemming"
   ]
  },
  {
   "cell_type": "markdown",
   "id": "534bbe13",
   "metadata": {},
   "source": [
    "#### Stemming is the process of reducing inflection in words to their root forms such as mapping a group of words to the same stem even if the stem itself is not a valid word in the Language. Inflection is the modification of a word to express different grammatical categories such as tense, voice, aspect, person, gender and mood. In stemming, inflection is not cared much, other than the reducing the word to its stem.\n",
    "\n"
   ]
  },
  {
   "cell_type": "code",
   "execution_count": 52,
   "id": "b6afa352",
   "metadata": {},
   "outputs": [
    {
     "data": {
      "text/plain": [
       "['good',\n",
       " 'answer',\n",
       " 'print',\n",
       " 'pin',\n",
       " 'wall',\n",
       " 'top',\n",
       " 'unconstructive',\n",
       " 'fallacies',\n",
       " 'internet']"
      ]
     },
     "execution_count": 52,
     "metadata": {},
     "output_type": "execute_result"
    }
   ],
   "source": [
    "df['comment'][17]"
   ]
  },
  {
   "cell_type": "code",
   "execution_count": 53,
   "id": "cee4a723",
<<<<<<< HEAD
   "metadata": {
    "scrolled": true
   },
=======
   "metadata": {},
>>>>>>> main
   "outputs": [
    {
     "data": {
      "text/html": [
       "<div>\n",
       "<style scoped>\n",
       "    .dataframe tbody tr th:only-of-type {\n",
       "        vertical-align: middle;\n",
       "    }\n",
       "\n",
       "    .dataframe tbody tr th {\n",
       "        vertical-align: top;\n",
       "    }\n",
       "\n",
       "    .dataframe thead th {\n",
       "        text-align: right;\n",
       "    }\n",
       "</style>\n",
       "<table border=\"1\" class=\"dataframe\">\n",
       "  <thead>\n",
       "    <tr style=\"text-align: right;\">\n",
       "      <th></th>\n",
       "      <th>comment</th>\n",
       "      <th>hate_speech</th>\n",
       "    </tr>\n",
       "  </thead>\n",
       "  <tbody>\n",
       "    <tr>\n",
       "      <th>0</th>\n",
       "      <td>[subsect, retard, hungarian, ohh, boy, brace, ...</td>\n",
       "      <td>1</td>\n",
       "    </tr>\n",
       "    <tr>\n",
       "      <th>1</th>\n",
<<<<<<< HEAD
       "      <td>[hiii, just, got, work, foundat, and, ground, ...</td>\n",
=======
       "      <td>[hiii, just, got, work, 444, main, typa, guy, ...</td>\n",
>>>>>>> main
       "      <td>0</td>\n",
       "    </tr>\n",
       "    <tr>\n",
       "      <th>2</th>\n",
       "      <td>[wow, guess, soyboy, everi, countri]</td>\n",
       "      <td>0</td>\n",
       "    </tr>\n",
       "    <tr>\n",
       "      <th>3</th>\n",
<<<<<<< HEAD
       "      <td>[owen, benjamin, soyboy, song, goe, everi, cou...</td>\n",
=======
       "      <td>[owen, benjamin, s, soyboy, song, goe, everi, ...</td>\n",
>>>>>>> main
       "      <td>0</td>\n",
       "    </tr>\n",
       "    <tr>\n",
       "      <th>4</th>\n",
<<<<<<< HEAD
       "      <td>[yall, hear, sumn, mean, live, small, town, rn...</td>\n",
=======
       "      <td>[y, all, hear, sumn, mean, live, small, town, ...</td>\n",
>>>>>>> main
       "      <td>0</td>\n",
       "    </tr>\n",
       "  </tbody>\n",
       "</table>\n",
       "</div>"
      ],
      "text/plain": [
       "                                             comment  hate_speech\n",
       "0  [subsect, retard, hungarian, ohh, boy, brace, ...            1\n",
<<<<<<< HEAD
       "1  [hiii, just, got, work, foundat, and, ground, ...            0\n",
       "2               [wow, guess, soyboy, everi, countri]            0\n",
       "3  [owen, benjamin, soyboy, song, goe, everi, cou...            0\n",
       "4  [yall, hear, sumn, mean, live, small, town, rn...            0"
=======
       "1  [hiii, just, got, work, 444, main, typa, guy, ...            0\n",
       "2               [wow, guess, soyboy, everi, countri]            0\n",
       "3  [owen, benjamin, s, soyboy, song, goe, everi, ...            0\n",
       "4  [y, all, hear, sumn, mean, live, small, town, ...            0"
>>>>>>> main
      ]
     },
     "execution_count": 53,
     "metadata": {},
     "output_type": "execute_result"
    }
   ],
   "source": [
    "df['comment'] = df['comment'].apply(lambda x: [stemmer.stem(y) for y in x]) \n",
    "df.head()"
   ]
  },
  {
   "cell_type": "code",
   "execution_count": 54,
   "id": "d93e6f14",
   "metadata": {},
   "outputs": [
    {
     "data": {
      "text/plain": [
       "['good',\n",
       " 'answer',\n",
       " 'print',\n",
       " 'pin',\n",
       " 'wall',\n",
       " 'top',\n",
       " 'unconstruct',\n",
       " 'fallaci',\n",
       " 'internet']"
      ]
     },
     "execution_count": 54,
     "metadata": {},
     "output_type": "execute_result"
    }
   ],
   "source": [
    "df['comment'][17]"
   ]
  },
  {
   "cell_type": "markdown",
   "id": "1e494c2b",
   "metadata": {},
   "source": [
    "## Lemmatization\n"
   ]
  },
  {
   "cell_type": "markdown",
   "id": "d17653b9",
   "metadata": {},
   "source": [
    "#### Lemmatization unlike stemming reduces inflected words properly ensuring that the root word belongs to the language. In the lemmatization root word is called lemma.\n",
    "\n"
   ]
  },
  {
   "cell_type": "code",
   "execution_count": 55,
<<<<<<< HEAD
   "id": "4a1d65b8",
   "metadata": {},
=======
   "id": "32d44e4d",
   "metadata": {
    "scrolled": true
   },
>>>>>>> main
   "outputs": [
    {
     "data": {
      "text/plain": [
       "['good',\n",
       " 'answer',\n",
       " 'print',\n",
       " 'pin',\n",
       " 'wall',\n",
       " 'top',\n",
       " 'unconstruct',\n",
       " 'fallaci',\n",
       " 'internet']"
      ]
     },
     "execution_count": 55,
     "metadata": {},
     "output_type": "execute_result"
    }
   ],
   "source": [
    "df['comment'][17]"
   ]
  },
  {
   "cell_type": "code",
   "execution_count": 56,
   "id": "b88dab8c",
   "metadata": {},
   "outputs": [
    {
     "data": {
      "text/html": [
       "<div>\n",
       "<style scoped>\n",
       "    .dataframe tbody tr th:only-of-type {\n",
       "        vertical-align: middle;\n",
       "    }\n",
       "\n",
       "    .dataframe tbody tr th {\n",
       "        vertical-align: top;\n",
       "    }\n",
       "\n",
       "    .dataframe thead th {\n",
       "        text-align: right;\n",
       "    }\n",
       "</style>\n",
       "<table border=\"1\" class=\"dataframe\">\n",
       "  <thead>\n",
       "    <tr style=\"text-align: right;\">\n",
       "      <th></th>\n",
       "      <th>comment</th>\n",
       "      <th>hate_speech</th>\n",
       "    </tr>\n",
       "  </thead>\n",
       "  <tbody>\n",
       "    <tr>\n",
       "      <th>0</th>\n",
       "      <td>subsect retard hungarian ohh boy brace livid b...</td>\n",
       "      <td>1</td>\n",
       "    </tr>\n",
       "    <tr>\n",
       "      <th>1</th>\n",
<<<<<<< HEAD
       "      <td>hiii just got work foundat and ground main typ...</td>\n",
=======
       "      <td>hiii just got work 444 main typa guy imagin wr...</td>\n",
>>>>>>> main
       "      <td>0</td>\n",
       "    </tr>\n",
       "    <tr>\n",
       "      <th>2</th>\n",
       "      <td>wow guess soyboy everi countri</td>\n",
       "      <td>0</td>\n",
       "    </tr>\n",
       "    <tr>\n",
       "      <th>3</th>\n",
<<<<<<< HEAD
       "      <td>owen benjamin soyboy song goe everi countri amaz</td>\n",
=======
       "      <td>owen benjamin s soyboy song goe everi countri ...</td>\n",
>>>>>>> main
       "      <td>0</td>\n",
       "    </tr>\n",
       "    <tr>\n",
       "      <th>4</th>\n",
<<<<<<< HEAD
       "      <td>yall hear sumn mean live small town rn for wor...</td>\n",
=======
       "      <td>y all hear sumn mean live small town rn for wo...</td>\n",
>>>>>>> main
       "      <td>0</td>\n",
       "    </tr>\n",
       "  </tbody>\n",
       "</table>\n",
       "</div>"
      ],
      "text/plain": [
       "                                             comment  hate_speech\n",
       "0  subsect retard hungarian ohh boy brace livid b...            1\n",
<<<<<<< HEAD
       "1  hiii just got work foundat and ground main typ...            0\n",
       "2                     wow guess soyboy everi countri            0\n",
       "3   owen benjamin soyboy song goe everi countri amaz            0\n",
       "4  yall hear sumn mean live small town rn for wor...            0"
=======
       "1  hiii just got work 444 main typa guy imagin wr...            0\n",
       "2                     wow guess soyboy everi countri            0\n",
       "3  owen benjamin s soyboy song goe everi countri ...            0\n",
       "4  y all hear sumn mean live small town rn for wo...            0"
>>>>>>> main
      ]
     },
     "execution_count": 56,
     "metadata": {},
     "output_type": "execute_result"
    }
   ],
   "source": [
    "df['comment'] = df['comment'].apply(lambda x: ' '.join(x) if isinstance(x, list) else x)\n",
    "wnl=WordNetLemmatizer()\n",
    "def lemmatizing(text):\n",
    "    return \" \".join([wnl.lemmatize(word,pos='v') for word in text.split('  ')])\n",
    "\n",
    "df['comment']=df['comment'].apply(lemmatizing)\n",
    "df.head()"
   ]
  },
  {
   "cell_type": "code",
   "execution_count": 57,
<<<<<<< HEAD
   "id": "32d44e4d",
   "metadata": {
    "scrolled": false
   },
=======
   "id": "403dcf3d",
   "metadata": {},
>>>>>>> main
   "outputs": [
    {
     "data": {
      "text/plain": [
       "'good answer print pin wall top unconstruct fallaci internet'"
      ]
     },
     "execution_count": 57,
     "metadata": {},
     "output_type": "execute_result"
    }
   ],
   "source": [
    "df['comment'][17]"
   ]
  },
  {
   "cell_type": "markdown",
<<<<<<< HEAD
   "id": "e89871ed",
   "metadata": {},
   "source": [
    "## Apply Autocorrect\n",
    "\n",
    "#### While analyzing text data for classification or other types of analysis, it's crucial to ensure the text is clean and free of typographical errors. Autocorrect can be applied to correct misspelled words, enhancing the quality of the text data. This is particularly important in scenarios where the accuracy of word usage is critical, such as natural language processing tasks. By applying autocorrect, we ensure that the text is standardized and more meaningful for analysis."
=======
   "id": "5f7f2bc4-b259-40a1-8a06-5774afe3d94a",
   "metadata": {},
   "source": [
    "## Remove extra spaces"
   ]
  },
  {
   "cell_type": "code",
   "execution_count": 58,
   "id": "349e6d17-333f-45ec-b554-7e2a46979cab",
   "metadata": {},
   "outputs": [
    {
     "name": "stderr",
     "output_type": "stream",
     "text": [
      "C:\\Users\\Aman Shekhar Sachan\\AppData\\Local\\Temp\\ipykernel_4476\\2897405601.py:18: FutureWarning: DataFrame.applymap has been deprecated. Use DataFrame.map instead.\n",
      "  df = df.applymap(clean_spaces)\n"
     ]
    },
    {
     "name": "stdout",
     "output_type": "stream",
     "text": [
      "Cleaned data has been saved to 'Cleaned_spaces_Reddit.csv'\n"
     ]
    }
   ],
   "source": [
    "#removing spaces\n",
    "input_file_path = 'Reddit_Cleaned.csv'\n",
    "output_file_path = 'Cleaned_spaces_Reddit.csv'\n",
    "\n",
    "# Read the CSV file into a DataFrame\n",
    "df = pd.read_csv(input_file_path)\n",
    "\n",
    "# Function to clean up extra spaces in a string\n",
    "def clean_spaces(text):\n",
    "    if isinstance(text, str):\n",
    "        # Remove multiple consecutive spaces\n",
    "        text = re.sub(r'\\s{2,}', ' ', text)\n",
    "        # Trim leading and trailing spaces\n",
    "        text = text.strip()\n",
    "    return text\n",
    "\n",
    "# Apply the cleaning function to each cell in the DataFrame\n",
    "df = df.applymap(clean_spaces)\n",
    "\n",
    "# Save the cleaned DataFrame to a new CSV file\n",
    "df.to_csv(output_file_path, index=False)\n",
    "\n",
    "print(f\"Cleaned data has been saved to '{output_file_path}'\")\n"
>>>>>>> main
   ]
  },
  {
   "cell_type": "code",
   "execution_count": 59,
<<<<<<< HEAD
   "id": "2adc14d9",
   "metadata": {
    "scrolled": true
   },
=======
   "id": "668352ba-152e-47c1-9f87-251a9d56a269",
   "metadata": {},
>>>>>>> main
   "outputs": [
    {
     "data": {
      "text/plain": [
<<<<<<< HEAD
       "'good answer print pin wall top unconstruct fallaci internet'"
=======
       "\"Good answer. I'll print it and pin it in my wall of top unconstructive fallacies of the internet.\""
>>>>>>> main
      ]
     },
     "execution_count": 59,
     "metadata": {},
     "output_type": "execute_result"
    }
   ],
   "source": [
<<<<<<< HEAD
    "df['comment'][17]"
   ]
  },
  {
   "cell_type": "code",
   "execution_count": null,
   "id": "24e3594d-eb12-4aa3-98a5-9eb71abfa3f1",
   "metadata": {},
   "outputs": [
    {
     "data": {
      "application/vnd.jupyter.widget-view+json": {
       "model_id": "873e36e5891249579845cbb39790ddf5",
       "version_major": 2,
       "version_minor": 0
      },
      "text/plain": [
       "  0%|          | 0/22246 [00:00<?, ?it/s]"
      ]
     },
     "metadata": {},
     "output_type": "display_data"
    }
   ],
   "source": [
    "spell = Speller()\n",
    "# Autocorrect text\n",
    "def autocorrect_text(text):\n",
    "    if isinstance(text, str):\n",
    "        return spell(text)\n",
    "    return text\n",
    "\n",
    "# Apply autocorrect in parallel\n",
    "def parallel_apply(data, func, workers=4):\n",
    "    with ThreadPoolExecutor(max_workers=workers) as executor:\n",
    "        results = list(tqdm(executor.map(func, data), total=len(data)))\n",
    "    return results\n",
    "\n",
    "# Apply the autocorrect function with parallel processing\n",
    "df['comment'] = parallel_apply(df['comment'], autocorrect_text)\n",
    "df.head()"
=======
    "df['comment'][16]"
   ]
  },
  {
   "cell_type": "markdown",
   "id": "19cb556d",
   "metadata": {},
   "source": [
    "## Remove Numbers\n"
>>>>>>> main
   ]
  },
  {
   "cell_type": "code",
   "execution_count": 60,
<<<<<<< HEAD
   "id": "1888472b",
=======
   "id": "37640f1e-cc65-45ad-82be-99defe414c6f",
   "metadata": {},
   "outputs": [],
   "source": [
    "import pandas as pd\n",
    "import re\n",
    "\n",
    "# Define the file paths\n",
    "input_file_path = 'Cleaned_spaces_Reddit.csv'\n",
    "output_file_path = 'processed_Reddit.csv'\n",
    "\n",
    "# Dictionary of number meanings\n",
    "number_meanings = {\n",
    "    '111': 'Alignment and manifestation',\n",
    "    '1111': 'New beginnings and unity',\n",
    "    '222': 'Balance and harmony',\n",
    "    '333': 'Protection and encouragement',\n",
    "    '444': 'Foundation and grounding',\n",
    "    '555': 'Change and transformation',\n",
    "    '666': 'Reflection and personal development',\n",
    "    '777': 'Spiritual growth and good fortune',\n",
    "    '888': 'Abundance and success',\n",
    "    '999': 'Completion and closure',\n",
    "    '1010': 'Personal development and growth',\n",
    "    '1212': 'Spiritual awakening and higher consciousness',\n",
    "    '1234': 'Progress and moving forward',\n",
    "    '2222': 'Peace and balance in life',\n",
    "    '3333': 'Divine protection and guidance',\n",
    "    '4444': 'Strong foundation and support',\n",
    "    '5555': 'Major life changes',\n",
    "    '6666': 'Reflecting on past choices',\n",
    "    '7777': 'Luck and spiritual awareness',\n",
    "    '8888': 'Financial abundance and prosperity',\n",
    "    '9999': 'Endings leading to new beginnings',\n",
    "    '1001': 'Self-improvement and new perspectives',\n",
    "    '1101': 'Opening new doors and opportunities',\n",
    "    '1211': 'Embracing new phases in life',\n",
    "    '1233': 'Balanced progress and harmony',\n",
    "    '1441': 'Foundation and new opportunities',\n",
    "    '1515': 'Personal growth and freedom',\n",
    "    '1616': 'Stability and inner strength',\n",
    "    '1717': 'Awakening and self-awareness',\n",
    "    '1818': 'Financial success and independence',\n",
    "    '1919': 'Completion of cycles and new beginnings',\n",
    "    '2020': 'Vision and clarity',\n",
    "    '2121': 'Positive change and new opportunities',\n",
    "    '2323': 'Creativity and self-expression',\n",
    "    '2424': 'Building strong foundations',\n",
    "    '2525': 'Adaptability and positive change',\n",
    "    '2626': 'Nurturing and care for loved ones',\n",
    "    '2727': 'Spiritual awareness and inner wisdom',\n",
    "    '2828': 'Abundance and prosperity',\n",
    "    '2929': 'Transformation and new phases',\n",
    "    '3030': 'Creativity and communication',\n",
    "    '3131': 'Optimism and positive energy',\n",
    "    '3232': 'Faith and trust in the universe',\n",
    "    '3434': 'Stability and determination',\n",
    "    '3535': 'Personal freedom and individuality',\n",
    "    '3636': 'Nurturing and compassion',\n",
    "    '3737': 'Spiritual growth and awareness',\n",
    "    '3838': 'Ab'}\n"
   ]
  },
  {
   "cell_type": "code",
   "execution_count": 61,
   "id": "fc96d676",
   "metadata": {
    "scrolled": true
   },
   "outputs": [
    {
     "name": "stderr",
     "output_type": "stream",
     "text": [
      "C:\\Users\\Aman Shekhar Sachan\\AppData\\Local\\Temp\\ipykernel_4476\\1410644284.py:18: FutureWarning: DataFrame.applymap has been deprecated. Use DataFrame.map instead.\n",
      "  df = df.applymap(lambda x: replace_numbers(x, number_meanings))\n"
     ]
    },
    {
     "name": "stdout",
     "output_type": "stream",
     "text": [
      "Processed data has been saved to 'Preprocessed_Reddit_numbers.csv'\n"
     ]
    }
   ],
   "source": [
    "output_file_path=\"Preprocessed_Reddit_numbers.csv\"\n",
    "# Function to replace or remove numbers in a string\n",
    "def replace_numbers(text, number_meanings):\n",
    "    if isinstance(text, str):\n",
    "        # Find all numbers in the text\n",
    "        numbers = re.findall(r'\\b\\d+\\b', text)\n",
    "        for number in numbers:\n",
    "            if number in number_meanings:\n",
    "                # Replace number with its meaning\n",
    "                text = re.sub(r'\\b' + re.escape(number) + r'\\b', number_meanings[number], text)\n",
    "            else:\n",
    "                # Remove number if no meaning exists\n",
    "                text = re.sub(r'\\b' + re.escape(number) + r'\\b', '', text)\n",
    "        # Remove any extra spaces after replacement/removal\n",
    "        text = re.sub(r'\\s{2,}', ' ', text).strip()\n",
    "    return text\n",
    "# Apply the number replacement function to each cell in the DataFrame\n",
    "df = df.applymap(lambda x: replace_numbers(x, number_meanings))\n",
    "\n",
    "# Save the processed DataFrame to a new CSV file\n",
    "df.to_csv(output_file_path, index=False)\n",
    "\n",
    "print(f\"Processed data has been saved to '{output_file_path}'\")\n"
   ]
  },
  {
   "cell_type": "code",
   "execution_count": 62,
   "id": "5eb83768-ccb8-4676-8099-949cdc40d28e",
>>>>>>> main
   "metadata": {},
   "outputs": [
    {
     "data": {
<<<<<<< HEAD
      "text/plain": [
       "'good answer print pin wall top unconstruct fallaci internet'"
      ]
     },
     "execution_count": 60,
=======
      "text/html": [
       "<div>\n",
       "<style scoped>\n",
       "    .dataframe tbody tr th:only-of-type {\n",
       "        vertical-align: middle;\n",
       "    }\n",
       "\n",
       "    .dataframe tbody tr th {\n",
       "        vertical-align: top;\n",
       "    }\n",
       "\n",
       "    .dataframe thead th {\n",
       "        text-align: right;\n",
       "    }\n",
       "</style>\n",
       "<table border=\"1\" class=\"dataframe\">\n",
       "  <thead>\n",
       "    <tr style=\"text-align: right;\">\n",
       "      <th></th>\n",
       "      <th>comment</th>\n",
       "      <th>hate_speech</th>\n",
       "    </tr>\n",
       "  </thead>\n",
       "  <tbody>\n",
       "    <tr>\n",
       "      <th>0</th>\n",
       "      <td>A subsection of retarded Hungarians? Ohh boy. ...</td>\n",
       "      <td>1</td>\n",
       "    </tr>\n",
       "    <tr>\n",
       "      <th>1</th>\n",
       "      <td>Hiii. Just got off work. Foundation and ground...</td>\n",
       "      <td>0</td>\n",
       "    </tr>\n",
       "    <tr>\n",
       "      <th>2</th>\n",
       "      <td>wow i guess soyboys are the same in every country</td>\n",
       "      <td>0</td>\n",
       "    </tr>\n",
       "    <tr>\n",
       "      <th>3</th>\n",
       "      <td>Owen Benjamin's soyboy song goes for every cou...</td>\n",
       "      <td>0</td>\n",
       "    </tr>\n",
       "    <tr>\n",
       "      <th>4</th>\n",
       "      <td>&gt; \"y'all hear sumn?\" by all means I live in a ...</td>\n",
       "      <td>0</td>\n",
       "    </tr>\n",
       "  </tbody>\n",
       "</table>\n",
       "</div>"
      ],
      "text/plain": [
       "                                             comment  hate_speech\n",
       "0  A subsection of retarded Hungarians? Ohh boy. ...            1\n",
       "1  Hiii. Just got off work. Foundation and ground...            0\n",
       "2  wow i guess soyboys are the same in every country            0\n",
       "3  Owen Benjamin's soyboy song goes for every cou...            0\n",
       "4  > \"y'all hear sumn?\" by all means I live in a ...            0"
      ]
     },
     "execution_count": 62,
>>>>>>> main
     "metadata": {},
     "output_type": "execute_result"
    }
   ],
   "source": [
<<<<<<< HEAD
    "df['comment'][17]"
=======
    "df.head()"
   ]
  },
  {
   "cell_type": "markdown",
   "id": "e89871ed",
   "metadata": {},
   "source": [
    "## Apply Autocorrect"
   ]
  },
  {
   "cell_type": "code",
   "execution_count": 63,
   "id": "24e3594d-eb12-4aa3-98a5-9eb71abfa3f1",
   "metadata": {},
   "outputs": [
    {
     "name": "stderr",
     "output_type": "stream",
     "text": [
      "100%|██████████████████████████████████████████████████████████████████████████| 22246/22246 [1:20:29<00:00,  4.61it/s]\n"
     ]
    }
   ],
   "source": [
    "import pandas as pd\n",
    "from autocorrect import Speller\n",
    "from concurrent.futures import ThreadPoolExecutor\n",
    "from tqdm import tqdm\n",
    "\n",
    "# Initialize the spell checker\n",
    "spell = Speller()\n",
    "\n",
    "# Define the autocorrect function\n",
    "def autocorrect_text(text):\n",
    "    if isinstance(text, str):\n",
    "        return spell(text)\n",
    "    return text\n",
    "\n",
    "# Function to apply autocorrect in parallel\n",
    "def parallel_apply(data, func, workers=4):\n",
    "    with ThreadPoolExecutor(max_workers=workers) as executor:\n",
    "        results = list(tqdm(executor.map(func, data), total=len(data)))\n",
    "    return results\n",
    "\n",
    "# Choose the columns to apply autocorrect\n",
    "target_columns = ['comment']\n",
    "\n",
    "# Apply autocorrect to each target column in parallel\n",
    "for column in target_columns:\n",
    "    df[column] = parallel_apply(df[column], autocorrect_text)\n",
    "\n",
    "# Save the processed DataFrame to a new CSV file\n",
    "output_file_path = 'Preprocessed_Reddit_Final.csv'\n",
    "df.to_csv(output_file_path, index=False)\n",
    "\n"
>>>>>>> main
   ]
  },
  {
   "cell_type": "markdown",
   "id": "15cd19e7",
   "metadata": {},
   "source": [
    "#### Save the Preprocessed Dataset"
   ]
  },
  {
   "cell_type": "code",
<<<<<<< HEAD
   "execution_count": 61,
=======
   "execution_count": 64,
   "id": "5182879d-568b-4c84-bd83-2fea9c3550ac",
   "metadata": {},
   "outputs": [
    {
     "data": {
      "text/html": [
       "<div>\n",
       "<style scoped>\n",
       "    .dataframe tbody tr th:only-of-type {\n",
       "        vertical-align: middle;\n",
       "    }\n",
       "\n",
       "    .dataframe tbody tr th {\n",
       "        vertical-align: top;\n",
       "    }\n",
       "\n",
       "    .dataframe thead th {\n",
       "        text-align: right;\n",
       "    }\n",
       "</style>\n",
       "<table border=\"1\" class=\"dataframe\">\n",
       "  <thead>\n",
       "    <tr style=\"text-align: right;\">\n",
       "      <th></th>\n",
       "      <th>comment</th>\n",
       "      <th>hate_speech</th>\n",
       "    </tr>\n",
       "  </thead>\n",
       "  <tbody>\n",
       "    <tr>\n",
       "      <th>0</th>\n",
       "      <td>A subsection of retarded Hungarians? Oh boy. b...</td>\n",
       "      <td>1</td>\n",
       "    </tr>\n",
       "    <tr>\n",
       "      <th>1</th>\n",
       "      <td>Iii. Just got off work. Foundation and groundi...</td>\n",
       "      <td>0</td>\n",
       "    </tr>\n",
       "    <tr>\n",
       "      <th>2</th>\n",
       "      <td>wow i guess cowboys are the same in every country</td>\n",
       "      <td>0</td>\n",
       "    </tr>\n",
       "    <tr>\n",
       "      <th>3</th>\n",
       "      <td>Owen Benjamin's cowboy song goes for every cou...</td>\n",
       "      <td>0</td>\n",
       "    </tr>\n",
       "    <tr>\n",
       "      <th>4</th>\n",
       "      <td>&gt; \"y'all hear sun?\" by all means I live in a s...</td>\n",
       "      <td>0</td>\n",
       "    </tr>\n",
       "  </tbody>\n",
       "</table>\n",
       "</div>"
      ],
      "text/plain": [
       "                                             comment  hate_speech\n",
       "0  A subsection of retarded Hungarians? Oh boy. b...            1\n",
       "1  Iii. Just got off work. Foundation and groundi...            0\n",
       "2  wow i guess cowboys are the same in every country            0\n",
       "3  Owen Benjamin's cowboy song goes for every cou...            0\n",
       "4  > \"y'all hear sun?\" by all means I live in a s...            0"
      ]
     },
     "execution_count": 64,
     "metadata": {},
     "output_type": "execute_result"
    }
   ],
   "source": [
    "df.head()"
   ]
  },
  {
   "cell_type": "code",
   "execution_count": 65,
>>>>>>> main
   "id": "f59a9ae3",
   "metadata": {},
   "outputs": [
    {
     "name": "stdout",
     "output_type": "stream",
     "text": [
      "File saved\n"
     ]
    }
   ],
   "source": [
    "df.to_csv('Reddit_final.csv', index=False)\n",
    "print(\"File saved\")"
   ]
<<<<<<< HEAD
=======
  },
  {
   "cell_type": "code",
   "execution_count": null,
   "id": "381f19a3-35d2-4090-8ebd-bba4c0f45691",
   "metadata": {},
   "outputs": [],
   "source": []
  },
  {
   "cell_type": "code",
   "execution_count": null,
   "id": "14fe5120-71f1-484a-ad82-23af587b00a1",
   "metadata": {},
   "outputs": [],
   "source": []
>>>>>>> main
  }
 ],
 "metadata": {
  "kernelspec": {
   "display_name": "Python 3 (ipykernel)",
   "language": "python",
   "name": "python3"
  },
  "language_info": {
   "codemirror_mode": {
    "name": "ipython",
    "version": 3
   },
   "file_extension": ".py",
   "mimetype": "text/x-python",
   "name": "python",
   "nbconvert_exporter": "python",
   "pygments_lexer": "ipython3",
<<<<<<< HEAD
   "version": "3.11.0"
=======
   "version": "3.11.7"
>>>>>>> main
  }
 },
 "nbformat": 4,
 "nbformat_minor": 5
}
