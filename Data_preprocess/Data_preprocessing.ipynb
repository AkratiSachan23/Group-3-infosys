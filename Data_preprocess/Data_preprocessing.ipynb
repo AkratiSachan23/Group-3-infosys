{
 "cells": [
  {
   "cell_type": "code",
   "execution_count": 479,
   "id": "daf97d10",
   "metadata": {},
   "outputs": [],
   "source": [
    "import pandas as pd\n",
    "import numpy as np\n",
    "import re\n",
    "import nltk\n",
    "from nltk.corpus import stopwords\n",
    "from nltk.stem.porter import PorterStemmer"
   ]
  },
  {
   "cell_type": "code",
   "execution_count": 480,
   "id": "2d04f94e",
   "metadata": {
    "scrolled": false
   },
   "outputs": [
    {
     "data": {
      "text/html": [
       "<div>\n",
       "<style scoped>\n",
       "    .dataframe tbody tr th:only-of-type {\n",
       "        vertical-align: middle;\n",
       "    }\n",
       "\n",
       "    .dataframe tbody tr th {\n",
       "        vertical-align: top;\n",
       "    }\n",
       "\n",
       "    .dataframe thead th {\n",
       "        text-align: right;\n",
       "    }\n",
       "</style>\n",
       "<table border=\"1\" class=\"dataframe\">\n",
       "  <thead>\n",
       "    <tr style=\"text-align: right;\">\n",
       "      <th></th>\n",
       "      <th>id</th>\n",
       "      <th>text</th>\n",
       "      <th>hate_speech_idx</th>\n",
       "      <th>response</th>\n",
       "    </tr>\n",
       "  </thead>\n",
       "  <tbody>\n",
       "    <tr>\n",
       "      <th>0</th>\n",
       "      <td>1. e8q18lf\\n2. \\te8q9w5s\\n3. \\t\\te8qbobk\\n4. \\...</td>\n",
       "      <td>1. A subsection of retarded Hungarians? Ohh bo...</td>\n",
       "      <td>[1]</td>\n",
       "      <td>[\"I don't see a reason why it's okay to insult...</td>\n",
       "    </tr>\n",
       "    <tr>\n",
       "      <th>1</th>\n",
       "      <td>1. e9c6naz\\n2. \\te9d03a5\\n3. \\t\\te9d8e4d\\n</td>\n",
       "      <td>1. &gt; \"y'all hear sumn?\"  by all means I live i...</td>\n",
       "      <td>[3]</td>\n",
       "      <td>['Persons with disabilities is the accepted te...</td>\n",
       "    </tr>\n",
       "    <tr>\n",
       "      <th>2</th>\n",
       "      <td>1. e84rl2i\\n2. \\te84w60l\\n3. \\t\\te8544rn\\n4. \\...</td>\n",
       "      <td>1. wouldn't the defenders or whatever they are...</td>\n",
       "      <td>NaN</td>\n",
       "      <td>NaN</td>\n",
       "    </tr>\n",
       "    <tr>\n",
       "      <th>3</th>\n",
       "      <td>1. e7kq72n\\n2. \\te7m24ar\\n</td>\n",
       "      <td>1. Because the Japanese aren't retarded and kn...</td>\n",
       "      <td>[1]</td>\n",
       "      <td>[\"It's not right for anyone of any gender to b...</td>\n",
       "    </tr>\n",
       "    <tr>\n",
       "      <th>4</th>\n",
       "      <td>1. e7hdgoh\\n2. \\te7iyj6a\\n3. \\t\\te7j6iho\\n4. \\...</td>\n",
       "      <td>1. That might be true if we didn't have an exa...</td>\n",
       "      <td>[2, 3]</td>\n",
       "      <td>[\"You shouldn't be bringing up sensitive topic...</td>\n",
       "    </tr>\n",
       "    <tr>\n",
       "      <th>...</th>\n",
       "      <td>...</td>\n",
       "      <td>...</td>\n",
       "      <td>...</td>\n",
       "      <td>...</td>\n",
       "    </tr>\n",
       "    <tr>\n",
       "      <th>5015</th>\n",
       "      <td>1. e90fta8\\n2. \\te90g8px\\n3. \\t\\te90jlq5\\n4. \\...</td>\n",
       "      <td>1. Who does she claim as *her people*?\\n2. \\tI...</td>\n",
       "      <td>[8]</td>\n",
       "      <td>['its inappropriate to use the word faggot as ...</td>\n",
       "    </tr>\n",
       "    <tr>\n",
       "      <th>5016</th>\n",
       "      <td>1. e9b7mn2\\n2. \\te9bv6ir\\n</td>\n",
       "      <td>1. Here's what's going to happen:  Broward is ...</td>\n",
       "      <td>NaN</td>\n",
       "      <td>NaN</td>\n",
       "    </tr>\n",
       "    <tr>\n",
       "      <th>5017</th>\n",
       "      <td>1. e7q8ilv\\n2. \\te7qddqq\\n3. \\t\\te7qstbc\\n4. \\...</td>\n",
       "      <td>1. Oh boy...so here comes a long venting post ...</td>\n",
       "      <td>[1, 4]</td>\n",
       "      <td>[\"using the word 'nigger' is a direct attack t...</td>\n",
       "    </tr>\n",
       "    <tr>\n",
       "      <th>5018</th>\n",
       "      <td>1. dwp8jut\\n</td>\n",
       "      <td>1. OP, stop being a faggot and post videos nex...</td>\n",
       "      <td>[1]</td>\n",
       "      <td>[\"using the words 'faggot fuckers' is offensiv...</td>\n",
       "    </tr>\n",
       "    <tr>\n",
       "      <th>5019</th>\n",
       "      <td>1. e76148j\\n2. \\te76uzdz\\n3. \\t\\te772r42\\n4. \\...</td>\n",
       "      <td>1. In this 20 minute long video, Top Hate and ...</td>\n",
       "      <td>[2]</td>\n",
       "      <td>[\"Using the word 'retard'  is offensive to the...</td>\n",
       "    </tr>\n",
       "  </tbody>\n",
       "</table>\n",
       "<p>5020 rows × 4 columns</p>\n",
       "</div>"
      ],
      "text/plain": [
       "                                                     id  \\\n",
       "0     1. e8q18lf\\n2. \\te8q9w5s\\n3. \\t\\te8qbobk\\n4. \\...   \n",
       "1            1. e9c6naz\\n2. \\te9d03a5\\n3. \\t\\te9d8e4d\\n   \n",
       "2     1. e84rl2i\\n2. \\te84w60l\\n3. \\t\\te8544rn\\n4. \\...   \n",
       "3                            1. e7kq72n\\n2. \\te7m24ar\\n   \n",
       "4     1. e7hdgoh\\n2. \\te7iyj6a\\n3. \\t\\te7j6iho\\n4. \\...   \n",
       "...                                                 ...   \n",
       "5015  1. e90fta8\\n2. \\te90g8px\\n3. \\t\\te90jlq5\\n4. \\...   \n",
       "5016                         1. e9b7mn2\\n2. \\te9bv6ir\\n   \n",
       "5017  1. e7q8ilv\\n2. \\te7qddqq\\n3. \\t\\te7qstbc\\n4. \\...   \n",
       "5018                                       1. dwp8jut\\n   \n",
       "5019  1. e76148j\\n2. \\te76uzdz\\n3. \\t\\te772r42\\n4. \\...   \n",
       "\n",
       "                                                   text hate_speech_idx  \\\n",
       "0     1. A subsection of retarded Hungarians? Ohh bo...             [1]   \n",
       "1     1. > \"y'all hear sumn?\"  by all means I live i...             [3]   \n",
       "2     1. wouldn't the defenders or whatever they are...             NaN   \n",
       "3     1. Because the Japanese aren't retarded and kn...             [1]   \n",
       "4     1. That might be true if we didn't have an exa...          [2, 3]   \n",
       "...                                                 ...             ...   \n",
       "5015  1. Who does she claim as *her people*?\\n2. \\tI...             [8]   \n",
       "5016  1. Here's what's going to happen:  Broward is ...             NaN   \n",
       "5017  1. Oh boy...so here comes a long venting post ...          [1, 4]   \n",
       "5018  1. OP, stop being a faggot and post videos nex...             [1]   \n",
       "5019  1. In this 20 minute long video, Top Hate and ...             [2]   \n",
       "\n",
       "                                               response  \n",
       "0     [\"I don't see a reason why it's okay to insult...  \n",
       "1     ['Persons with disabilities is the accepted te...  \n",
       "2                                                   NaN  \n",
       "3     [\"It's not right for anyone of any gender to b...  \n",
       "4     [\"You shouldn't be bringing up sensitive topic...  \n",
       "...                                                 ...  \n",
       "5015  ['its inappropriate to use the word faggot as ...  \n",
       "5016                                                NaN  \n",
       "5017  [\"using the word 'nigger' is a direct attack t...  \n",
       "5018  [\"using the words 'faggot fuckers' is offensiv...  \n",
       "5019  [\"Using the word 'retard'  is offensive to the...  \n",
       "\n",
       "[5020 rows x 4 columns]"
      ]
     },
     "execution_count": 480,
     "metadata": {},
     "output_type": "execute_result"
    }
   ],
   "source": [
    "df1=pd.read_csv('reddit.csv')\n",
    "df1"
   ]
  },
  {
   "cell_type": "code",
   "execution_count": 481,
   "id": "bec8e1ae",
   "metadata": {},
   "outputs": [
    {
     "data": {
      "text/plain": [
       "'1. e8q18lf\\n2. \\te8q9w5s\\n3. \\t\\te8qbobk\\n4. \\t\\t\\te8qfn91\\n'"
      ]
     },
     "execution_count": 481,
     "metadata": {},
     "output_type": "execute_result"
    }
   ],
   "source": [
    "df1['id'][0]"
   ]
  },
  {
   "cell_type": "code",
   "execution_count": 482,
   "id": "7534e27c",
   "metadata": {
    "scrolled": true
   },
   "outputs": [
    {
     "data": {
      "text/plain": [
       "\"1. A subsection of retarded Hungarians? Ohh boy. brace for a livid Bulbasaur coming in here trying to hate a hole in some of her stupider countrymen.\\n2. \\tHiii. Just got off work. 444 is mainly the typa guys you imagine writing for US stupid sites, but basically they just try to fit in with the Western European and US big city hipsters.   Rich kids from Budapest who feel they are brave journalistic heroes.  \\n3. \\t\\twow i guess soyboys are the same in every country\\n4. \\t\\t\\tOwen Benjamin's soyboy song goes for every country and that's why it's so amazing. \\n\""
      ]
     },
     "execution_count": 482,
     "metadata": {},
     "output_type": "execute_result"
    }
   ],
   "source": [
    "df1['text'][0]"
   ]
  },
  {
   "cell_type": "code",
   "execution_count": 483,
   "id": "73905e96",
   "metadata": {
    "scrolled": true
   },
   "outputs": [
    {
     "data": {
      "text/plain": [
       "count     3847\n",
       "unique     316\n",
       "top        [1]\n",
       "freq      1740\n",
       "Name: hate_speech_idx, dtype: object"
      ]
     },
     "execution_count": 483,
     "metadata": {},
     "output_type": "execute_result"
    }
   ],
   "source": [
    "df1['hate_speech_idx'].describe()"
   ]
  },
  {
   "cell_type": "code",
   "execution_count": 484,
   "id": "9a852644",
   "metadata": {},
   "outputs": [],
   "source": [
    "df1['hate_speech_idx'].loc[~df1['hate_speech_idx'].isnull()] = 1\n",
    "df1['hate_speech_idx'].loc[df1['hate_speech_idx'].isnull()] = 0  "
   ]
  },
  {
   "cell_type": "code",
   "execution_count": 485,
   "id": "c3f94321",
   "metadata": {
    "scrolled": true
   },
   "outputs": [
    {
     "data": {
      "text/html": [
       "<div>\n",
       "<style scoped>\n",
       "    .dataframe tbody tr th:only-of-type {\n",
       "        vertical-align: middle;\n",
       "    }\n",
       "\n",
       "    .dataframe tbody tr th {\n",
       "        vertical-align: top;\n",
       "    }\n",
       "\n",
       "    .dataframe thead th {\n",
       "        text-align: right;\n",
       "    }\n",
       "</style>\n",
       "<table border=\"1\" class=\"dataframe\">\n",
       "  <thead>\n",
       "    <tr style=\"text-align: right;\">\n",
       "      <th></th>\n",
       "      <th>id</th>\n",
       "      <th>text</th>\n",
       "      <th>hate_speech_idx</th>\n",
       "      <th>response</th>\n",
       "    </tr>\n",
       "  </thead>\n",
       "  <tbody>\n",
       "    <tr>\n",
       "      <th>0</th>\n",
       "      <td>1. e8q18lf\\n2. \\te8q9w5s\\n3. \\t\\te8qbobk\\n4. \\...</td>\n",
       "      <td>1. A subsection of retarded Hungarians? Ohh bo...</td>\n",
       "      <td>1</td>\n",
       "      <td>[\"I don't see a reason why it's okay to insult...</td>\n",
       "    </tr>\n",
       "    <tr>\n",
       "      <th>1</th>\n",
       "      <td>1. e9c6naz\\n2. \\te9d03a5\\n3. \\t\\te9d8e4d\\n</td>\n",
       "      <td>1. &gt; \"y'all hear sumn?\"  by all means I live i...</td>\n",
       "      <td>1</td>\n",
       "      <td>['Persons with disabilities is the accepted te...</td>\n",
       "    </tr>\n",
       "    <tr>\n",
       "      <th>2</th>\n",
       "      <td>1. e84rl2i\\n2. \\te84w60l\\n3. \\t\\te8544rn\\n4. \\...</td>\n",
       "      <td>1. wouldn't the defenders or whatever they are...</td>\n",
       "      <td>0</td>\n",
       "      <td>NaN</td>\n",
       "    </tr>\n",
       "    <tr>\n",
       "      <th>3</th>\n",
       "      <td>1. e7kq72n\\n2. \\te7m24ar\\n</td>\n",
       "      <td>1. Because the Japanese aren't retarded and kn...</td>\n",
       "      <td>1</td>\n",
       "      <td>[\"It's not right for anyone of any gender to b...</td>\n",
       "    </tr>\n",
       "    <tr>\n",
       "      <th>4</th>\n",
       "      <td>1. e7hdgoh\\n2. \\te7iyj6a\\n3. \\t\\te7j6iho\\n4. \\...</td>\n",
       "      <td>1. That might be true if we didn't have an exa...</td>\n",
       "      <td>1</td>\n",
       "      <td>[\"You shouldn't be bringing up sensitive topic...</td>\n",
       "    </tr>\n",
       "    <tr>\n",
       "      <th>...</th>\n",
       "      <td>...</td>\n",
       "      <td>...</td>\n",
       "      <td>...</td>\n",
       "      <td>...</td>\n",
       "    </tr>\n",
       "    <tr>\n",
       "      <th>5015</th>\n",
       "      <td>1. e90fta8\\n2. \\te90g8px\\n3. \\t\\te90jlq5\\n4. \\...</td>\n",
       "      <td>1. Who does she claim as *her people*?\\n2. \\tI...</td>\n",
       "      <td>1</td>\n",
       "      <td>['its inappropriate to use the word faggot as ...</td>\n",
       "    </tr>\n",
       "    <tr>\n",
       "      <th>5016</th>\n",
       "      <td>1. e9b7mn2\\n2. \\te9bv6ir\\n</td>\n",
       "      <td>1. Here's what's going to happen:  Broward is ...</td>\n",
       "      <td>0</td>\n",
       "      <td>NaN</td>\n",
       "    </tr>\n",
       "    <tr>\n",
       "      <th>5017</th>\n",
       "      <td>1. e7q8ilv\\n2. \\te7qddqq\\n3. \\t\\te7qstbc\\n4. \\...</td>\n",
       "      <td>1. Oh boy...so here comes a long venting post ...</td>\n",
       "      <td>1</td>\n",
       "      <td>[\"using the word 'nigger' is a direct attack t...</td>\n",
       "    </tr>\n",
       "    <tr>\n",
       "      <th>5018</th>\n",
       "      <td>1. dwp8jut\\n</td>\n",
       "      <td>1. OP, stop being a faggot and post videos nex...</td>\n",
       "      <td>1</td>\n",
       "      <td>[\"using the words 'faggot fuckers' is offensiv...</td>\n",
       "    </tr>\n",
       "    <tr>\n",
       "      <th>5019</th>\n",
       "      <td>1. e76148j\\n2. \\te76uzdz\\n3. \\t\\te772r42\\n4. \\...</td>\n",
       "      <td>1. In this 20 minute long video, Top Hate and ...</td>\n",
       "      <td>1</td>\n",
       "      <td>[\"Using the word 'retard'  is offensive to the...</td>\n",
       "    </tr>\n",
       "  </tbody>\n",
       "</table>\n",
       "<p>5020 rows × 4 columns</p>\n",
       "</div>"
      ],
      "text/plain": [
       "                                                     id  \\\n",
       "0     1. e8q18lf\\n2. \\te8q9w5s\\n3. \\t\\te8qbobk\\n4. \\...   \n",
       "1            1. e9c6naz\\n2. \\te9d03a5\\n3. \\t\\te9d8e4d\\n   \n",
       "2     1. e84rl2i\\n2. \\te84w60l\\n3. \\t\\te8544rn\\n4. \\...   \n",
       "3                            1. e7kq72n\\n2. \\te7m24ar\\n   \n",
       "4     1. e7hdgoh\\n2. \\te7iyj6a\\n3. \\t\\te7j6iho\\n4. \\...   \n",
       "...                                                 ...   \n",
       "5015  1. e90fta8\\n2. \\te90g8px\\n3. \\t\\te90jlq5\\n4. \\...   \n",
       "5016                         1. e9b7mn2\\n2. \\te9bv6ir\\n   \n",
       "5017  1. e7q8ilv\\n2. \\te7qddqq\\n3. \\t\\te7qstbc\\n4. \\...   \n",
       "5018                                       1. dwp8jut\\n   \n",
       "5019  1. e76148j\\n2. \\te76uzdz\\n3. \\t\\te772r42\\n4. \\...   \n",
       "\n",
       "                                                   text hate_speech_idx  \\\n",
       "0     1. A subsection of retarded Hungarians? Ohh bo...               1   \n",
       "1     1. > \"y'all hear sumn?\"  by all means I live i...               1   \n",
       "2     1. wouldn't the defenders or whatever they are...               0   \n",
       "3     1. Because the Japanese aren't retarded and kn...               1   \n",
       "4     1. That might be true if we didn't have an exa...               1   \n",
       "...                                                 ...             ...   \n",
       "5015  1. Who does she claim as *her people*?\\n2. \\tI...               1   \n",
       "5016  1. Here's what's going to happen:  Broward is ...               0   \n",
       "5017  1. Oh boy...so here comes a long venting post ...               1   \n",
       "5018  1. OP, stop being a faggot and post videos nex...               1   \n",
       "5019  1. In this 20 minute long video, Top Hate and ...               1   \n",
       "\n",
       "                                               response  \n",
       "0     [\"I don't see a reason why it's okay to insult...  \n",
       "1     ['Persons with disabilities is the accepted te...  \n",
       "2                                                   NaN  \n",
       "3     [\"It's not right for anyone of any gender to b...  \n",
       "4     [\"You shouldn't be bringing up sensitive topic...  \n",
       "...                                                 ...  \n",
       "5015  ['its inappropriate to use the word faggot as ...  \n",
       "5016                                                NaN  \n",
       "5017  [\"using the word 'nigger' is a direct attack t...  \n",
       "5018  [\"using the words 'faggot fuckers' is offensiv...  \n",
       "5019  [\"Using the word 'retard'  is offensive to the...  \n",
       "\n",
       "[5020 rows x 4 columns]"
      ]
     },
     "execution_count": 485,
     "metadata": {},
     "output_type": "execute_result"
    }
   ],
   "source": [
    "df1"
   ]
  },
  {
   "cell_type": "code",
   "execution_count": 486,
   "id": "34de0366",
   "metadata": {},
   "outputs": [
    {
     "data": {
      "text/html": [
       "<div>\n",
       "<style scoped>\n",
       "    .dataframe tbody tr th:only-of-type {\n",
       "        vertical-align: middle;\n",
       "    }\n",
       "\n",
       "    .dataframe tbody tr th {\n",
       "        vertical-align: top;\n",
       "    }\n",
       "\n",
       "    .dataframe thead th {\n",
       "        text-align: right;\n",
       "    }\n",
       "</style>\n",
       "<table border=\"1\" class=\"dataframe\">\n",
       "  <thead>\n",
       "    <tr style=\"text-align: right;\">\n",
       "      <th></th>\n",
       "      <th>id</th>\n",
       "      <th>text</th>\n",
       "      <th>hate_speech_idx</th>\n",
       "    </tr>\n",
       "  </thead>\n",
       "  <tbody>\n",
       "    <tr>\n",
       "      <th>0</th>\n",
       "      <td>1. e8q18lf\\n2. \\te8q9w5s\\n3. \\t\\te8qbobk\\n4. \\...</td>\n",
       "      <td>1. A subsection of retarded Hungarians? Ohh bo...</td>\n",
       "      <td>1</td>\n",
       "    </tr>\n",
       "    <tr>\n",
       "      <th>1</th>\n",
       "      <td>1. e9c6naz\\n2. \\te9d03a5\\n3. \\t\\te9d8e4d\\n</td>\n",
       "      <td>1. &gt; \"y'all hear sumn?\"  by all means I live i...</td>\n",
       "      <td>1</td>\n",
       "    </tr>\n",
       "    <tr>\n",
       "      <th>2</th>\n",
       "      <td>1. e84rl2i\\n2. \\te84w60l\\n3. \\t\\te8544rn\\n4. \\...</td>\n",
       "      <td>1. wouldn't the defenders or whatever they are...</td>\n",
       "      <td>0</td>\n",
       "    </tr>\n",
       "    <tr>\n",
       "      <th>3</th>\n",
       "      <td>1. e7kq72n\\n2. \\te7m24ar\\n</td>\n",
       "      <td>1. Because the Japanese aren't retarded and kn...</td>\n",
       "      <td>1</td>\n",
       "    </tr>\n",
       "    <tr>\n",
       "      <th>4</th>\n",
       "      <td>1. e7hdgoh\\n2. \\te7iyj6a\\n3. \\t\\te7j6iho\\n4. \\...</td>\n",
       "      <td>1. That might be true if we didn't have an exa...</td>\n",
       "      <td>1</td>\n",
       "    </tr>\n",
       "    <tr>\n",
       "      <th>...</th>\n",
       "      <td>...</td>\n",
       "      <td>...</td>\n",
       "      <td>...</td>\n",
       "    </tr>\n",
       "    <tr>\n",
       "      <th>5015</th>\n",
       "      <td>1. e90fta8\\n2. \\te90g8px\\n3. \\t\\te90jlq5\\n4. \\...</td>\n",
       "      <td>1. Who does she claim as *her people*?\\n2. \\tI...</td>\n",
       "      <td>1</td>\n",
       "    </tr>\n",
       "    <tr>\n",
       "      <th>5016</th>\n",
       "      <td>1. e9b7mn2\\n2. \\te9bv6ir\\n</td>\n",
       "      <td>1. Here's what's going to happen:  Broward is ...</td>\n",
       "      <td>0</td>\n",
       "    </tr>\n",
       "    <tr>\n",
       "      <th>5017</th>\n",
       "      <td>1. e7q8ilv\\n2. \\te7qddqq\\n3. \\t\\te7qstbc\\n4. \\...</td>\n",
       "      <td>1. Oh boy...so here comes a long venting post ...</td>\n",
       "      <td>1</td>\n",
       "    </tr>\n",
       "    <tr>\n",
       "      <th>5018</th>\n",
       "      <td>1. dwp8jut\\n</td>\n",
       "      <td>1. OP, stop being a faggot and post videos nex...</td>\n",
       "      <td>1</td>\n",
       "    </tr>\n",
       "    <tr>\n",
       "      <th>5019</th>\n",
       "      <td>1. e76148j\\n2. \\te76uzdz\\n3. \\t\\te772r42\\n4. \\...</td>\n",
       "      <td>1. In this 20 minute long video, Top Hate and ...</td>\n",
       "      <td>1</td>\n",
       "    </tr>\n",
       "  </tbody>\n",
       "</table>\n",
       "<p>5020 rows × 3 columns</p>\n",
       "</div>"
      ],
      "text/plain": [
       "                                                     id  \\\n",
       "0     1. e8q18lf\\n2. \\te8q9w5s\\n3. \\t\\te8qbobk\\n4. \\...   \n",
       "1            1. e9c6naz\\n2. \\te9d03a5\\n3. \\t\\te9d8e4d\\n   \n",
       "2     1. e84rl2i\\n2. \\te84w60l\\n3. \\t\\te8544rn\\n4. \\...   \n",
       "3                            1. e7kq72n\\n2. \\te7m24ar\\n   \n",
       "4     1. e7hdgoh\\n2. \\te7iyj6a\\n3. \\t\\te7j6iho\\n4. \\...   \n",
       "...                                                 ...   \n",
       "5015  1. e90fta8\\n2. \\te90g8px\\n3. \\t\\te90jlq5\\n4. \\...   \n",
       "5016                         1. e9b7mn2\\n2. \\te9bv6ir\\n   \n",
       "5017  1. e7q8ilv\\n2. \\te7qddqq\\n3. \\t\\te7qstbc\\n4. \\...   \n",
       "5018                                       1. dwp8jut\\n   \n",
       "5019  1. e76148j\\n2. \\te76uzdz\\n3. \\t\\te772r42\\n4. \\...   \n",
       "\n",
       "                                                   text hate_speech_idx  \n",
       "0     1. A subsection of retarded Hungarians? Ohh bo...               1  \n",
       "1     1. > \"y'all hear sumn?\"  by all means I live i...               1  \n",
       "2     1. wouldn't the defenders or whatever they are...               0  \n",
       "3     1. Because the Japanese aren't retarded and kn...               1  \n",
       "4     1. That might be true if we didn't have an exa...               1  \n",
       "...                                                 ...             ...  \n",
       "5015  1. Who does she claim as *her people*?\\n2. \\tI...               1  \n",
       "5016  1. Here's what's going to happen:  Broward is ...               0  \n",
       "5017  1. Oh boy...so here comes a long venting post ...               1  \n",
       "5018  1. OP, stop being a faggot and post videos nex...               1  \n",
       "5019  1. In this 20 minute long video, Top Hate and ...               1  \n",
       "\n",
       "[5020 rows x 3 columns]"
      ]
     },
     "execution_count": 486,
     "metadata": {},
     "output_type": "execute_result"
    }
   ],
   "source": [
    "data=df1\n",
    "data=data.drop(columns=['response'])\n",
    "data"
   ]
  },
  {
   "cell_type": "code",
   "execution_count": 487,
   "id": "22a11a5e",
   "metadata": {},
   "outputs": [],
   "source": [
    "import matplotlib.pyplot as plt\n",
    "import seaborn as sns"
   ]
  },
  {
   "cell_type": "code",
   "execution_count": 488,
   "id": "77c8ec5f",
   "metadata": {},
   "outputs": [
    {
     "data": {
      "image/png": "[encoded data removed]",
      "text/plain": [
       "<Figure size 500x500 with 1 Axes>"
      ]
     },
     "metadata": {},
     "output_type": "display_data"
    }
   ],
   "source": [
    "plt.figure(figsize=(5,5))\n",
    "ax=sns.countplot(x=data['hate_speech_idx'],data=data,order=data['hate_speech_idx'].value_counts().index)\n",
    "for p,label in zip(ax.patches,data['hate_speech_idx'].value_counts()):\n",
    "    ax.annotate(label,(p.get_x()+0.25,p.get_height()+0.5))"
   ]
  },
  {
   "cell_type": "code",
   "execution_count": 489,
   "id": "19c9ceba",
   "metadata": {},
   "outputs": [
    {
     "data": {
      "text/html": [
       "<div>\n",
       "<style scoped>\n",
       "    .dataframe tbody tr th:only-of-type {\n",
       "        vertical-align: middle;\n",
       "    }\n",
       "\n",
       "    .dataframe tbody tr th {\n",
       "        vertical-align: top;\n",
       "    }\n",
       "\n",
       "    .dataframe thead th {\n",
       "        text-align: right;\n",
       "    }\n",
       "</style>\n",
       "<table border=\"1\" class=\"dataframe\">\n",
       "  <thead>\n",
       "    <tr style=\"text-align: right;\">\n",
       "      <th></th>\n",
       "      <th>id</th>\n",
       "      <th>text</th>\n",
       "      <th>hate_speech</th>\n",
       "    </tr>\n",
       "  </thead>\n",
       "  <tbody>\n",
       "    <tr>\n",
       "      <th>0</th>\n",
       "      <td>1. e8q18lf\\n2. \\te8q9w5s\\n3. \\t\\te8qbobk\\n4. \\...</td>\n",
       "      <td>1. A subsection of retarded Hungarians? Ohh bo...</td>\n",
       "      <td>1</td>\n",
       "    </tr>\n",
       "    <tr>\n",
       "      <th>1</th>\n",
       "      <td>1. e9c6naz\\n2. \\te9d03a5\\n3. \\t\\te9d8e4d\\n</td>\n",
       "      <td>1. &gt; \"y'all hear sumn?\"  by all means I live i...</td>\n",
       "      <td>1</td>\n",
       "    </tr>\n",
       "    <tr>\n",
       "      <th>2</th>\n",
       "      <td>1. e84rl2i\\n2. \\te84w60l\\n3. \\t\\te8544rn\\n4. \\...</td>\n",
       "      <td>1. wouldn't the defenders or whatever they are...</td>\n",
       "      <td>0</td>\n",
       "    </tr>\n",
       "    <tr>\n",
       "      <th>3</th>\n",
       "      <td>1. e7kq72n\\n2. \\te7m24ar\\n</td>\n",
       "      <td>1. Because the Japanese aren't retarded and kn...</td>\n",
       "      <td>1</td>\n",
       "    </tr>\n",
       "    <tr>\n",
       "      <th>4</th>\n",
       "      <td>1. e7hdgoh\\n2. \\te7iyj6a\\n3. \\t\\te7j6iho\\n4. \\...</td>\n",
       "      <td>1. That might be true if we didn't have an exa...</td>\n",
       "      <td>1</td>\n",
       "    </tr>\n",
       "    <tr>\n",
       "      <th>...</th>\n",
       "      <td>...</td>\n",
       "      <td>...</td>\n",
       "      <td>...</td>\n",
       "    </tr>\n",
       "    <tr>\n",
       "      <th>5015</th>\n",
       "      <td>1. e90fta8\\n2. \\te90g8px\\n3. \\t\\te90jlq5\\n4. \\...</td>\n",
       "      <td>1. Who does she claim as *her people*?\\n2. \\tI...</td>\n",
       "      <td>1</td>\n",
       "    </tr>\n",
       "    <tr>\n",
       "      <th>5016</th>\n",
       "      <td>1. e9b7mn2\\n2. \\te9bv6ir\\n</td>\n",
       "      <td>1. Here's what's going to happen:  Broward is ...</td>\n",
       "      <td>0</td>\n",
       "    </tr>\n",
       "    <tr>\n",
       "      <th>5017</th>\n",
       "      <td>1. e7q8ilv\\n2. \\te7qddqq\\n3. \\t\\te7qstbc\\n4. \\...</td>\n",
       "      <td>1. Oh boy...so here comes a long venting post ...</td>\n",
       "      <td>1</td>\n",
       "    </tr>\n",
       "    <tr>\n",
       "      <th>5018</th>\n",
       "      <td>1. dwp8jut\\n</td>\n",
       "      <td>1. OP, stop being a faggot and post videos nex...</td>\n",
       "      <td>1</td>\n",
       "    </tr>\n",
       "    <tr>\n",
       "      <th>5019</th>\n",
       "      <td>1. e76148j\\n2. \\te76uzdz\\n3. \\t\\te772r42\\n4. \\...</td>\n",
       "      <td>1. In this 20 minute long video, Top Hate and ...</td>\n",
       "      <td>1</td>\n",
       "    </tr>\n",
       "  </tbody>\n",
       "</table>\n",
       "<p>5020 rows × 3 columns</p>\n",
       "</div>"
      ],
      "text/plain": [
       "                                                     id  \\\n",
       "0     1. e8q18lf\\n2. \\te8q9w5s\\n3. \\t\\te8qbobk\\n4. \\...   \n",
       "1            1. e9c6naz\\n2. \\te9d03a5\\n3. \\t\\te9d8e4d\\n   \n",
       "2     1. e84rl2i\\n2. \\te84w60l\\n3. \\t\\te8544rn\\n4. \\...   \n",
       "3                            1. e7kq72n\\n2. \\te7m24ar\\n   \n",
       "4     1. e7hdgoh\\n2. \\te7iyj6a\\n3. \\t\\te7j6iho\\n4. \\...   \n",
       "...                                                 ...   \n",
       "5015  1. e90fta8\\n2. \\te90g8px\\n3. \\t\\te90jlq5\\n4. \\...   \n",
       "5016                         1. e9b7mn2\\n2. \\te9bv6ir\\n   \n",
       "5017  1. e7q8ilv\\n2. \\te7qddqq\\n3. \\t\\te7qstbc\\n4. \\...   \n",
       "5018                                       1. dwp8jut\\n   \n",
       "5019  1. e76148j\\n2. \\te76uzdz\\n3. \\t\\te772r42\\n4. \\...   \n",
       "\n",
       "                                                   text hate_speech  \n",
       "0     1. A subsection of retarded Hungarians? Ohh bo...           1  \n",
       "1     1. > \"y'all hear sumn?\"  by all means I live i...           1  \n",
       "2     1. wouldn't the defenders or whatever they are...           0  \n",
       "3     1. Because the Japanese aren't retarded and kn...           1  \n",
       "4     1. That might be true if we didn't have an exa...           1  \n",
       "...                                                 ...         ...  \n",
       "5015  1. Who does she claim as *her people*?\\n2. \\tI...           1  \n",
       "5016  1. Here's what's going to happen:  Broward is ...           0  \n",
       "5017  1. Oh boy...so here comes a long venting post ...           1  \n",
       "5018  1. OP, stop being a faggot and post videos nex...           1  \n",
       "5019  1. In this 20 minute long video, Top Hate and ...           1  \n",
       "\n",
       "[5020 rows x 3 columns]"
      ]
     },
     "execution_count": 489,
     "metadata": {},
     "output_type": "execute_result"
    }
   ],
   "source": [
    "data=data.rename(columns={\"hate_speech_idx\":\"hate_speech\"})\n",
    "data"
   ]
  },
  {
   "cell_type": "code",
   "execution_count": 490,
   "id": "83fef698",
   "metadata": {},
   "outputs": [
    {
     "data": {
      "text/html": [
       "<div>\n",
       "<style scoped>\n",
       "    .dataframe tbody tr th:only-of-type {\n",
       "        vertical-align: middle;\n",
       "    }\n",
       "\n",
       "    .dataframe tbody tr th {\n",
       "        vertical-align: top;\n",
       "    }\n",
       "\n",
       "    .dataframe thead th {\n",
       "        text-align: right;\n",
       "    }\n",
       "</style>\n",
       "<table border=\"1\" class=\"dataframe\">\n",
       "  <thead>\n",
       "    <tr style=\"text-align: right;\">\n",
       "      <th></th>\n",
       "      <th>id</th>\n",
       "      <th>text</th>\n",
       "      <th>hate_speech</th>\n",
       "    </tr>\n",
       "  </thead>\n",
       "  <tbody>\n",
       "    <tr>\n",
       "      <th>count</th>\n",
       "      <td>5020</td>\n",
       "      <td>5020</td>\n",
       "      <td>5020</td>\n",
       "    </tr>\n",
       "    <tr>\n",
       "      <th>unique</th>\n",
       "      <td>5015</td>\n",
       "      <td>5002</td>\n",
       "      <td>2</td>\n",
       "    </tr>\n",
       "    <tr>\n",
       "      <th>top</th>\n",
       "      <td>1. e9ai3dh\\n</td>\n",
       "      <td>1. What a cunt. \\n</td>\n",
       "      <td>1</td>\n",
       "    </tr>\n",
       "    <tr>\n",
       "      <th>freq</th>\n",
       "      <td>2</td>\n",
       "      <td>4</td>\n",
       "      <td>3847</td>\n",
       "    </tr>\n",
       "  </tbody>\n",
       "</table>\n",
       "</div>"
      ],
      "text/plain": [
       "                  id                text  hate_speech\n",
       "count           5020                5020         5020\n",
       "unique          5015                5002            2\n",
       "top     1. e9ai3dh\\n  1. What a cunt. \\n            1\n",
       "freq               2                   4         3847"
      ]
     },
     "execution_count": 490,
     "metadata": {},
     "output_type": "execute_result"
    }
   ],
   "source": [
    "data.describe()"
   ]
  },
  {
   "cell_type": "markdown",
   "id": "8c16c775",
   "metadata": {},
   "source": [
    "**Why do we need to convert text into lowercase?**\n",
    "\n",
    "**When we tokenize a sentence word by word, same word represented in upper and lower case notations\n",
    "are identified as different words.For example, ‘Basic’ and ‘basic’ are considered different but they both are same,because\n",
    "python is case-sensitive,it adds complexity to model, to simplify it we do lowercasing.**"
   ]
  },
  {
   "cell_type": "code",
   "execution_count": 491,
   "id": "542f3991",
   "metadata": {},
   "outputs": [],
   "source": [
    "import string"
   ]
  },
  {
   "cell_type": "code",
   "execution_count": 492,
   "id": "f6b21e20",
   "metadata": {},
   "outputs": [],
   "source": [
    "data['text']=data['text'].str.lower()\n"
   ]
  },
  {
   "cell_type": "code",
   "execution_count": 493,
   "id": "74d2b07a",
   "metadata": {
    "scrolled": false
   },
   "outputs": [
    {
     "data": {
      "text/html": [
       "<div>\n",
       "<style scoped>\n",
       "    .dataframe tbody tr th:only-of-type {\n",
       "        vertical-align: middle;\n",
       "    }\n",
       "\n",
       "    .dataframe tbody tr th {\n",
       "        vertical-align: top;\n",
       "    }\n",
       "\n",
       "    .dataframe thead th {\n",
       "        text-align: right;\n",
       "    }\n",
       "</style>\n",
       "<table border=\"1\" class=\"dataframe\">\n",
       "  <thead>\n",
       "    <tr style=\"text-align: right;\">\n",
       "      <th></th>\n",
       "      <th>id</th>\n",
       "      <th>text</th>\n",
       "      <th>hate_speech</th>\n",
       "    </tr>\n",
       "  </thead>\n",
       "  <tbody>\n",
       "    <tr>\n",
       "      <th>0</th>\n",
       "      <td>1. e8q18lf\\n2. \\te8q9w5s\\n3. \\t\\te8qbobk\\n4. \\...</td>\n",
       "      <td>1. a subsection of retarded hungarians? ohh bo...</td>\n",
       "      <td>1</td>\n",
       "    </tr>\n",
       "    <tr>\n",
       "      <th>1</th>\n",
       "      <td>1. e9c6naz\\n2. \\te9d03a5\\n3. \\t\\te9d8e4d\\n</td>\n",
       "      <td>1. &gt; \"y'all hear sumn?\"  by all means i live i...</td>\n",
       "      <td>1</td>\n",
       "    </tr>\n",
       "    <tr>\n",
       "      <th>2</th>\n",
       "      <td>1. e84rl2i\\n2. \\te84w60l\\n3. \\t\\te8544rn\\n4. \\...</td>\n",
       "      <td>1. wouldn't the defenders or whatever they are...</td>\n",
       "      <td>0</td>\n",
       "    </tr>\n",
       "    <tr>\n",
       "      <th>3</th>\n",
       "      <td>1. e7kq72n\\n2. \\te7m24ar\\n</td>\n",
       "      <td>1. because the japanese aren't retarded and kn...</td>\n",
       "      <td>1</td>\n",
       "    </tr>\n",
       "    <tr>\n",
       "      <th>4</th>\n",
       "      <td>1. e7hdgoh\\n2. \\te7iyj6a\\n3. \\t\\te7j6iho\\n4. \\...</td>\n",
       "      <td>1. that might be true if we didn't have an exa...</td>\n",
       "      <td>1</td>\n",
       "    </tr>\n",
       "    <tr>\n",
       "      <th>...</th>\n",
       "      <td>...</td>\n",
       "      <td>...</td>\n",
       "      <td>...</td>\n",
       "    </tr>\n",
       "    <tr>\n",
       "      <th>5015</th>\n",
       "      <td>1. e90fta8\\n2. \\te90g8px\\n3. \\t\\te90jlq5\\n4. \\...</td>\n",
       "      <td>1. who does she claim as *her people*?\\n2. \\ti...</td>\n",
       "      <td>1</td>\n",
       "    </tr>\n",
       "    <tr>\n",
       "      <th>5016</th>\n",
       "      <td>1. e9b7mn2\\n2. \\te9bv6ir\\n</td>\n",
       "      <td>1. here's what's going to happen:  broward is ...</td>\n",
       "      <td>0</td>\n",
       "    </tr>\n",
       "    <tr>\n",
       "      <th>5017</th>\n",
       "      <td>1. e7q8ilv\\n2. \\te7qddqq\\n3. \\t\\te7qstbc\\n4. \\...</td>\n",
       "      <td>1. oh boy...so here comes a long venting post ...</td>\n",
       "      <td>1</td>\n",
       "    </tr>\n",
       "    <tr>\n",
       "      <th>5018</th>\n",
       "      <td>1. dwp8jut\\n</td>\n",
       "      <td>1. op, stop being a faggot and post videos nex...</td>\n",
       "      <td>1</td>\n",
       "    </tr>\n",
       "    <tr>\n",
       "      <th>5019</th>\n",
       "      <td>1. e76148j\\n2. \\te76uzdz\\n3. \\t\\te772r42\\n4. \\...</td>\n",
       "      <td>1. in this 20 minute long video, top hate and ...</td>\n",
       "      <td>1</td>\n",
       "    </tr>\n",
       "  </tbody>\n",
       "</table>\n",
       "<p>5020 rows × 3 columns</p>\n",
       "</div>"
      ],
      "text/plain": [
       "                                                     id  \\\n",
       "0     1. e8q18lf\\n2. \\te8q9w5s\\n3. \\t\\te8qbobk\\n4. \\...   \n",
       "1            1. e9c6naz\\n2. \\te9d03a5\\n3. \\t\\te9d8e4d\\n   \n",
       "2     1. e84rl2i\\n2. \\te84w60l\\n3. \\t\\te8544rn\\n4. \\...   \n",
       "3                            1. e7kq72n\\n2. \\te7m24ar\\n   \n",
       "4     1. e7hdgoh\\n2. \\te7iyj6a\\n3. \\t\\te7j6iho\\n4. \\...   \n",
       "...                                                 ...   \n",
       "5015  1. e90fta8\\n2. \\te90g8px\\n3. \\t\\te90jlq5\\n4. \\...   \n",
       "5016                         1. e9b7mn2\\n2. \\te9bv6ir\\n   \n",
       "5017  1. e7q8ilv\\n2. \\te7qddqq\\n3. \\t\\te7qstbc\\n4. \\...   \n",
       "5018                                       1. dwp8jut\\n   \n",
       "5019  1. e76148j\\n2. \\te76uzdz\\n3. \\t\\te772r42\\n4. \\...   \n",
       "\n",
       "                                                   text hate_speech  \n",
       "0     1. a subsection of retarded hungarians? ohh bo...           1  \n",
       "1     1. > \"y'all hear sumn?\"  by all means i live i...           1  \n",
       "2     1. wouldn't the defenders or whatever they are...           0  \n",
       "3     1. because the japanese aren't retarded and kn...           1  \n",
       "4     1. that might be true if we didn't have an exa...           1  \n",
       "...                                                 ...         ...  \n",
       "5015  1. who does she claim as *her people*?\\n2. \\ti...           1  \n",
       "5016  1. here's what's going to happen:  broward is ...           0  \n",
       "5017  1. oh boy...so here comes a long venting post ...           1  \n",
       "5018  1. op, stop being a faggot and post videos nex...           1  \n",
       "5019  1. in this 20 minute long video, top hate and ...           1  \n",
       "\n",
       "[5020 rows x 3 columns]"
      ]
     },
     "execution_count": 493,
     "metadata": {},
     "output_type": "execute_result"
    }
   ],
   "source": [
    "data"
   ]
  },
  {
   "cell_type": "markdown",
   "id": "4dcf6687",
   "metadata": {},
   "source": [
    "# Removing HTML Tags"
   ]
  },
  {
   "cell_type": "markdown",
   "id": "bed0e950",
   "metadata": {},
   "source": [
    "**Removing unwanted data from the text, let’s take the case of scraping data from web,\n",
    "where we get html tags which are unnecessary for the data,those should be removed.**"
   ]
  },
  {
   "cell_type": "code",
   "execution_count": 494,
   "id": "a74c1c93",
   "metadata": {},
   "outputs": [],
   "source": [
    "import re"
   ]
  },
  {
   "cell_type": "code",
   "execution_count": 495,
   "id": "fd0929ba",
   "metadata": {},
   "outputs": [],
   "source": [
    "def remove_html_tags(text):\n",
    "    pattern=re.compile('<.*?>')\n",
    "    return pattern.sub(r'',text)"
   ]
  },
  {
   "cell_type": "code",
   "execution_count": 496,
   "id": "dd4ebc26",
   "metadata": {},
   "outputs": [],
   "source": [
    "data['text']=data['text'].apply(remove_html_tags)\n"
   ]
  },
  {
   "cell_type": "code",
   "execution_count": 497,
   "id": "b49d62e5",
   "metadata": {
    "scrolled": false
   },
   "outputs": [
    {
     "data": {
      "text/html": [
       "<div>\n",
       "<style scoped>\n",
       "    .dataframe tbody tr th:only-of-type {\n",
       "        vertical-align: middle;\n",
       "    }\n",
       "\n",
       "    .dataframe tbody tr th {\n",
       "        vertical-align: top;\n",
       "    }\n",
       "\n",
       "    .dataframe thead th {\n",
       "        text-align: right;\n",
       "    }\n",
       "</style>\n",
       "<table border=\"1\" class=\"dataframe\">\n",
       "  <thead>\n",
       "    <tr style=\"text-align: right;\">\n",
       "      <th></th>\n",
       "      <th>id</th>\n",
       "      <th>text</th>\n",
       "      <th>hate_speech</th>\n",
       "    </tr>\n",
       "  </thead>\n",
       "  <tbody>\n",
       "    <tr>\n",
       "      <th>0</th>\n",
       "      <td>1. e8q18lf\\n2. \\te8q9w5s\\n3. \\t\\te8qbobk\\n4. \\...</td>\n",
       "      <td>1. a subsection of retarded hungarians? ohh bo...</td>\n",
       "      <td>1</td>\n",
       "    </tr>\n",
       "    <tr>\n",
       "      <th>1</th>\n",
       "      <td>1. e9c6naz\\n2. \\te9d03a5\\n3. \\t\\te9d8e4d\\n</td>\n",
       "      <td>1. &gt; \"y'all hear sumn?\"  by all means i live i...</td>\n",
       "      <td>1</td>\n",
       "    </tr>\n",
       "    <tr>\n",
       "      <th>2</th>\n",
       "      <td>1. e84rl2i\\n2. \\te84w60l\\n3. \\t\\te8544rn\\n4. \\...</td>\n",
       "      <td>1. wouldn't the defenders or whatever they are...</td>\n",
       "      <td>0</td>\n",
       "    </tr>\n",
       "    <tr>\n",
       "      <th>3</th>\n",
       "      <td>1. e7kq72n\\n2. \\te7m24ar\\n</td>\n",
       "      <td>1. because the japanese aren't retarded and kn...</td>\n",
       "      <td>1</td>\n",
       "    </tr>\n",
       "    <tr>\n",
       "      <th>4</th>\n",
       "      <td>1. e7hdgoh\\n2. \\te7iyj6a\\n3. \\t\\te7j6iho\\n4. \\...</td>\n",
       "      <td>1. that might be true if we didn't have an exa...</td>\n",
       "      <td>1</td>\n",
       "    </tr>\n",
       "    <tr>\n",
       "      <th>...</th>\n",
       "      <td>...</td>\n",
       "      <td>...</td>\n",
       "      <td>...</td>\n",
       "    </tr>\n",
       "    <tr>\n",
       "      <th>5015</th>\n",
       "      <td>1. e90fta8\\n2. \\te90g8px\\n3. \\t\\te90jlq5\\n4. \\...</td>\n",
       "      <td>1. who does she claim as *her people*?\\n2. \\ti...</td>\n",
       "      <td>1</td>\n",
       "    </tr>\n",
       "    <tr>\n",
       "      <th>5016</th>\n",
       "      <td>1. e9b7mn2\\n2. \\te9bv6ir\\n</td>\n",
       "      <td>1. here's what's going to happen:  broward is ...</td>\n",
       "      <td>0</td>\n",
       "    </tr>\n",
       "    <tr>\n",
       "      <th>5017</th>\n",
       "      <td>1. e7q8ilv\\n2. \\te7qddqq\\n3. \\t\\te7qstbc\\n4. \\...</td>\n",
       "      <td>1. oh boy...so here comes a long venting post ...</td>\n",
       "      <td>1</td>\n",
       "    </tr>\n",
       "    <tr>\n",
       "      <th>5018</th>\n",
       "      <td>1. dwp8jut\\n</td>\n",
       "      <td>1. op, stop being a faggot and post videos nex...</td>\n",
       "      <td>1</td>\n",
       "    </tr>\n",
       "    <tr>\n",
       "      <th>5019</th>\n",
       "      <td>1. e76148j\\n2. \\te76uzdz\\n3. \\t\\te772r42\\n4. \\...</td>\n",
       "      <td>1. in this 20 minute long video, top hate and ...</td>\n",
       "      <td>1</td>\n",
       "    </tr>\n",
       "  </tbody>\n",
       "</table>\n",
       "<p>5020 rows × 3 columns</p>\n",
       "</div>"
      ],
      "text/plain": [
       "                                                     id  \\\n",
       "0     1. e8q18lf\\n2. \\te8q9w5s\\n3. \\t\\te8qbobk\\n4. \\...   \n",
       "1            1. e9c6naz\\n2. \\te9d03a5\\n3. \\t\\te9d8e4d\\n   \n",
       "2     1. e84rl2i\\n2. \\te84w60l\\n3. \\t\\te8544rn\\n4. \\...   \n",
       "3                            1. e7kq72n\\n2. \\te7m24ar\\n   \n",
       "4     1. e7hdgoh\\n2. \\te7iyj6a\\n3. \\t\\te7j6iho\\n4. \\...   \n",
       "...                                                 ...   \n",
       "5015  1. e90fta8\\n2. \\te90g8px\\n3. \\t\\te90jlq5\\n4. \\...   \n",
       "5016                         1. e9b7mn2\\n2. \\te9bv6ir\\n   \n",
       "5017  1. e7q8ilv\\n2. \\te7qddqq\\n3. \\t\\te7qstbc\\n4. \\...   \n",
       "5018                                       1. dwp8jut\\n   \n",
       "5019  1. e76148j\\n2. \\te76uzdz\\n3. \\t\\te772r42\\n4. \\...   \n",
       "\n",
       "                                                   text hate_speech  \n",
       "0     1. a subsection of retarded hungarians? ohh bo...           1  \n",
       "1     1. > \"y'all hear sumn?\"  by all means i live i...           1  \n",
       "2     1. wouldn't the defenders or whatever they are...           0  \n",
       "3     1. because the japanese aren't retarded and kn...           1  \n",
       "4     1. that might be true if we didn't have an exa...           1  \n",
       "...                                                 ...         ...  \n",
       "5015  1. who does she claim as *her people*?\\n2. \\ti...           1  \n",
       "5016  1. here's what's going to happen:  broward is ...           0  \n",
       "5017  1. oh boy...so here comes a long venting post ...           1  \n",
       "5018  1. op, stop being a faggot and post videos nex...           1  \n",
       "5019  1. in this 20 minute long video, top hate and ...           1  \n",
       "\n",
       "[5020 rows x 3 columns]"
      ]
     },
     "execution_count": 497,
     "metadata": {},
     "output_type": "execute_result"
    }
   ],
   "source": [
    "data"
   ]
  },
  {
   "cell_type": "markdown",
   "id": "a104dad3",
   "metadata": {},
   "source": [
    "# Removing URL"
   ]
  },
  {
   "cell_type": "code",
   "execution_count": 498,
   "id": "b62f8279",
   "metadata": {},
   "outputs": [],
   "source": [
    "def remove_url(text):\n",
    "    pattern=re.compile(r'https?://\\s+|www.\\.\\S+')\n",
    "    return pattern.sub(r'',text)"
   ]
  },
  {
   "cell_type": "code",
   "execution_count": 499,
   "id": "28493948",
   "metadata": {},
   "outputs": [],
   "source": [
    "data['text']=data['text'].apply(remove_url)"
   ]
  },
  {
   "cell_type": "code",
   "execution_count": 500,
   "id": "d805142e",
   "metadata": {
    "scrolled": true
   },
   "outputs": [
    {
     "data": {
      "text/html": [
       "<div>\n",
       "<style scoped>\n",
       "    .dataframe tbody tr th:only-of-type {\n",
       "        vertical-align: middle;\n",
       "    }\n",
       "\n",
       "    .dataframe tbody tr th {\n",
       "        vertical-align: top;\n",
       "    }\n",
       "\n",
       "    .dataframe thead th {\n",
       "        text-align: right;\n",
       "    }\n",
       "</style>\n",
       "<table border=\"1\" class=\"dataframe\">\n",
       "  <thead>\n",
       "    <tr style=\"text-align: right;\">\n",
       "      <th></th>\n",
       "      <th>id</th>\n",
       "      <th>text</th>\n",
       "      <th>hate_speech</th>\n",
       "    </tr>\n",
       "  </thead>\n",
       "  <tbody>\n",
       "    <tr>\n",
       "      <th>0</th>\n",
       "      <td>1. e8q18lf\\n2. \\te8q9w5s\\n3. \\t\\te8qbobk\\n4. \\...</td>\n",
       "      <td>1. a subsection of retarded hungarians? ohh bo...</td>\n",
       "      <td>1</td>\n",
       "    </tr>\n",
       "    <tr>\n",
       "      <th>1</th>\n",
       "      <td>1. e9c6naz\\n2. \\te9d03a5\\n3. \\t\\te9d8e4d\\n</td>\n",
       "      <td>1. &gt; \"y'all hear sumn?\"  by all means i live i...</td>\n",
       "      <td>1</td>\n",
       "    </tr>\n",
       "    <tr>\n",
       "      <th>2</th>\n",
       "      <td>1. e84rl2i\\n2. \\te84w60l\\n3. \\t\\te8544rn\\n4. \\...</td>\n",
       "      <td>1. wouldn't the defenders or whatever they are...</td>\n",
       "      <td>0</td>\n",
       "    </tr>\n",
       "    <tr>\n",
       "      <th>3</th>\n",
       "      <td>1. e7kq72n\\n2. \\te7m24ar\\n</td>\n",
       "      <td>1. because the japanese aren't retarded and kn...</td>\n",
       "      <td>1</td>\n",
       "    </tr>\n",
       "    <tr>\n",
       "      <th>4</th>\n",
       "      <td>1. e7hdgoh\\n2. \\te7iyj6a\\n3. \\t\\te7j6iho\\n4. \\...</td>\n",
       "      <td>1. that might be true if we didn't have an exa...</td>\n",
       "      <td>1</td>\n",
       "    </tr>\n",
       "    <tr>\n",
       "      <th>...</th>\n",
       "      <td>...</td>\n",
       "      <td>...</td>\n",
       "      <td>...</td>\n",
       "    </tr>\n",
       "    <tr>\n",
       "      <th>5015</th>\n",
       "      <td>1. e90fta8\\n2. \\te90g8px\\n3. \\t\\te90jlq5\\n4. \\...</td>\n",
       "      <td>1. who does she claim as *her people*?\\n2. \\ti...</td>\n",
       "      <td>1</td>\n",
       "    </tr>\n",
       "    <tr>\n",
       "      <th>5016</th>\n",
       "      <td>1. e9b7mn2\\n2. \\te9bv6ir\\n</td>\n",
       "      <td>1. here's what's going to happen:  broward is ...</td>\n",
       "      <td>0</td>\n",
       "    </tr>\n",
       "    <tr>\n",
       "      <th>5017</th>\n",
       "      <td>1. e7q8ilv\\n2. \\te7qddqq\\n3. \\t\\te7qstbc\\n4. \\...</td>\n",
       "      <td>1. oh boy...so here comes a long venting post ...</td>\n",
       "      <td>1</td>\n",
       "    </tr>\n",
       "    <tr>\n",
       "      <th>5018</th>\n",
       "      <td>1. dwp8jut\\n</td>\n",
       "      <td>1. op, stop being a faggot and post videos nex...</td>\n",
       "      <td>1</td>\n",
       "    </tr>\n",
       "    <tr>\n",
       "      <th>5019</th>\n",
       "      <td>1. e76148j\\n2. \\te76uzdz\\n3. \\t\\te772r42\\n4. \\...</td>\n",
       "      <td>1. in this 20 minute long video, top hate and ...</td>\n",
       "      <td>1</td>\n",
       "    </tr>\n",
       "  </tbody>\n",
       "</table>\n",
       "<p>5020 rows × 3 columns</p>\n",
       "</div>"
      ],
      "text/plain": [
       "                                                     id  \\\n",
       "0     1. e8q18lf\\n2. \\te8q9w5s\\n3. \\t\\te8qbobk\\n4. \\...   \n",
       "1            1. e9c6naz\\n2. \\te9d03a5\\n3. \\t\\te9d8e4d\\n   \n",
       "2     1. e84rl2i\\n2. \\te84w60l\\n3. \\t\\te8544rn\\n4. \\...   \n",
       "3                            1. e7kq72n\\n2. \\te7m24ar\\n   \n",
       "4     1. e7hdgoh\\n2. \\te7iyj6a\\n3. \\t\\te7j6iho\\n4. \\...   \n",
       "...                                                 ...   \n",
       "5015  1. e90fta8\\n2. \\te90g8px\\n3. \\t\\te90jlq5\\n4. \\...   \n",
       "5016                         1. e9b7mn2\\n2. \\te9bv6ir\\n   \n",
       "5017  1. e7q8ilv\\n2. \\te7qddqq\\n3. \\t\\te7qstbc\\n4. \\...   \n",
       "5018                                       1. dwp8jut\\n   \n",
       "5019  1. e76148j\\n2. \\te76uzdz\\n3. \\t\\te772r42\\n4. \\...   \n",
       "\n",
       "                                                   text hate_speech  \n",
       "0     1. a subsection of retarded hungarians? ohh bo...           1  \n",
       "1     1. > \"y'all hear sumn?\"  by all means i live i...           1  \n",
       "2     1. wouldn't the defenders or whatever they are...           0  \n",
       "3     1. because the japanese aren't retarded and kn...           1  \n",
       "4     1. that might be true if we didn't have an exa...           1  \n",
       "...                                                 ...         ...  \n",
       "5015  1. who does she claim as *her people*?\\n2. \\ti...           1  \n",
       "5016  1. here's what's going to happen:  broward is ...           0  \n",
       "5017  1. oh boy...so here comes a long venting post ...           1  \n",
       "5018  1. op, stop being a faggot and post videos nex...           1  \n",
       "5019  1. in this 20 minute long video, top hate and ...           1  \n",
       "\n",
       "[5020 rows x 3 columns]"
      ]
     },
     "execution_count": 500,
     "metadata": {},
     "output_type": "execute_result"
    }
   ],
   "source": [
    "data"
   ]
  },
  {
   "cell_type": "markdown",
   "id": "c7062eb4",
   "metadata": {},
   "source": [
    "\n",
    "# Stop words Removal"
   ]
  },
  {
   "cell_type": "markdown",
   "id": "3a23cc27",
   "metadata": {},
   "source": [
    "**Words which help in sentence formation, but does not aid any meaning to the sentence \n",
    "like ‘a’, ‘an’, ‘the’, ‘is’ and so on.**"
   ]
  },
  {
   "cell_type": "code",
   "execution_count": 501,
   "id": "781e7b64",
   "metadata": {},
   "outputs": [],
   "source": [
    "from stop_words import get_stop_words\n",
    "stop_words = get_stop_words('en')\n",
    "def stop_words_removal(text):\n",
    "    new_text=[]\n",
    "    for word in text.split():\n",
    "        if word in get_stop_words('en'):\n",
    "            new_text.append('')\n",
    "        else:\n",
    "            new_text.append(word)\n",
    "    return ' '.join(new_text)"
   ]
  },
  {
   "cell_type": "code",
   "execution_count": 502,
   "id": "5911fa9e",
   "metadata": {
    "scrolled": true
   },
   "outputs": [
    {
     "data": {
      "text/plain": [
       "0       1.  subsection  retarded hungarians? ohh boy. ...\n",
       "1       1. > \"y'all hear sumn?\"   means  live   small ...\n",
       "2       1.   defenders  whatever     group    diverse ...\n",
       "3       1.   japanese  retarded  know  *fictional char...\n",
       "4       1.  might  true      example   whole segment  ...\n",
       "                              ...                        \n",
       "5015    1.    claim  *her people*? 2.  believe   refer...\n",
       "5016    1.   going  happen: broward  magically going  ...\n",
       "5017    1. oh boy...so  comes  long venting post   can...\n",
       "5018    1. op, stop   faggot  post videos next time.  ...\n",
       "5019    1.   20 minute long video, top hate  champagne...\n",
       "Name: text, Length: 5020, dtype: object"
      ]
     },
     "execution_count": 502,
     "metadata": {},
     "output_type": "execute_result"
    }
   ],
   "source": [
    "data['text']=data['text'].apply(stop_words_removal)\n",
    "data['text']"
   ]
  },
  {
   "cell_type": "markdown",
   "id": "5cefa4af",
   "metadata": {},
   "source": [
    "# Removing Punctuations"
   ]
  },
  {
   "cell_type": "markdown",
   "id": "05388fec",
   "metadata": {},
   "source": [
    "**When we are tokenizing the sentences, punctuations become different words, ‘for example Hello! how are you?’ \n",
    "when we tokenize it can become Hello , !, how ,are, you,? here punctuation marks are taken as different words. \n",
    "It adds complexity to the model by performing more operations to the code and punctuations does not attribute any meaning to the sentence.**"
   ]
  },
  {
   "cell_type": "code",
   "execution_count": 503,
   "id": "da7c9e64",
   "metadata": {},
   "outputs": [
    {
     "data": {
      "text/plain": [
       "'!\"#$%&\\'()*+,-./:;<=>?@[\\\\]^_`{|}~'"
      ]
     },
     "execution_count": 503,
     "metadata": {},
     "output_type": "execute_result"
    }
   ],
   "source": [
    "import string\n",
    "string.punctuation"
   ]
  },
  {
   "cell_type": "code",
   "execution_count": 504,
   "id": "0386c79e",
   "metadata": {},
   "outputs": [],
   "source": [
    "exclude=string.punctuation"
   ]
  },
  {
   "cell_type": "code",
   "execution_count": 505,
   "id": "84e79dec",
   "metadata": {},
   "outputs": [],
   "source": [
    "def remove_punc(text):\n",
    "    for char in exclude:\n",
    "        text=text.replace(char,'')\n",
    "    return text"
   ]
  },
  {
   "cell_type": "code",
   "execution_count": 506,
   "id": "b9c0d8c5",
   "metadata": {},
   "outputs": [],
   "source": [
    "data['text']=data['text'].apply(remove_punc)"
   ]
  },
  {
   "cell_type": "code",
   "execution_count": 507,
   "id": "514cb85f",
   "metadata": {
    "scrolled": false
   },
   "outputs": [
    {
     "data": {
      "text/html": [
       "<div>\n",
       "<style scoped>\n",
       "    .dataframe tbody tr th:only-of-type {\n",
       "        vertical-align: middle;\n",
       "    }\n",
       "\n",
       "    .dataframe tbody tr th {\n",
       "        vertical-align: top;\n",
       "    }\n",
       "\n",
       "    .dataframe thead th {\n",
       "        text-align: right;\n",
       "    }\n",
       "</style>\n",
       "<table border=\"1\" class=\"dataframe\">\n",
       "  <thead>\n",
       "    <tr style=\"text-align: right;\">\n",
       "      <th></th>\n",
       "      <th>id</th>\n",
       "      <th>text</th>\n",
       "      <th>hate_speech</th>\n",
       "    </tr>\n",
       "  </thead>\n",
       "  <tbody>\n",
       "    <tr>\n",
       "      <th>0</th>\n",
       "      <td>1. e8q18lf\\n2. \\te8q9w5s\\n3. \\t\\te8qbobk\\n4. \\...</td>\n",
       "      <td>1  subsection  retarded hungarians ohh boy bra...</td>\n",
       "      <td>1</td>\n",
       "    </tr>\n",
       "    <tr>\n",
       "      <th>1</th>\n",
       "      <td>1. e9c6naz\\n2. \\te9d03a5\\n3. \\t\\te9d8e4d\\n</td>\n",
       "      <td>1  yall hear sumn   means  live   small town r...</td>\n",
       "      <td>1</td>\n",
       "    </tr>\n",
       "    <tr>\n",
       "      <th>2</th>\n",
       "      <td>1. e84rl2i\\n2. \\te84w60l\\n3. \\t\\te8544rn\\n4. \\...</td>\n",
       "      <td>1   defenders  whatever     group    diverse g...</td>\n",
       "      <td>0</td>\n",
       "    </tr>\n",
       "    <tr>\n",
       "      <th>3</th>\n",
       "      <td>1. e7kq72n\\n2. \\te7m24ar\\n</td>\n",
       "      <td>1   japanese  retarded  know  fictional charac...</td>\n",
       "      <td>1</td>\n",
       "    </tr>\n",
       "    <tr>\n",
       "      <th>4</th>\n",
       "      <td>1. e7hdgoh\\n2. \\te7iyj6a\\n3. \\t\\te7j6iho\\n4. \\...</td>\n",
       "      <td>1  might  true      example   whole segment   ...</td>\n",
       "      <td>1</td>\n",
       "    </tr>\n",
       "    <tr>\n",
       "      <th>...</th>\n",
       "      <td>...</td>\n",
       "      <td>...</td>\n",
       "      <td>...</td>\n",
       "    </tr>\n",
       "    <tr>\n",
       "      <th>5015</th>\n",
       "      <td>1. e90fta8\\n2. \\te90g8px\\n3. \\t\\te90jlq5\\n4. \\...</td>\n",
       "      <td>1    claim  her people 2  believe   referring ...</td>\n",
       "      <td>1</td>\n",
       "    </tr>\n",
       "    <tr>\n",
       "      <th>5016</th>\n",
       "      <td>1. e9b7mn2\\n2. \\te9bv6ir\\n</td>\n",
       "      <td>1   going  happen broward  magically going  co...</td>\n",
       "      <td>0</td>\n",
       "    </tr>\n",
       "    <tr>\n",
       "      <th>5017</th>\n",
       "      <td>1. e7q8ilv\\n2. \\te7qddqq\\n3. \\t\\te7qstbc\\n4. \\...</td>\n",
       "      <td>1 oh boyso  comes  long venting post   can  wo...</td>\n",
       "      <td>1</td>\n",
       "    </tr>\n",
       "    <tr>\n",
       "      <th>5018</th>\n",
       "      <td>1. dwp8jut\\n</td>\n",
       "      <td>1 op stop   faggot  post videos next time   hard</td>\n",
       "      <td>1</td>\n",
       "    </tr>\n",
       "    <tr>\n",
       "      <th>5019</th>\n",
       "      <td>1. e76148j\\n2. \\te76uzdz\\n3. \\t\\te772r42\\n4. \\...</td>\n",
       "      <td>1   20 minute long video top hate  champagne g...</td>\n",
       "      <td>1</td>\n",
       "    </tr>\n",
       "  </tbody>\n",
       "</table>\n",
       "<p>5020 rows × 3 columns</p>\n",
       "</div>"
      ],
      "text/plain": [
       "                                                     id  \\\n",
       "0     1. e8q18lf\\n2. \\te8q9w5s\\n3. \\t\\te8qbobk\\n4. \\...   \n",
       "1            1. e9c6naz\\n2. \\te9d03a5\\n3. \\t\\te9d8e4d\\n   \n",
       "2     1. e84rl2i\\n2. \\te84w60l\\n3. \\t\\te8544rn\\n4. \\...   \n",
       "3                            1. e7kq72n\\n2. \\te7m24ar\\n   \n",
       "4     1. e7hdgoh\\n2. \\te7iyj6a\\n3. \\t\\te7j6iho\\n4. \\...   \n",
       "...                                                 ...   \n",
       "5015  1. e90fta8\\n2. \\te90g8px\\n3. \\t\\te90jlq5\\n4. \\...   \n",
       "5016                         1. e9b7mn2\\n2. \\te9bv6ir\\n   \n",
       "5017  1. e7q8ilv\\n2. \\te7qddqq\\n3. \\t\\te7qstbc\\n4. \\...   \n",
       "5018                                       1. dwp8jut\\n   \n",
       "5019  1. e76148j\\n2. \\te76uzdz\\n3. \\t\\te772r42\\n4. \\...   \n",
       "\n",
       "                                                   text hate_speech  \n",
       "0     1  subsection  retarded hungarians ohh boy bra...           1  \n",
       "1     1  yall hear sumn   means  live   small town r...           1  \n",
       "2     1   defenders  whatever     group    diverse g...           0  \n",
       "3     1   japanese  retarded  know  fictional charac...           1  \n",
       "4     1  might  true      example   whole segment   ...           1  \n",
       "...                                                 ...         ...  \n",
       "5015  1    claim  her people 2  believe   referring ...           1  \n",
       "5016  1   going  happen broward  magically going  co...           0  \n",
       "5017  1 oh boyso  comes  long venting post   can  wo...           1  \n",
       "5018   1 op stop   faggot  post videos next time   hard           1  \n",
       "5019  1   20 minute long video top hate  champagne g...           1  \n",
       "\n",
       "[5020 rows x 3 columns]"
      ]
     },
     "execution_count": 507,
     "metadata": {},
     "output_type": "execute_result"
    }
   ],
   "source": [
    "data"
   ]
  },
  {
   "cell_type": "markdown",
   "id": "3d42f20e",
   "metadata": {},
   "source": [
    "\n",
    "# Chat Word treatment"
   ]
  },
  {
   "cell_type": "markdown",
   "id": "ec8ff16e",
   "metadata": {},
   "source": [
    "**words like ROFL,LMAO,FYI,GD,ASAP, are found in chat messages of many social media platforms like WhatsApp, Instagram, Twitter.\n",
    "While summarizing the text, to understand the meaning of the word, these short words should be replaced with long forms.**"
   ]
  },
  {
   "cell_type": "code",
   "execution_count": 508,
   "id": "f028c419",
   "metadata": {},
   "outputs": [],
   "source": [
    "chat_words={'AFAIK': 'As Far As I Know',\n",
    "'AFK':'Away From Keyboard',\n",
    "'ASAP':'As Soon As Possible',\n",
    "'ATK':'At The Keyboard',\n",
    "'ATM':'At The Moment',\n",
    "'A3':'Anytime, Anywhere, Anyplace',\n",
    "'BAK':'Back At Keyboard',\n",
    "'BBL': 'Be Back Later',\n",
    "'BBS': 'Be Back Soon',\n",
    "'BFN': 'Bye For Now',\n",
    "'B4N': 'Bye For Now',\n",
    "'BRB': 'Be Right Back',\n",
    "'BRT': 'Be Right There',\n",
    "'BTW': 'By The Way',\n",
    "'B4': 'Before',\n",
    "'B4N': 'Bye For Now',\n",
    "'CU':'See You',\n",
    "'CUL8R':'See You Later',\n",
    "'CYA': 'See You',\n",
    "'FAQ': 'Frequently Asked Questions',\n",
    "'FC': 'Fingers Crossed',\n",
    "'FWIW': 'For What Its Worth',\n",
    "'FYI': 'For Your Information',\n",
    "'GAL': 'Get A Life',\n",
    "'GG': 'Good Game',\n",
    "'GN' : 'Good Night',\n",
    "'GMTA': 'Great Minds Think Alike',\n",
    "'GR8': 'Great!',\n",
    "'G9': 'Genius',\n",
    "'IC': 'I See',\n",
    "'ICQ': 'I Seek you (also a chat program)',\n",
    "'ILU': 'I Love You',\n",
    "'IMHO': 'In My Honest/Humble Opinion',\n",
    "'IMO':'In My Opinion',\n",
    "'IOW':'In Other Words',\n",
    "'IRL': 'In Real Life',\n",
    "'KISS':'Keep It Simple, Stupid',\n",
    "'LDR':'Long Distance Relationship',\n",
    "'LMAO':'Laugh My A.. Off',\n",
    "'LOL':'Laughing Out Loud',\n",
    "'LTNS': 'Long Time No See',\n",
    "'L8R': 'Later',\n",
    "'MTE': 'My Thoughts Exactly',\n",
    "'M8': 'Mate',\n",
    "'NRN': 'No Reply Necessary',\n",
    "'OIC':'Oh I See',\n",
    "'PITA':'Pain In The A..',\n",
    "'PRT': 'Party',\n",
    "'PRW':'Parents Are Watching',\n",
    "'QPSA':\t'Que Pasa?',\n",
    "'ROFL':'Rolling On The Floor Laughing',\n",
    "'ROFLOL': 'Rolling On The Floor Laughing Out Loud',\n",
    "'ROTFLMAO':'Rolling On The Floor Laughing My A.. Off',\n",
    "'SK8':'Skate',\n",
    "'STATS':'Your sex and age',\n",
    "'ASL':'Age, Sex, Location',\n",
    "'THX':'Thank You',\n",
    "'TTFN':'Ta-Ta For Now!',\n",
    "'TTYL':'Talk To You Later',\n",
    "'U':'You',\n",
    "'U2':'You Too',\n",
    "'U4E':'Yours For Ever',\n",
    "'WB':'Welcome Back',\n",
    "'WTF':'What The F...',\n",
    "'WTG':'Way To Go!',\n",
    "'WUF':'Where Are You From?',\n",
    "'W8':'Wait...',\n",
    "'7K':'Sick'}"
   ]
  },
  {
   "cell_type": "code",
   "execution_count": 509,
   "id": "f36538b8",
   "metadata": {},
   "outputs": [
    {
     "data": {
      "text/plain": [
       "'1   defenders  whatever     group    diverse group  since  know    blind dude  orphan  black man  woman     supporting cast  x200b  also believe   marvel stuff  going  get canceled  netflix  next year disney  launching   streaming platform  will want  many characters   can get  shows   2 inclusive   white 3 “harvard  working    inclusive” “oh  they’re accepting  students next year” “no  meant they’re literally  racist  asians” 👌 4 oh yeah   lawsuit going  benefit whites   long run unacceptable   view 5  anticaucasian litigation union 6 aclu   hate religion just christianity 7  never understood  sentiment   atheist bordering   titheist  dislike  theistic religions equally   religion  gets  pass   book  buddhism    got  long death list yet 8   hell   dislike christianity  islam equally   atheist  can live  openly antichristian life right    stilllargely christian nation thanks entirely   tolerance  peacefulness  christians    widely  aggressively oppressed  virtually  muslim majority country 9 christians  tolerant  paceful now   couple  centiuries  revolutions  started   french   influence  marxism     children    need  go  far  see examples    things muslim   now   difference    still havent    social changes inside  communities   lot  reasons and    them usually  regime ends crushed  european  american influence   anti reilligious  mean     list  religions   points  likability     one  simply  approve   them 10  apparently  don’t study    either    had you’d know   muchanticipated modern reformation  islam will never actually happen  i’m wasting  time   think marxism   positive influence   christian west   retarded last  checked atheists still need food lol 11 good answer  print   pin    wall  top unconstructive fallacies   internet'"
      ]
     },
     "execution_count": 509,
     "metadata": {},
     "output_type": "execute_result"
    }
   ],
   "source": [
    "data['text'][2]"
   ]
  },
  {
   "cell_type": "code",
   "execution_count": 510,
   "id": "5fea110a",
   "metadata": {},
   "outputs": [],
   "source": [
    "def chat_word(text):\n",
    "    new_text=[]\n",
    "    for word in text.split():\n",
    "        if word.upper() in chat_words:\n",
    "            new_text.append(chat_words[word.upper()])\n",
    "        else:\n",
    "            new_text.append(word)\n",
    "            \n",
    "    return \" \".join(new_text)"
   ]
  },
  {
   "cell_type": "code",
   "execution_count": 511,
   "id": "44b3cec5",
   "metadata": {},
   "outputs": [
    {
     "data": {
      "text/html": [
       "<div>\n",
       "<style scoped>\n",
       "    .dataframe tbody tr th:only-of-type {\n",
       "        vertical-align: middle;\n",
       "    }\n",
       "\n",
       "    .dataframe tbody tr th {\n",
       "        vertical-align: top;\n",
       "    }\n",
       "\n",
       "    .dataframe thead th {\n",
       "        text-align: right;\n",
       "    }\n",
       "</style>\n",
       "<table border=\"1\" class=\"dataframe\">\n",
       "  <thead>\n",
       "    <tr style=\"text-align: right;\">\n",
       "      <th></th>\n",
       "      <th>id</th>\n",
       "      <th>text</th>\n",
       "      <th>hate_speech</th>\n",
       "    </tr>\n",
       "  </thead>\n",
       "  <tbody>\n",
       "    <tr>\n",
       "      <th>0</th>\n",
       "      <td>1. e8q18lf\\n2. \\te8q9w5s\\n3. \\t\\te8qbobk\\n4. \\...</td>\n",
       "      <td>1 subsection retarded hungarians ohh boy brace...</td>\n",
       "      <td>1</td>\n",
       "    </tr>\n",
       "    <tr>\n",
       "      <th>1</th>\n",
       "      <td>1. e9c6naz\\n2. \\te9d03a5\\n3. \\t\\te9d8e4d\\n</td>\n",
       "      <td>1 yall hear sumn means live small town rn for ...</td>\n",
       "      <td>1</td>\n",
       "    </tr>\n",
       "    <tr>\n",
       "      <th>2</th>\n",
       "      <td>1. e84rl2i\\n2. \\te84w60l\\n3. \\t\\te8544rn\\n4. \\...</td>\n",
       "      <td>1 defenders whatever group diverse group since...</td>\n",
       "      <td>0</td>\n",
       "    </tr>\n",
       "    <tr>\n",
       "      <th>3</th>\n",
       "      <td>1. e7kq72n\\n2. \\te7m24ar\\n</td>\n",
       "      <td>1 japanese retarded know fictional characters ...</td>\n",
       "      <td>1</td>\n",
       "    </tr>\n",
       "    <tr>\n",
       "      <th>4</th>\n",
       "      <td>1. e7hdgoh\\n2. \\te7iyj6a\\n3. \\t\\te7j6iho\\n4. \\...</td>\n",
       "      <td>1 might true example whole segment us populati...</td>\n",
       "      <td>1</td>\n",
       "    </tr>\n",
       "    <tr>\n",
       "      <th>...</th>\n",
       "      <td>...</td>\n",
       "      <td>...</td>\n",
       "      <td>...</td>\n",
       "    </tr>\n",
       "    <tr>\n",
       "      <th>5015</th>\n",
       "      <td>1. e90fta8\\n2. \\te90g8px\\n3. \\t\\te90jlq5\\n4. \\...</td>\n",
       "      <td>1 claim her people 2 believe referring synagog...</td>\n",
       "      <td>1</td>\n",
       "    </tr>\n",
       "    <tr>\n",
       "      <th>5016</th>\n",
       "      <td>1. e9b7mn2\\n2. \\te9bv6ir\\n</td>\n",
       "      <td>1 going happen broward magically going come en...</td>\n",
       "      <td>0</td>\n",
       "    </tr>\n",
       "    <tr>\n",
       "      <th>5017</th>\n",
       "      <td>1. e7q8ilv\\n2. \\te7qddqq\\n3. \\t\\te7qstbc\\n4. \\...</td>\n",
       "      <td>1 oh boyso comes long venting post can worms e...</td>\n",
       "      <td>1</td>\n",
       "    </tr>\n",
       "    <tr>\n",
       "      <th>5018</th>\n",
       "      <td>1. dwp8jut\\n</td>\n",
       "      <td>1 op stop faggot post videos next time hard</td>\n",
       "      <td>1</td>\n",
       "    </tr>\n",
       "    <tr>\n",
       "      <th>5019</th>\n",
       "      <td>1. e76148j\\n2. \\te76uzdz\\n3. \\t\\te772r42\\n4. \\...</td>\n",
       "      <td>1 20 minute long video top hate champagne goes...</td>\n",
       "      <td>1</td>\n",
       "    </tr>\n",
       "  </tbody>\n",
       "</table>\n",
       "<p>5020 rows × 3 columns</p>\n",
       "</div>"
      ],
      "text/plain": [
       "                                                     id  \\\n",
       "0     1. e8q18lf\\n2. \\te8q9w5s\\n3. \\t\\te8qbobk\\n4. \\...   \n",
       "1            1. e9c6naz\\n2. \\te9d03a5\\n3. \\t\\te9d8e4d\\n   \n",
       "2     1. e84rl2i\\n2. \\te84w60l\\n3. \\t\\te8544rn\\n4. \\...   \n",
       "3                            1. e7kq72n\\n2. \\te7m24ar\\n   \n",
       "4     1. e7hdgoh\\n2. \\te7iyj6a\\n3. \\t\\te7j6iho\\n4. \\...   \n",
       "...                                                 ...   \n",
       "5015  1. e90fta8\\n2. \\te90g8px\\n3. \\t\\te90jlq5\\n4. \\...   \n",
       "5016                         1. e9b7mn2\\n2. \\te9bv6ir\\n   \n",
       "5017  1. e7q8ilv\\n2. \\te7qddqq\\n3. \\t\\te7qstbc\\n4. \\...   \n",
       "5018                                       1. dwp8jut\\n   \n",
       "5019  1. e76148j\\n2. \\te76uzdz\\n3. \\t\\te772r42\\n4. \\...   \n",
       "\n",
       "                                                   text hate_speech  \n",
       "0     1 subsection retarded hungarians ohh boy brace...           1  \n",
       "1     1 yall hear sumn means live small town rn for ...           1  \n",
       "2     1 defenders whatever group diverse group since...           0  \n",
       "3     1 japanese retarded know fictional characters ...           1  \n",
       "4     1 might true example whole segment us populati...           1  \n",
       "...                                                 ...         ...  \n",
       "5015  1 claim her people 2 believe referring synagog...           1  \n",
       "5016  1 going happen broward magically going come en...           0  \n",
       "5017  1 oh boyso comes long venting post can worms e...           1  \n",
       "5018        1 op stop faggot post videos next time hard           1  \n",
       "5019  1 20 minute long video top hate champagne goes...           1  \n",
       "\n",
       "[5020 rows x 3 columns]"
      ]
     },
     "execution_count": 511,
     "metadata": {},
     "output_type": "execute_result"
    }
   ],
   "source": [
    "data['text']=data['text'].apply(chat_word)\n",
    "data"
   ]
  },
  {
   "cell_type": "code",
   "execution_count": 512,
   "id": "e572a140",
   "metadata": {
    "scrolled": true
   },
   "outputs": [
    {
     "data": {
      "text/plain": [
       "'1 defenders whatever group diverse group since know blind dude orphan black man woman supporting cast x200b also believe marvel stuff going get canceled netflix next year disney launching streaming platform will want many characters can get shows 2 inclusive white 3 “harvard working inclusive” “oh they’re accepting students next year” “no meant they’re literally racist asians” 👌 4 oh yeah lawsuit going benefit whites long run unacceptable view 5 anticaucasian litigation union 6 aclu hate religion just christianity 7 never understood sentiment atheist bordering titheist dislike theistic religions equally religion gets pass book buddhism got long death list yet 8 hell dislike christianity islam equally atheist can live openly antichristian life right stilllargely christian nation thanks entirely tolerance peacefulness christians widely aggressively oppressed virtually muslim majority country 9 christians tolerant paceful now couple centiuries revolutions started french influence marxism children need go far see examples things muslim now difference still havent social changes inside communities lot reasons and them usually regime ends crushed european american influence anti reilligious mean list religions points likability one simply approve them 10 apparently don’t study either had you’d know muchanticipated modern reformation islam will never actually happen i’m wasting time think marxism positive influence christian west retarded last checked atheists still need food Laughing Out Loud 11 good answer print pin wall top unconstructive fallacies internet'"
      ]
     },
     "execution_count": 512,
     "metadata": {},
     "output_type": "execute_result"
    }
   ],
   "source": [
    "data['text'][2]"
   ]
  },
  {
   "cell_type": "markdown",
   "id": "5fd40e81",
   "metadata": {},
   "source": [
    "# Handling emoji’s"
   ]
  },
  {
   "cell_type": "markdown",
   "id": "ff8f1b6a",
   "metadata": {},
   "source": [
    "**While analyzing chatting messages, for text classification or sentiment analysis, emoji’s particularly have a meaning, we can replace emoji expression with their corresponding meaning. \n",
    "If our problem statement does not have anything to do with sentiments or feelings,we can remove them.**"
   ]
  },
  {
   "cell_type": "code",
   "execution_count": 513,
   "id": "306c2dbf",
   "metadata": {},
   "outputs": [],
   "source": [
    "import re\n",
    "def emoji_removal(text):\n",
    "    emoji_pattern = re.compile(\"[\"\n",
    "                           u\"\\U0001F600-\\U0001F64F\"  # emoticons\n",
    "                           u\"\\U0001F300-\\U0001F5FF\"  # symbols & pictographs\n",
    "                           u\"\\U0001F680-\\U0001F6FF\"  # transport & map symbols\n",
    "                           u\"\\U0001F1E0-\\U0001F1FF\"  # flags (iOS)\n",
    "                           u\"\\U00002702-\\U000027B0\"\n",
    "                           u\"\\U000024C2-\\U0001F251\"\n",
    "                           \"]+\", flags=re.UNICODE)\n",
    "    return emoji_pattern.sub(r'', text)"
   ]
  },
  {
   "cell_type": "code",
   "execution_count": 514,
   "id": "b9fc0314",
   "metadata": {},
   "outputs": [],
   "source": [
    "data['text']=data['text'].apply(emoji_removal)"
   ]
  },
  {
   "cell_type": "code",
   "execution_count": 515,
   "id": "f3e6c1db",
   "metadata": {
    "scrolled": false
   },
   "outputs": [
    {
     "data": {
      "text/plain": [
       "'1 defenders whatever group diverse group since know blind dude orphan black man woman supporting cast x200b also believe marvel stuff going get canceled netflix next year disney launching streaming platform will want many characters can get shows 2 inclusive white 3 “harvard working inclusive” “oh they’re accepting students next year” “no meant they’re literally racist asians”  4 oh yeah lawsuit going benefit whites long run unacceptable view 5 anticaucasian litigation union 6 aclu hate religion just christianity 7 never understood sentiment atheist bordering titheist dislike theistic religions equally religion gets pass book buddhism got long death list yet 8 hell dislike christianity islam equally atheist can live openly antichristian life right stilllargely christian nation thanks entirely tolerance peacefulness christians widely aggressively oppressed virtually muslim majority country 9 christians tolerant paceful now couple centiuries revolutions started french influence marxism children need go far see examples things muslim now difference still havent social changes inside communities lot reasons and them usually regime ends crushed european american influence anti reilligious mean list religions points likability one simply approve them 10 apparently don’t study either had you’d know muchanticipated modern reformation islam will never actually happen i’m wasting time think marxism positive influence christian west retarded last checked atheists still need food Laughing Out Loud 11 good answer print pin wall top unconstructive fallacies internet'"
      ]
     },
     "execution_count": 515,
     "metadata": {},
     "output_type": "execute_result"
    }
   ],
   "source": [
    "data['text'][2]"
   ]
  },
  {
   "cell_type": "markdown",
   "id": "ec554703",
   "metadata": {},
   "source": [
    "# Tokenization"
   ]
  },
  {
   "cell_type": "markdown",
   "id": "ebfebb6a",
   "metadata": {},
   "source": [
    "**Breaking the text into sentences and words, we understand context of the text and\n",
    "we can also the find the topic of the text and many more.**"
   ]
  },
  {
   "cell_type": "code",
   "execution_count": 516,
   "id": "54711aca",
   "metadata": {},
   "outputs": [],
   "source": [
    "from nltk.tokenize import word_tokenize"
   ]
  },
  {
   "cell_type": "code",
   "execution_count": 517,
   "id": "24ffc26c",
   "metadata": {},
   "outputs": [
    {
     "name": "stderr",
     "output_type": "stream",
     "text": [
      "[nltk_data] Downloading package punkt to\n",
      "[nltk_data]     C:\\Users\\USER\\AppData\\Roaming\\nltk_data...\n",
      "[nltk_data]   Package punkt is already up-to-date!\n"
     ]
    },
    {
     "data": {
      "text/plain": [
       "True"
      ]
     },
     "execution_count": 517,
     "metadata": {},
     "output_type": "execute_result"
    }
   ],
   "source": [
    "import nltk\n",
    "nltk.download('punkt')"
   ]
  },
  {
   "cell_type": "code",
   "execution_count": 518,
   "id": "4da7f28a",
   "metadata": {
    "scrolled": false
   },
   "outputs": [],
   "source": [
    "data['text']=data['text'].apply(word_tokenize)"
   ]
  },
  {
   "cell_type": "code",
   "execution_count": 519,
   "id": "b73e1f11",
   "metadata": {},
   "outputs": [
    {
     "data": {
      "text/plain": [
       "0       [1, subsection, retarded, hungarians, ohh, boy...\n",
       "1       [1, yall, hear, sumn, means, live, small, town...\n",
       "2       [1, defenders, whatever, group, diverse, group...\n",
       "3       [1, japanese, retarded, know, fictional, chara...\n",
       "4       [1, might, true, example, whole, segment, us, ...\n",
       "                              ...                        \n",
       "5015    [1, claim, her, people, 2, believe, referring,...\n",
       "5016    [1, going, happen, broward, magically, going, ...\n",
       "5017    [1, oh, boyso, comes, long, venting, post, can...\n",
       "5018    [1, op, stop, faggot, post, videos, next, time...\n",
       "5019    [1, 20, minute, long, video, top, hate, champa...\n",
       "Name: text, Length: 5020, dtype: object"
      ]
     },
     "execution_count": 519,
     "metadata": {},
     "output_type": "execute_result"
    }
   ],
   "source": [
    "data['text']"
   ]
  },
  {
   "cell_type": "markdown",
   "id": "9ec4ceff",
   "metadata": {},
   "source": [
    "# Stemming"
   ]
  },
  {
   "cell_type": "markdown",
   "id": "f7c8fdd2",
   "metadata": {},
   "source": [
    "**Stemming is the process of reducing inflection in words to their root forms such as mapping a group of words to the same stem even if the stem itself is not a valid word in the Language.\n",
    "Inflection is the modification of a word to express different grammatical categories such as tense, voice, aspect, person, gender and mood.\n",
    "In stemming, inflection is not cared much, other than the reducing the word to its stem.**"
   ]
  },
  {
   "cell_type": "code",
   "execution_count": 520,
   "id": "63ad029c",
   "metadata": {},
   "outputs": [],
   "source": [
    "from nltk.stem import SnowballStemmer\n",
    "stemmer = SnowballStemmer(language='english')\n"
   ]
  },
  {
   "cell_type": "code",
   "execution_count": 521,
   "id": "e77332df",
   "metadata": {},
   "outputs": [],
   "source": [
    "data['text'] = data['text'].apply(lambda x: [stemmer.stem(y) for y in x]) "
   ]
  },
  {
   "cell_type": "code",
   "execution_count": 522,
   "id": "0149df79",
   "metadata": {
    "scrolled": true
   },
   "outputs": [
    {
     "data": {
      "text/plain": [
       "['1',\n",
       " 'defend',\n",
       " 'whatev',\n",
       " 'group',\n",
       " 'divers',\n",
       " 'group',\n",
       " 'sinc',\n",
       " 'know',\n",
       " 'blind',\n",
       " 'dude',\n",
       " 'orphan',\n",
       " 'black',\n",
       " 'man',\n",
       " 'woman',\n",
       " 'support',\n",
       " 'cast',\n",
       " 'x200b',\n",
       " 'also',\n",
       " 'believ',\n",
       " 'marvel',\n",
       " 'stuff',\n",
       " 'go',\n",
       " 'get',\n",
       " 'cancel',\n",
       " 'netflix',\n",
       " 'next',\n",
       " 'year',\n",
       " 'disney',\n",
       " 'launch',\n",
       " 'stream',\n",
       " 'platform',\n",
       " 'will',\n",
       " 'want',\n",
       " 'mani',\n",
       " 'charact',\n",
       " 'can',\n",
       " 'get',\n",
       " 'show',\n",
       " '2',\n",
       " 'inclus',\n",
       " 'white',\n",
       " '3',\n",
       " '“',\n",
       " 'harvard',\n",
       " 'work',\n",
       " 'inclus',\n",
       " '”',\n",
       " '“',\n",
       " 'oh',\n",
       " 'they',\n",
       " '’',\n",
       " 're',\n",
       " 'accept',\n",
       " 'student',\n",
       " 'next',\n",
       " 'year',\n",
       " '”',\n",
       " '“',\n",
       " 'no',\n",
       " 'meant',\n",
       " 'they',\n",
       " '’',\n",
       " 're',\n",
       " 'liter',\n",
       " 'racist',\n",
       " 'asian',\n",
       " '”',\n",
       " '4',\n",
       " 'oh',\n",
       " 'yeah',\n",
       " 'lawsuit',\n",
       " 'go',\n",
       " 'benefit',\n",
       " 'white',\n",
       " 'long',\n",
       " 'run',\n",
       " 'unaccept',\n",
       " 'view',\n",
       " '5',\n",
       " 'anticaucasian',\n",
       " 'litig',\n",
       " 'union',\n",
       " '6',\n",
       " 'aclu',\n",
       " 'hate',\n",
       " 'religion',\n",
       " 'just',\n",
       " 'christian',\n",
       " '7',\n",
       " 'never',\n",
       " 'understood',\n",
       " 'sentiment',\n",
       " 'atheist',\n",
       " 'border',\n",
       " 'titheist',\n",
       " 'dislik',\n",
       " 'theistic',\n",
       " 'religion',\n",
       " 'equal',\n",
       " 'religion',\n",
       " 'get',\n",
       " 'pass',\n",
       " 'book',\n",
       " 'buddhism',\n",
       " 'got',\n",
       " 'long',\n",
       " 'death',\n",
       " 'list',\n",
       " 'yet',\n",
       " '8',\n",
       " 'hell',\n",
       " 'dislik',\n",
       " 'christian',\n",
       " 'islam',\n",
       " 'equal',\n",
       " 'atheist',\n",
       " 'can',\n",
       " 'live',\n",
       " 'open',\n",
       " 'antichristian',\n",
       " 'life',\n",
       " 'right',\n",
       " 'stilllarg',\n",
       " 'christian',\n",
       " 'nation',\n",
       " 'thank',\n",
       " 'entir',\n",
       " 'toler',\n",
       " 'peac',\n",
       " 'christian',\n",
       " 'wide',\n",
       " 'aggress',\n",
       " 'oppress',\n",
       " 'virtual',\n",
       " 'muslim',\n",
       " 'major',\n",
       " 'countri',\n",
       " '9',\n",
       " 'christian',\n",
       " 'toler',\n",
       " 'pace',\n",
       " 'now',\n",
       " 'coupl',\n",
       " 'centiuri',\n",
       " 'revolut',\n",
       " 'start',\n",
       " 'french',\n",
       " 'influenc',\n",
       " 'marxism',\n",
       " 'children',\n",
       " 'need',\n",
       " 'go',\n",
       " 'far',\n",
       " 'see',\n",
       " 'exampl',\n",
       " 'thing',\n",
       " 'muslim',\n",
       " 'now',\n",
       " 'differ',\n",
       " 'still',\n",
       " 'havent',\n",
       " 'social',\n",
       " 'chang',\n",
       " 'insid',\n",
       " 'communiti',\n",
       " 'lot',\n",
       " 'reason',\n",
       " 'and',\n",
       " 'them',\n",
       " 'usual',\n",
       " 'regim',\n",
       " 'end',\n",
       " 'crush',\n",
       " 'european',\n",
       " 'american',\n",
       " 'influenc',\n",
       " 'anti',\n",
       " 'reilligi',\n",
       " 'mean',\n",
       " 'list',\n",
       " 'religion',\n",
       " 'point',\n",
       " 'likabl',\n",
       " 'one',\n",
       " 'simpli',\n",
       " 'approv',\n",
       " 'them',\n",
       " '10',\n",
       " 'appar',\n",
       " 'don',\n",
       " '’',\n",
       " 't',\n",
       " 'studi',\n",
       " 'either',\n",
       " 'had',\n",
       " 'you',\n",
       " '’',\n",
       " 'd',\n",
       " 'know',\n",
       " 'muchanticip',\n",
       " 'modern',\n",
       " 'reform',\n",
       " 'islam',\n",
       " 'will',\n",
       " 'never',\n",
       " 'actual',\n",
       " 'happen',\n",
       " 'i',\n",
       " '’',\n",
       " 'm',\n",
       " 'wast',\n",
       " 'time',\n",
       " 'think',\n",
       " 'marxism',\n",
       " 'posit',\n",
       " 'influenc',\n",
       " 'christian',\n",
       " 'west',\n",
       " 'retard',\n",
       " 'last',\n",
       " 'check',\n",
       " 'atheist',\n",
       " 'still',\n",
       " 'need',\n",
       " 'food',\n",
       " 'laugh',\n",
       " 'out',\n",
       " 'loud',\n",
       " '11',\n",
       " 'good',\n",
       " 'answer',\n",
       " 'print',\n",
       " 'pin',\n",
       " 'wall',\n",
       " 'top',\n",
       " 'unconstruct',\n",
       " 'fallaci',\n",
       " 'internet']"
      ]
     },
     "execution_count": 522,
     "metadata": {},
     "output_type": "execute_result"
    }
   ],
   "source": [
    "data['text'][2]"
   ]
  },
  {
   "cell_type": "markdown",
   "id": "b1052207",
   "metadata": {},
   "source": [
    "# Lemmatization"
   ]
  },
  {
   "cell_type": "markdown",
   "id": "46bfbd85",
   "metadata": {},
   "source": [
    "**Lemmatization unlike stemming reduces inflected words properly ensuring that the root word belongs to the language.\n",
    "In the lemmatization root word is called lemma.**"
   ]
  },
  {
   "cell_type": "code",
   "execution_count": 523,
   "id": "e11e34b7",
   "metadata": {},
   "outputs": [
    {
     "name": "stderr",
     "output_type": "stream",
     "text": [
      "[nltk_data] Downloading package wordnet to\n",
      "[nltk_data]     C:\\Users\\USER\\AppData\\Roaming\\nltk_data...\n",
      "[nltk_data]   Package wordnet is already up-to-date!\n"
     ]
    },
    {
     "data": {
      "text/plain": [
       "True"
      ]
     },
     "execution_count": 523,
     "metadata": {},
     "output_type": "execute_result"
    }
   ],
   "source": [
    "nltk.download('wordnet')"
   ]
  },
  {
   "cell_type": "code",
   "execution_count": 536,
   "id": "ea5c73e4",
   "metadata": {},
   "outputs": [],
   "source": [
    "from nltk.stem import WordNetLemmatizer\n",
    "wnl=WordNetLemmatizer()\n",
    "def lemmatizing(text):\n",
    "    return \" \".join([wnl.lemmatize(word,pos='v') for word in text.split('  ')])\n"
   ]
  },
  {
   "cell_type": "code",
   "execution_count": 537,
   "id": "122a380b",
   "metadata": {},
   "outputs": [],
   "source": [
    "data['text']=data['text'].apply(lemmatizing)"
   ]
  },
  {
   "cell_type": "code",
   "execution_count": 538,
   "id": "e1921281",
   "metadata": {},
   "outputs": [
    {
     "data": {
      "text/plain": [
       "'1 defend whatev group divers group sinc know blind dude orphan black man woman support cast x200b also believ marvel stuff go get cancel netflix next year disney launch stream platform will want mani charact can get show 2 inclus white 3 “ harvard work inclus ” “ oh they ’ re accept student next year ” “ no mean they ’ re liter racist asian ” 4 oh yeah lawsuit go benefit white long run unaccept view 5 anticaucasian litig union 6 aclu hate religion just christian 7 never understand sentiment atheist border titheist dislik theistic religion equal religion get pass book buddhism get long death list yet 8 hell dislik christian islam equal atheist can live open antichristian life right stilllarg christian nation thank entir toler peac christian wide aggress oppress virtual muslim major countri 9 christian toler pace now coupl centiuri revolut start french influenc marxism children need go far see exampl thing muslim now differ still havent social chang insid communiti lot reason and them usual regim end crush european american influenc anti reilligi mean list religion point likabl one simpli approv them 10 appar don ’ t studi either have you ’ d know muchanticip modern reform islam will never actual happen i ’ m wast time think marxism posit influenc christian west retard last check atheist still need food laugh out loud 11 good answer print pin wall top unconstruct fallaci internet'"
      ]
     },
     "execution_count": 538,
     "metadata": {},
     "output_type": "execute_result"
    }
   ],
   "source": [
    "data['text'][2]"
   ]
  },
  {
   "cell_type": "code",
   "execution_count": null,
   "id": "85e2508f",
   "metadata": {},
   "outputs": [],
   "source": []
  }
 ],
 "metadata": {
  "kernelspec": {
   "display_name": "Python 3 (ipykernel)",
   "language": "python",
   "name": "python3"
  },
  "language_info": {
   "codemirror_mode": {
    "name": "ipython",
    "version": 3
   },
   "file_extension": ".py",
   "mimetype": "text/x-python",
   "name": "python",
   "nbconvert_exporter": "python",
   "pygments_lexer": "ipython3",
   "version": "3.11.5"
  }
 },
 "nbformat": 4,
 "nbformat_minor": 5
}
